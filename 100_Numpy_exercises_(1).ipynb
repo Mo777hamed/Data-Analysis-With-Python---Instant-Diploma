{
  "cells": [
    {
      "cell_type": "markdown",
      "id": "3c1222ff",
      "metadata": {
        "id": "3c1222ff"
      },
      "source": [
        "#### 1. Import the numpy package under the name `np` (★☆☆)"
      ]
    },
    {
      "cell_type": "code",
      "execution_count": 1,
      "id": "f52e6a0b",
      "metadata": {
        "id": "f52e6a0b"
      },
      "outputs": [],
      "source": [
        "import numpy as np"
      ]
    },
    {
      "cell_type": "markdown",
      "id": "9d9f4753",
      "metadata": {
        "id": "9d9f4753"
      },
      "source": [
        "#### 2. Print the numpy version and the configuration (★☆☆)"
      ]
    },
    {
      "cell_type": "code",
      "execution_count": null,
      "id": "b7fa5fa1",
      "metadata": {
        "id": "b7fa5fa1",
        "colab": {
          "base_uri": "https://localhost:8080/",
          "height": 35
        },
        "outputId": "5fa4b1c7-0a32-4afd-ffe0-f14f5cec9c1c"
      },
      "outputs": [
        {
          "output_type": "execute_result",
          "data": {
            "text/plain": [
              "'1.23.5'"
            ],
            "application/vnd.google.colaboratory.intrinsic+json": {
              "type": "string"
            }
          },
          "metadata": {},
          "execution_count": 2
        }
      ],
      "source": [
        "np.__version__"
      ]
    },
    {
      "cell_type": "markdown",
      "id": "3e4c23c6",
      "metadata": {
        "id": "3e4c23c6"
      },
      "source": [
        "#### 3. Create a null vector of size 10 (★☆☆)"
      ]
    },
    {
      "cell_type": "code",
      "execution_count": null,
      "id": "083c5c46",
      "metadata": {
        "id": "083c5c46",
        "colab": {
          "base_uri": "https://localhost:8080/"
        },
        "outputId": "f82eba18-f2af-4ecc-fdaa-1791fc91da4a"
      },
      "outputs": [
        {
          "output_type": "execute_result",
          "data": {
            "text/plain": [
              "array([5.05528123e-310, 0.00000000e+000, 0.00000000e+000, 0.00000000e+000,\n",
              "       0.00000000e+000, 6.64108274e-066, 1.16188963e+165, 5.28206026e-091,\n",
              "       1.10618148e-046, 4.34243033e-315])"
            ]
          },
          "metadata": {},
          "execution_count": 2
        }
      ],
      "source": [
        "np.empty(10)"
      ]
    },
    {
      "cell_type": "markdown",
      "id": "c38bbe82",
      "metadata": {
        "id": "c38bbe82"
      },
      "source": [
        "#### 4. How to find the memory size of any array (★☆☆)"
      ]
    },
    {
      "cell_type": "code",
      "execution_count": null,
      "id": "02b04021",
      "metadata": {
        "id": "02b04021",
        "colab": {
          "base_uri": "https://localhost:8080/"
        },
        "outputId": "5de5afe7-f157-435a-b70f-7d85b4c8e2a9"
      },
      "outputs": [
        {
          "output_type": "execute_result",
          "data": {
            "text/plain": [
              "80"
            ]
          },
          "metadata": {},
          "execution_count": 3
        }
      ],
      "source": [
        "np.empty(10).size * np.empty(10).itemsize\n",
        "np.empty(10).nbytes"
      ]
    },
    {
      "cell_type": "markdown",
      "id": "67f893d4",
      "metadata": {
        "id": "67f893d4"
      },
      "source": [
        "#### 5. How to get the documentation of the numpy add function from the command line? (★☆☆)"
      ]
    },
    {
      "cell_type": "code",
      "execution_count": null,
      "id": "40e6b70d",
      "metadata": {
        "id": "40e6b70d"
      },
      "outputs": [],
      "source": [
        "np.add?"
      ]
    },
    {
      "cell_type": "markdown",
      "id": "e0c739c6",
      "metadata": {
        "id": "e0c739c6"
      },
      "source": [
        "#### 6. Create a null vector of size 10 but the fifth value which is 1 (★☆☆)"
      ]
    },
    {
      "cell_type": "code",
      "execution_count": null,
      "id": "bcceacf7",
      "metadata": {
        "id": "bcceacf7",
        "colab": {
          "base_uri": "https://localhost:8080/"
        },
        "outputId": "7577d2b4-7e94-42dd-fca0-b4cc9d56794e"
      },
      "outputs": [
        {
          "output_type": "execute_result",
          "data": {
            "text/plain": [
              "array([None, None, None, None, 1, None, None, None, None, None],\n",
              "      dtype=object)"
            ]
          },
          "metadata": {},
          "execution_count": 5
        }
      ],
      "source": [
        "arr = np.full(10 , fill_value = None)\n",
        "arr[4] = 1\n",
        "arr"
      ]
    },
    {
      "cell_type": "markdown",
      "id": "fbebedab",
      "metadata": {
        "id": "fbebedab"
      },
      "source": [
        "#### 7. Create a vector with values ranging from 10 to 49 (★☆☆)"
      ]
    },
    {
      "cell_type": "code",
      "execution_count": null,
      "id": "3d117d54",
      "metadata": {
        "id": "3d117d54",
        "colab": {
          "base_uri": "https://localhost:8080/"
        },
        "outputId": "1839538b-ec61-4f97-9139-963b577d99f3"
      },
      "outputs": [
        {
          "output_type": "execute_result",
          "data": {
            "text/plain": [
              "array([18, 28, 12, 11, 27, 22, 46, 31, 15, 26, 25, 27])"
            ]
          },
          "metadata": {},
          "execution_count": 7
        }
      ],
      "source": [
        "arr = np.random.randint(10,49,12)\n",
        "arr"
      ]
    },
    {
      "cell_type": "markdown",
      "id": "ad0bff02",
      "metadata": {
        "id": "ad0bff02"
      },
      "source": [
        "#### 8. Reverse a vector (first element becomes last) (★☆☆)"
      ]
    },
    {
      "cell_type": "code",
      "execution_count": null,
      "id": "22d23470",
      "metadata": {
        "id": "22d23470",
        "colab": {
          "base_uri": "https://localhost:8080/"
        },
        "outputId": "9f7f06c0-e7ba-45a2-b6d7-62e3479110c7"
      },
      "outputs": [
        {
          "output_type": "stream",
          "name": "stdout",
          "text": [
            "The original vector is [1 2 3 4 5 6 7 8]\n",
            "The reversed vector is [8 2 3 4 5 6 7 1]\n"
          ]
        }
      ],
      "source": [
        "arr = np.array([1,2,3,4,5,6,7,8])\n",
        "print(f\"The original vector is {arr}\")\n",
        "arr[0] , arr[-1] = arr[-1] , arr[0]\n",
        "print(f\"The reversed vector is {arr}\")"
      ]
    },
    {
      "cell_type": "markdown",
      "id": "9f59d7e1",
      "metadata": {
        "id": "9f59d7e1"
      },
      "source": [
        "#### 9. Create a 3x3 matrix with values ranging from 0 to 8 (★☆☆)"
      ]
    },
    {
      "cell_type": "code",
      "execution_count": null,
      "id": "7449e82d",
      "metadata": {
        "id": "7449e82d",
        "colab": {
          "base_uri": "https://localhost:8080/"
        },
        "outputId": "674b76cc-6096-4568-8d50-4272d5dbfe1a"
      },
      "outputs": [
        {
          "output_type": "execute_result",
          "data": {
            "text/plain": [
              "array([[6, 1, 1],\n",
              "       [0, 4, 5],\n",
              "       [0, 0, 7]])"
            ]
          },
          "metadata": {},
          "execution_count": 10
        }
      ],
      "source": [
        "arr = np.random.randint(0,8,9).reshape(3,3)\n",
        "arr"
      ]
    },
    {
      "cell_type": "markdown",
      "id": "f374c4cf",
      "metadata": {
        "id": "f374c4cf"
      },
      "source": [
        "#### 10. Find indices of non-zero elements from [1,2,0,0,4,0] (★☆☆)"
      ]
    },
    {
      "cell_type": "code",
      "execution_count": null,
      "id": "1a84bed8",
      "metadata": {
        "id": "1a84bed8",
        "colab": {
          "base_uri": "https://localhost:8080/"
        },
        "outputId": "2f081b91-bf70-4560-b9e8-68d18e6aca45"
      },
      "outputs": [
        {
          "output_type": "execute_result",
          "data": {
            "text/plain": [
              "(array([2, 3, 5]),)"
            ]
          },
          "metadata": {},
          "execution_count": 12
        }
      ],
      "source": [
        "arr = np.array([1,2,0,0,4,0])\n",
        "np.where(arr == 0)\n",
        "#np.nonzero(np.array([1,2,0,0,4,0]))"
      ]
    },
    {
      "cell_type": "markdown",
      "id": "9c4707f5",
      "metadata": {
        "id": "9c4707f5"
      },
      "source": [
        "#### 11. Create a 3x3 identity matrix (★☆☆)"
      ]
    },
    {
      "cell_type": "code",
      "execution_count": null,
      "id": "29dc1fd3",
      "metadata": {
        "id": "29dc1fd3",
        "colab": {
          "base_uri": "https://localhost:8080/"
        },
        "outputId": "96a6a938-aed5-4d55-d0fb-097a8db98a5c"
      },
      "outputs": [
        {
          "output_type": "execute_result",
          "data": {
            "text/plain": [
              "array([[1., 0., 0.],\n",
              "       [0., 1., 0.],\n",
              "       [0., 0., 1.]])"
            ]
          },
          "metadata": {},
          "execution_count": 13
        }
      ],
      "source": [
        "np.eye(3)"
      ]
    },
    {
      "cell_type": "markdown",
      "id": "3bac294a",
      "metadata": {
        "id": "3bac294a"
      },
      "source": [
        "#### 12. Create a 3x3x3 array with random values (★☆☆)"
      ]
    },
    {
      "cell_type": "code",
      "execution_count": null,
      "id": "eadfae67",
      "metadata": {
        "id": "eadfae67",
        "colab": {
          "base_uri": "https://localhost:8080/"
        },
        "outputId": "25153a6c-0bd4-4e39-81d4-b517b934ac4e"
      },
      "outputs": [
        {
          "output_type": "execute_result",
          "data": {
            "text/plain": [
              "array([[[ 5, 18, 13],\n",
              "        [22, 16,  8],\n",
              "        [ 8,  0, 20]],\n",
              "\n",
              "       [[25, 18,  7],\n",
              "        [13, 13,  1],\n",
              "        [ 8,  6, 18]],\n",
              "\n",
              "       [[ 2,  6, 21],\n",
              "        [ 9, 12, 19],\n",
              "        [ 0, 19,  2]]])"
            ]
          },
          "metadata": {},
          "execution_count": 14
        }
      ],
      "source": [
        "arr = np.random.randint(0,27,27).reshape(3,3,3)\n",
        "arr"
      ]
    },
    {
      "cell_type": "markdown",
      "id": "466c2989",
      "metadata": {
        "id": "466c2989"
      },
      "source": [
        "#### 13. Create a 10x10 array with random values and find the minimum and maximum values (★☆☆)"
      ]
    },
    {
      "cell_type": "code",
      "execution_count": null,
      "id": "9a74dbfc",
      "metadata": {
        "id": "9a74dbfc",
        "colab": {
          "base_uri": "https://localhost:8080/"
        },
        "outputId": "f7ed4643-d109-47e5-c275-8f0bec2f868a"
      },
      "outputs": [
        {
          "output_type": "stream",
          "name": "stdout",
          "text": [
            "The 10x10 array is [[ 68  28 102  56  48   7  81  98  91  81]\n",
            " [ 64  49   0   6  19 106  72  51  45  53]\n",
            " [ 42  76  67  24  82  56   9  58  10  48]\n",
            " [ 89  52  16  70  47  48  42  32  89  64]\n",
            " [ 11 108  59  94  60  49  78  34   0  22]\n",
            " [ 32  37  70  53  57  19  87  89  86  65]\n",
            " [ 86  97  54  40  90  98  12  69   5  36]\n",
            " [ 38  41  87  68  20  82 103  26  15  39]\n",
            " [104 102  38  10  49  74  18  95  87  75]\n",
            " [ 34  79  39  11  16  60  51  28  48 107]]\n",
            "The minimum value of the array is 0\n",
            "The maximum value of the array is 108\n"
          ]
        }
      ],
      "source": [
        "arr = np.random.randint(0,111,100).reshape(10,10)\n",
        "print(f\"The 10x10 array is {arr}\")\n",
        "minimum = np.min(arr)\n",
        "maximum = np.max(arr)\n",
        "print(f\"The minimum value of the array is {minimum}\")\n",
        "print(f\"The maximum value of the array is {maximum}\")"
      ]
    },
    {
      "cell_type": "markdown",
      "id": "53a8edb2",
      "metadata": {
        "id": "53a8edb2"
      },
      "source": [
        "#### 14. Create a random vector of size 30 and find the mean value (★☆☆)"
      ]
    },
    {
      "cell_type": "code",
      "execution_count": null,
      "id": "6691530b",
      "metadata": {
        "id": "6691530b",
        "colab": {
          "base_uri": "https://localhost:8080/"
        },
        "outputId": "a11720ed-3915-4f7d-b4be-c3e517d9a7b0"
      },
      "outputs": [
        {
          "output_type": "stream",
          "name": "stdout",
          "text": [
            "The vector is [15 10 45 65 88 67 45 37 38 61 36 85 91 43 62 62 28 69 53 10 47 10 11 46\n",
            " 28 48 69 65 41  8]\n",
            "The mean value is 46.1\n"
          ]
        }
      ],
      "source": [
        "arr = np.random.randint(0,99,30)\n",
        "print(f\"The vector is {arr}\")\n",
        "mean = np.mean(arr)\n",
        "print(f\"The mean value is {mean}\")"
      ]
    },
    {
      "cell_type": "markdown",
      "id": "cbaad31c",
      "metadata": {
        "id": "cbaad31c"
      },
      "source": [
        "#### 15. Create a 2d array with 1 on the border and 0 inside (★☆☆)"
      ]
    },
    {
      "cell_type": "code",
      "execution_count": null,
      "id": "ad8308e3",
      "metadata": {
        "id": "ad8308e3",
        "colab": {
          "base_uri": "https://localhost:8080/"
        },
        "outputId": "4c3c6610-c97d-4579-8b86-5d93404ab77b"
      },
      "outputs": [
        {
          "output_type": "stream",
          "name": "stdout",
          "text": [
            "[[1. 1. 1.]\n",
            " [1. 0. 1.]\n",
            " [1. 1. 1.]]\n"
          ]
        }
      ],
      "source": [
        "arr = np.zeros(9).reshape(3,3)\n",
        "\n",
        "arr[0:3 , 0] = 1\n",
        "arr[0:3 , 2] = 1\n",
        "arr[0:3:2 , 1:2] = 1\n",
        "\n",
        "print(arr)\n",
        "\n",
        "#a = np.ones((10,10))\n",
        "#a[1:-1,1:-1]=0\n",
        "#a"
      ]
    },
    {
      "cell_type": "markdown",
      "id": "c5ecc267",
      "metadata": {
        "id": "c5ecc267"
      },
      "source": [
        "#### 16. How to add a border (filled with 0's) around an existing array? (★☆☆)"
      ]
    },
    {
      "cell_type": "code",
      "execution_count": null,
      "id": "9d5c78c4",
      "metadata": {
        "id": "9d5c78c4",
        "colab": {
          "base_uri": "https://localhost:8080/"
        },
        "outputId": "efee0837-9f9a-459a-8852-4e915867909d"
      },
      "outputs": [
        {
          "output_type": "execute_result",
          "data": {
            "text/plain": [
              "array([[0., 0., 0., 0., 0., 0., 0.],\n",
              "       [0., 1., 1., 1., 1., 1., 0.],\n",
              "       [0., 1., 1., 1., 1., 1., 0.],\n",
              "       [0., 1., 1., 1., 1., 1., 0.],\n",
              "       [0., 1., 1., 1., 1., 1., 0.],\n",
              "       [0., 1., 1., 1., 1., 1., 0.],\n",
              "       [0., 0., 0., 0., 0., 0., 0.]])"
            ]
          },
          "metadata": {},
          "execution_count": 38
        }
      ],
      "source": [
        "arr = np.ones(25).reshape(5,5)\n",
        "arr = np.pad(arr,1)\n",
        "arr\n",
        "\n",
        "#a = np.ones((5,5))\n",
        "#a = np.pad(a,2)\n",
        "#a"
      ]
    },
    {
      "cell_type": "markdown",
      "id": "ef909b72",
      "metadata": {
        "id": "ef909b72"
      },
      "source": [
        "#### 17. What is the result of the following expression? (★☆☆)\n",
        "```python\n",
        "0 * np.nan\n",
        "np.nan == np.nan\n",
        "np.inf > np.nan\n",
        "np.nan - np.nan\n",
        "np.nan in set([np.nan])\n",
        "0.3 == 3 * 0.1\n",
        "```"
      ]
    },
    {
      "cell_type": "code",
      "execution_count": null,
      "id": "3b4985f2",
      "metadata": {
        "id": "3b4985f2",
        "colab": {
          "base_uri": "https://localhost:8080/"
        },
        "outputId": "8478ad25-0d40-4a87-affa-3ba0706fd9ac"
      },
      "outputs": [
        {
          "output_type": "stream",
          "name": "stdout",
          "text": [
            "nan\n",
            "False\n",
            "False\n",
            "nan\n",
            "True\n",
            "False\n",
            "0.30000000000000004\n"
          ]
        }
      ],
      "source": [
        "print(0 * np.nan)   # 0\n",
        "print(np.nan == np.nan) # True\n",
        "print(np.inf > np.nan)  # True\n",
        "print(np.nan - np.nan)  # 0\n",
        "print(np.nan in set([np.nan]))  # True\n",
        "print(0.3 == 3 * 0.1) # True"
      ]
    },
    {
      "cell_type": "markdown",
      "id": "502738ac",
      "metadata": {
        "id": "502738ac"
      },
      "source": [
        "#### 18. Create a 5x5 matrix with values 1,2,3,4 just below the diagonal (★☆☆)"
      ]
    },
    {
      "cell_type": "code",
      "execution_count": null,
      "id": "faed6e2b",
      "metadata": {
        "id": "faed6e2b",
        "colab": {
          "base_uri": "https://localhost:8080/"
        },
        "outputId": "1553f390-b497-458c-806a-1a190bc4d5e9"
      },
      "outputs": [
        {
          "output_type": "execute_result",
          "data": {
            "text/plain": [
              "array([[1, 0, 0, 0],\n",
              "       [0, 2, 0, 0],\n",
              "       [0, 0, 3, 0],\n",
              "       [0, 0, 0, 4]])"
            ]
          },
          "metadata": {},
          "execution_count": 41
        }
      ],
      "source": [
        "arr = np.random.randint(0,25,25).reshape(5,5)\n",
        "arr = np.diag(np.arange(1,5))\n",
        "arr"
      ]
    },
    {
      "cell_type": "markdown",
      "id": "a65da660",
      "metadata": {
        "id": "a65da660"
      },
      "source": [
        "#### 19. Create a 8x8 matrix and fill it with a checkerboard pattern (★☆☆)"
      ]
    },
    {
      "cell_type": "code",
      "execution_count": null,
      "id": "ed150400",
      "metadata": {
        "id": "ed150400",
        "colab": {
          "base_uri": "https://localhost:8080/"
        },
        "outputId": "2f560f7d-aded-4edb-94c1-18c120b14dcd"
      },
      "outputs": [
        {
          "output_type": "execute_result",
          "data": {
            "text/plain": [
              "array([[1., 0., 1., 0., 1., 0., 1., 0.],\n",
              "       [0., 1., 0., 1., 0., 1., 0., 1.],\n",
              "       [1., 0., 1., 0., 1., 0., 1., 0.],\n",
              "       [0., 1., 0., 1., 0., 1., 0., 1.],\n",
              "       [1., 0., 1., 0., 1., 0., 1., 0.],\n",
              "       [0., 1., 0., 1., 0., 1., 0., 1.],\n",
              "       [1., 0., 1., 0., 1., 0., 1., 0.],\n",
              "       [0., 1., 0., 1., 0., 1., 0., 1.]])"
            ]
          },
          "metadata": {},
          "execution_count": 49
        }
      ],
      "source": [
        "arr = np.zeros((8,8))\n",
        "arr[::2 , ::2 ] = 1\n",
        "arr[1::2 , 1::2] = 1\n",
        "arr"
      ]
    },
    {
      "cell_type": "markdown",
      "id": "9f7f9c49",
      "metadata": {
        "id": "9f7f9c49"
      },
      "source": [
        "#### 20. Consider a (6,7,8) shape array, what is the index (x,y,z) of the 100th element? (★☆☆)"
      ]
    },
    {
      "cell_type": "code",
      "execution_count": null,
      "id": "3782b5a9",
      "metadata": {
        "id": "3782b5a9",
        "colab": {
          "base_uri": "https://localhost:8080/"
        },
        "outputId": "16477908-dc31-4dbe-b53f-32f720a73ac9"
      },
      "outputs": [
        {
          "output_type": "stream",
          "name": "stdout",
          "text": [
            "(1, 5, 3)\n"
          ]
        }
      ],
      "source": [
        "print(np.unravel_index(99,(6,7,8)))"
      ]
    },
    {
      "cell_type": "markdown",
      "id": "66bfda35",
      "metadata": {
        "id": "66bfda35"
      },
      "source": [
        "#### 21. Create a checkerboard 8x8 matrix using the tile function (★☆☆)"
      ]
    },
    {
      "cell_type": "code",
      "execution_count": null,
      "id": "4c07477c",
      "metadata": {
        "id": "4c07477c"
      },
      "outputs": [],
      "source": [
        "np.tile?"
      ]
    },
    {
      "cell_type": "code",
      "source": [
        "arr = np.array([[0,1],[1,0]])\n",
        "checkboard = np.tile(arr,(4,4))\n",
        "print(checkboard)"
      ],
      "metadata": {
        "colab": {
          "base_uri": "https://localhost:8080/"
        },
        "id": "SkJMsImHH6VL",
        "outputId": "263af8a8-438e-4f7d-cfca-83259ea020c0"
      },
      "id": "SkJMsImHH6VL",
      "execution_count": null,
      "outputs": [
        {
          "output_type": "stream",
          "name": "stdout",
          "text": [
            "[[0 1 0 1 0 1 0 1]\n",
            " [1 0 1 0 1 0 1 0]\n",
            " [0 1 0 1 0 1 0 1]\n",
            " [1 0 1 0 1 0 1 0]\n",
            " [0 1 0 1 0 1 0 1]\n",
            " [1 0 1 0 1 0 1 0]\n",
            " [0 1 0 1 0 1 0 1]\n",
            " [1 0 1 0 1 0 1 0]]\n"
          ]
        }
      ]
    },
    {
      "cell_type": "markdown",
      "id": "d5bcfc08",
      "metadata": {
        "id": "d5bcfc08"
      },
      "source": [
        "#### 22. Normalize a 5x5 random matrix (★☆☆)"
      ]
    },
    {
      "cell_type": "code",
      "execution_count": null,
      "id": "cea6c993",
      "metadata": {
        "id": "cea6c993",
        "colab": {
          "base_uri": "https://localhost:8080/"
        },
        "outputId": "ba4c06f8-d8e4-4260-9eb1-c77e788845c8"
      },
      "outputs": [
        {
          "output_type": "stream",
          "name": "stdout",
          "text": [
            "The original array is [[0.44159285 0.32432655 0.84654062 0.44126551 0.81046261]\n",
            " [0.35763998 0.9542319  0.13816562 0.69078884 0.47872361]\n",
            " [0.8163857  0.64362589 0.367015   0.07769262 0.97540999]\n",
            " [0.54722486 0.43669437 0.44083901 0.05509656 0.61338375]\n",
            " [0.84632577 0.61239244 0.43015658 0.10999907 0.41514912]]\n",
            "The normalization factor is 1.9725336310242985\n"
          ]
        }
      ],
      "source": [
        "arr = np.random.rand(5,5)\n",
        "mean = np.mean(arr)\n",
        "standard_deviation = np.std(arr)\n",
        "Z = mean / standard_deviation\n",
        "\n",
        "print(f\"The original array is {arr}\")\n",
        "print(f\"The normalization factor is {Z}\")\n"
      ]
    },
    {
      "cell_type": "markdown",
      "id": "f9a0911e",
      "metadata": {
        "id": "f9a0911e"
      },
      "source": [
        "#### 23. Create a custom dtype that describes a color as four unsigned bytes (RGBA) (★☆☆)"
      ]
    },
    {
      "cell_type": "code",
      "execution_count": null,
      "id": "d165044b",
      "metadata": {
        "id": "d165044b",
        "colab": {
          "base_uri": "https://localhost:8080/"
        },
        "outputId": "a9eb9bcc-7499-4c5e-e43d-106072355e78"
      },
      "outputs": [
        {
          "output_type": "stream",
          "name": "stderr",
          "text": [
            "<ipython-input-76-4daa7c2f2b60>:1: FutureWarning: Passing (type, 1) or '1type' as a synonym of type is deprecated; in a future version of numpy, it will be understood as (type, (1,)) / '(1,)type'.\n",
            "  color = np.dtype([(\"r\", np.ubyte, 1),\n"
          ]
        },
        {
          "output_type": "execute_result",
          "data": {
            "text/plain": [
              "dtype([('r', 'u1'), ('g', 'u1'), ('b', 'u1'), ('a', 'u1')])"
            ]
          },
          "metadata": {},
          "execution_count": 76
        }
      ],
      "source": [
        "color = np.dtype([(\"r\", np.ubyte, 1),\n",
        "                  (\"g\", np.ubyte, 1),\n",
        "                  (\"b\", np.ubyte, 1),\n",
        "                  (\"a\", np.ubyte, 1)])\n",
        "color"
      ]
    },
    {
      "cell_type": "markdown",
      "id": "654805b1",
      "metadata": {
        "id": "654805b1"
      },
      "source": [
        "#### 24. Multiply a 5x3 matrix by a 3x2 matrix (real matrix product) (★☆☆)"
      ]
    },
    {
      "cell_type": "code",
      "execution_count": null,
      "id": "6a42619f",
      "metadata": {
        "id": "6a42619f",
        "colab": {
          "base_uri": "https://localhost:8080/"
        },
        "outputId": "d3f58caf-abff-48f9-af59-086765a57e5d"
      },
      "outputs": [
        {
          "output_type": "stream",
          "name": "stdout",
          "text": [
            "[[0.91676187 1.59209716]\n",
            " [0.47830529 0.80154517]\n",
            " [0.74674981 1.46290494]\n",
            " [0.81962409 1.06809331]\n",
            " [1.12049922 1.2958251 ]]\n"
          ]
        }
      ],
      "source": [
        "matrix1 = np.random.rand(5,3)\n",
        "matrix2 = np.random.rand(3,2)\n",
        "\n",
        "print(np.dot(matrix1,matrix2))"
      ]
    },
    {
      "cell_type": "markdown",
      "id": "994c25df",
      "metadata": {
        "id": "994c25df"
      },
      "source": [
        "#### 25. Given a 1D array, negate all elements which are between 3 and 8, in place. (★☆☆)"
      ]
    },
    {
      "cell_type": "code",
      "execution_count": null,
      "id": "e4b39c03",
      "metadata": {
        "id": "e4b39c03",
        "colab": {
          "base_uri": "https://localhost:8080/"
        },
        "outputId": "f0ce2ad9-a00a-44ec-e731-179305e266e9"
      },
      "outputs": [
        {
          "output_type": "execute_result",
          "data": {
            "text/plain": [
              "array([ 0,  1,  2,  3, -4, -5, -6, -7,  8,  9, 10])"
            ]
          },
          "metadata": {},
          "execution_count": 83
        }
      ],
      "source": [
        "arr = np.arange(11)\n",
        "arr[4:8] *= -1\n",
        "arr"
      ]
    },
    {
      "cell_type": "markdown",
      "id": "b7d15d1a",
      "metadata": {
        "id": "b7d15d1a"
      },
      "source": [
        "#### 26. What is the output of the following script? (★☆☆)\n",
        "```python\n",
        "# Author: Jake VanderPlas\n",
        "\n",
        "print(sum(range(5),-1))\n",
        "from numpy import *\n",
        "print(sum(range(5),-1))\n",
        "```"
      ]
    },
    {
      "cell_type": "code",
      "source": [
        "S = sum(range(5))\n",
        "print(S)\n",
        "print(\"First line without importing NumPy --> \",S-1)\n",
        "print()\n",
        "print(\"Second line with NumPy --> \",sum(range(5),-1))"
      ],
      "metadata": {
        "colab": {
          "base_uri": "https://localhost:8080/"
        },
        "id": "saZHOKXxQrhm",
        "outputId": "c4f44ed7-6edf-4e20-8fe6-cc7233470ab8"
      },
      "id": "saZHOKXxQrhm",
      "execution_count": null,
      "outputs": [
        {
          "output_type": "stream",
          "name": "stdout",
          "text": [
            "10\n",
            "First line without importing NumPy -->  9\n",
            "\n",
            "Second line with NumPy -->  10\n"
          ]
        }
      ]
    },
    {
      "cell_type": "markdown",
      "id": "a34f0d08",
      "metadata": {
        "id": "a34f0d08"
      },
      "source": [
        "#### 27. Consider an integer vector Z, which of these expressions are legal? (★☆☆)\n",
        "```python\n",
        "Z**Z\n",
        "2 << Z >> 2\n",
        "Z <- Z\n",
        "1j*Z\n",
        "Z/1/1\n",
        "Z<Z>Z\n",
        "```"
      ]
    },
    {
      "cell_type": "code",
      "execution_count": null,
      "id": "564658fc",
      "metadata": {
        "id": "564658fc",
        "colab": {
          "base_uri": "https://localhost:8080/"
        },
        "outputId": "425aec39-ff3f-4c8c-cd8f-805cb7b51836"
      },
      "outputs": [
        {
          "output_type": "execute_result",
          "data": {
            "text/plain": [
              "array([0, 1, 2, 3, 4])"
            ]
          },
          "metadata": {},
          "execution_count": 101
        }
      ],
      "source": [
        "z = np.array([0,1,2,3,4])\n",
        "# z**z ---> Legal\n",
        "# 2 << Z >> 2 ---> Legal\n",
        "# Z <- Z ---> Legal\n",
        "# 1j*Z ---> Legal\n",
        "# Z/1/1 ---> Legal\n",
        "# Z<Z>Z ---> Not Legal\n",
        "z"
      ]
    },
    {
      "cell_type": "markdown",
      "id": "c34e94bf",
      "metadata": {
        "id": "c34e94bf"
      },
      "source": [
        "#### 28. What are the result of the following expressions? (★☆☆)\n",
        "```python\n",
        "np.array(0) / np.array(0)\n",
        "np.array(0) // np.array(0)\n",
        "np.array([np.nan]).astype(int).astype(float)\n",
        "```"
      ]
    },
    {
      "cell_type": "code",
      "execution_count": null,
      "id": "56663562",
      "metadata": {
        "id": "56663562",
        "colab": {
          "base_uri": "https://localhost:8080/"
        },
        "outputId": "e7cbc969-9664-4a59-b85c-7cce92df969d"
      },
      "outputs": [
        {
          "output_type": "stream",
          "name": "stderr",
          "text": [
            "<ipython-input-104-e0b0e65d5078>:1: RuntimeWarning: invalid value encountered in divide\n",
            "  np.array(0) / np.array(0) # ---> nan\n",
            "<ipython-input-104-e0b0e65d5078>:2: RuntimeWarning: divide by zero encountered in floor_divide\n",
            "  np.array(0) // np.array(0) # ---> 0\n"
          ]
        },
        {
          "output_type": "execute_result",
          "data": {
            "text/plain": [
              "array([-9.22337204e+18])"
            ]
          },
          "metadata": {},
          "execution_count": 104
        }
      ],
      "source": [
        "np.array(0) / np.array(0) # ---> nan\n",
        "np.array(0) // np.array(0) # ---> 0\n",
        "np.array([np.nan]).astype(int).astype(float) # ---> nan"
      ]
    },
    {
      "cell_type": "markdown",
      "id": "546f5e7b",
      "metadata": {
        "id": "546f5e7b"
      },
      "source": [
        "#### 29. How to round away from zero a float array ? (★☆☆)"
      ]
    },
    {
      "cell_type": "code",
      "execution_count": 2,
      "id": "f725a6d2",
      "metadata": {
        "id": "f725a6d2",
        "colab": {
          "base_uri": "https://localhost:8080/"
        },
        "outputId": "84ea63a4-1299-447a-a83e-fc4e4ef5fc41"
      },
      "outputs": [
        {
          "output_type": "stream",
          "name": "stdout",
          "text": [
            "[ 5.  8.  9. -3.  2. -1. -8.  8. -9. -6.]\n"
          ]
        }
      ],
      "source": [
        "arr = np.random.uniform(-10,+10,10)\n",
        "print (np.copysign(np.ceil(np.abs(arr)), arr))"
      ]
    },
    {
      "cell_type": "markdown",
      "id": "eadca856",
      "metadata": {
        "id": "eadca856"
      },
      "source": [
        "#### 30. How to find common values between two arrays? (★☆☆)"
      ]
    },
    {
      "cell_type": "code",
      "execution_count": null,
      "id": "e0270b5b",
      "metadata": {
        "id": "e0270b5b",
        "colab": {
          "base_uri": "https://localhost:8080/"
        },
        "outputId": "5f820893-2538-486a-8bef-bbc64f13e88e"
      },
      "outputs": [
        {
          "output_type": "stream",
          "name": "stdout",
          "text": [
            "[ 1  3  5  7 11]\n"
          ]
        }
      ],
      "source": [
        "matrix1 = np.array([1,2,3,5,7,11])\n",
        "matrix2 = np.array([1,3,5,7,8,11])\n",
        "\n",
        "print(np.intersect1d(matrix1,matrix2))"
      ]
    },
    {
      "cell_type": "markdown",
      "id": "ca16ca22",
      "metadata": {
        "id": "ca16ca22"
      },
      "source": [
        "#### 31. How to ignore all numpy warnings (not recommended)? (★☆☆)"
      ]
    },
    {
      "cell_type": "code",
      "execution_count": null,
      "id": "7d7208ef",
      "metadata": {
        "id": "7d7208ef",
        "colab": {
          "base_uri": "https://localhost:8080/"
        },
        "outputId": "f1c25f79-b7ac-4746-9567-27fa88583ea6"
      },
      "outputs": [
        {
          "output_type": "stream",
          "name": "stdout",
          "text": [
            "Done \n"
          ]
        }
      ],
      "source": [
        "import warnings\n",
        "warnings.filterwarnings('ignore')\n",
        "print(\"Done \")"
      ]
    },
    {
      "cell_type": "markdown",
      "id": "c7871d0d",
      "metadata": {
        "id": "c7871d0d"
      },
      "source": [
        "#### 32. Is the following expressions true? (★☆☆)\n",
        "```python\n",
        "np.sqrt(-1) == np.emath.sqrt(-1)\n",
        "```"
      ]
    },
    {
      "cell_type": "code",
      "execution_count": null,
      "id": "acc3701a",
      "metadata": {
        "id": "acc3701a",
        "colab": {
          "base_uri": "https://localhost:8080/"
        },
        "outputId": "be1089b8-0a10-4b9c-8c82-76d1f0eb4e7b"
      },
      "outputs": [
        {
          "output_type": "stream",
          "name": "stdout",
          "text": [
            "nan\n",
            "1j\n",
            "False\n"
          ]
        }
      ],
      "source": [
        "print(np.sqrt(-1))\n",
        "print(np.emath.sqrt(-1))\n",
        "print(np.sqrt(-1) == np.emath.sqrt(-1))"
      ]
    },
    {
      "cell_type": "markdown",
      "id": "e0433e30",
      "metadata": {
        "id": "e0433e30"
      },
      "source": [
        "#### 33. How to get the dates of yesterday, today and tomorrow? (★☆☆)"
      ]
    },
    {
      "cell_type": "code",
      "execution_count": null,
      "id": "9c4d2152",
      "metadata": {
        "id": "9c4d2152"
      },
      "outputs": [],
      "source": [
        "np.datetime_data?\n",
        "np.datetime64?"
      ]
    },
    {
      "cell_type": "code",
      "source": [
        "yesterday = np.datetime64('today' , 'D') - np.timedelta64(1 , 'D')\n",
        "today = np.datetime64('today' , 'D')\n",
        "tomorrow = np.datetime64('today' , 'D') + np.timedelta64(1 , 'D')\n",
        "\n",
        "print(f\"Yesterday date is {yesterday}\")\n",
        "print(f\"Today date is {today}\")\n",
        "print(f\"Tomorrow date is {tomorrow}\")"
      ],
      "metadata": {
        "colab": {
          "base_uri": "https://localhost:8080/"
        },
        "id": "41brYsw9bn2k",
        "outputId": "dc9ad6dc-bef2-4475-bc92-72757f676643"
      },
      "id": "41brYsw9bn2k",
      "execution_count": null,
      "outputs": [
        {
          "output_type": "stream",
          "name": "stdout",
          "text": [
            "Yesterday date is 2023-09-27\n",
            "Today date is 2023-09-28\n",
            "Tomorrow date is 2023-09-29\n"
          ]
        }
      ]
    },
    {
      "cell_type": "markdown",
      "id": "9f52a2ef",
      "metadata": {
        "id": "9f52a2ef"
      },
      "source": [
        "#### 34. How to get all the dates corresponding to the month of July 2016? (★★☆)"
      ]
    },
    {
      "cell_type": "code",
      "execution_count": null,
      "id": "d6c34dec",
      "metadata": {
        "id": "d6c34dec",
        "colab": {
          "base_uri": "https://localhost:8080/"
        },
        "outputId": "1c915981-4e14-4f96-f573-26bd761ec5bd"
      },
      "outputs": [
        {
          "output_type": "execute_result",
          "data": {
            "text/plain": [
              "array(['2016-07-01', '2016-07-02', '2016-07-03', '2016-07-04',\n",
              "       '2016-07-05', '2016-07-06', '2016-07-07', '2016-07-08',\n",
              "       '2016-07-09', '2016-07-10', '2016-07-11', '2016-07-12',\n",
              "       '2016-07-13', '2016-07-14', '2016-07-15', '2016-07-16',\n",
              "       '2016-07-17', '2016-07-18', '2016-07-19', '2016-07-20',\n",
              "       '2016-07-21', '2016-07-22', '2016-07-23', '2016-07-24',\n",
              "       '2016-07-25', '2016-07-26', '2016-07-27', '2016-07-28',\n",
              "       '2016-07-29', '2016-07-30', '2016-07-31'], dtype='datetime64[D]')"
            ]
          },
          "metadata": {},
          "execution_count": 14
        }
      ],
      "source": [
        "Dates = np.arange('2016-07', '2016-08', dtype='datetime64[D]')\n",
        "Dates"
      ]
    },
    {
      "cell_type": "markdown",
      "id": "4a64e059",
      "metadata": {
        "id": "4a64e059"
      },
      "source": [
        "#### 35. How to compute ((A+B)*(-A/2)) in place (without copy)? (★★☆)"
      ]
    },
    {
      "cell_type": "code",
      "execution_count": null,
      "id": "49267f60",
      "metadata": {
        "id": "49267f60"
      },
      "outputs": [],
      "source": [
        "np.add?"
      ]
    },
    {
      "cell_type": "code",
      "source": [
        "A = np.ones(3)*1\n",
        "B = np.ones(3)*2\n",
        "np.add(A,B,out=B) # (A+B) stored in B\n",
        "np.divide(A,2,out=A) # (A/2) stored in A\n",
        "np.negative(A,out=A) # (A*-1) stored in A\n",
        "np.multiply(A,B,out=A) # B[A+B] * A[[A+B],[(A*-1)]] ---> computed in place"
      ],
      "metadata": {
        "colab": {
          "base_uri": "https://localhost:8080/"
        },
        "id": "lqupJwiQkSx8",
        "outputId": "ef92b76c-9840-4324-b09c-3466fc4ab59f"
      },
      "id": "lqupJwiQkSx8",
      "execution_count": null,
      "outputs": [
        {
          "output_type": "execute_result",
          "data": {
            "text/plain": [
              "array([-1.5, -1.5, -1.5])"
            ]
          },
          "metadata": {},
          "execution_count": 16
        }
      ]
    },
    {
      "cell_type": "markdown",
      "id": "8a98c2a8",
      "metadata": {
        "id": "8a98c2a8"
      },
      "source": [
        "#### 36. Extract the integer part of a random array of positive numbers using 4 different methods (★★☆)"
      ]
    },
    {
      "cell_type": "code",
      "execution_count": null,
      "id": "368130b3",
      "metadata": {
        "id": "368130b3",
        "colab": {
          "base_uri": "https://localhost:8080/"
        },
        "outputId": "58a7c020-7794-4727-9c7d-94903953d66c"
      },
      "outputs": [
        {
          "output_type": "stream",
          "name": "stdout",
          "text": [
            "Original array is [ 7.49708048  4.89386107 10.66190012  6.06439654  3.46293924  7.69560064\n",
            "  9.30599654  7.41423403  5.93312299 10.95256033]\n",
            "\n",
            "floor method: [ 7.  4. 10.  6.  3.  7.  9.  7.  5. 10.]\n",
            "\n",
            "round method: [ 7.  5. 11.  6.  3.  8.  9.  7.  6. 11.]\n",
            "\n",
            "astype method: [ 7  4 10  6  3  7  9  7  5 10]\n",
            "\n",
            "ceil method: [ 8.  5. 11.  7.  4.  8. 10.  8.  6. 11.]\n"
          ]
        }
      ],
      "source": [
        "arr = np.random.uniform(3,11,10)\n",
        "\n",
        "print(f\"Original array is {arr}\")\n",
        "print()\n",
        "print(f\"floor method: {np.floor(arr)}\")\n",
        "print()\n",
        "print(f\"round method: {np.round(arr)}\")\n",
        "print()\n",
        "print(f\"astype method: {arr.astype(int)}\")\n",
        "print()\n",
        "print(f\"ceil method: {np.ceil(arr)}\")"
      ]
    },
    {
      "cell_type": "markdown",
      "id": "5a2e3d85",
      "metadata": {
        "id": "5a2e3d85"
      },
      "source": [
        "#### 37. Create a 5x5 matrix with row values ranging from 0 to 4 (★★☆)"
      ]
    },
    {
      "cell_type": "code",
      "execution_count": null,
      "id": "1d974e8f",
      "metadata": {
        "id": "1d974e8f",
        "colab": {
          "base_uri": "https://localhost:8080/"
        },
        "outputId": "8a558eb7-1c2e-45cd-884e-8cef57d1612a"
      },
      "outputs": [
        {
          "output_type": "execute_result",
          "data": {
            "text/plain": [
              "array([[0., 1., 2., 3., 4.],\n",
              "       [0., 1., 2., 3., 4.],\n",
              "       [0., 1., 2., 3., 4.],\n",
              "       [0., 1., 2., 3., 4.],\n",
              "       [0., 1., 2., 3., 4.]])"
            ]
          },
          "metadata": {},
          "execution_count": 24
        }
      ],
      "source": [
        "arr = np.zeros((5,5))\n",
        "arr[0:,1] = 1\n",
        "arr[0:,2] = 2\n",
        "arr[0:,3] = 3\n",
        "arr[0:,4] = 4\n",
        "arr"
      ]
    },
    {
      "cell_type": "markdown",
      "id": "9720e2d5",
      "metadata": {
        "id": "9720e2d5"
      },
      "source": [
        "#### 38. Consider a generator function that generates 10 integers and use it to build an array (★☆☆)"
      ]
    },
    {
      "cell_type": "code",
      "execution_count": null,
      "id": "e5dd8fc9",
      "metadata": {
        "id": "e5dd8fc9",
        "colab": {
          "base_uri": "https://localhost:8080/"
        },
        "outputId": "3d19bcb7-3115-4d36-827e-6973d6fc3d93"
      },
      "outputs": [
        {
          "output_type": "execute_result",
          "data": {
            "text/plain": [
              "array([[0., 1., 2., 3., 4., 5., 6., 7., 8., 9.]])"
            ]
          },
          "metadata": {},
          "execution_count": 39
        }
      ],
      "source": [
        "from numpy.core.multiarray import nditer\n",
        "def generator():\n",
        "  arr = np.array([])\n",
        "  for x in range(10):\n",
        "    arr = np.append(arr,x)\n",
        "  return arr\n",
        "\n",
        "matrix = np.array([generator()])\n",
        "matrix"
      ]
    },
    {
      "cell_type": "markdown",
      "id": "c6f2c912",
      "metadata": {
        "id": "c6f2c912"
      },
      "source": [
        "#### 39. Create a vector of size 10 with values ranging from 0 to 1, both excluded (★★☆)"
      ]
    },
    {
      "cell_type": "code",
      "execution_count": null,
      "id": "6aaa27d3",
      "metadata": {
        "id": "6aaa27d3",
        "colab": {
          "base_uri": "https://localhost:8080/"
        },
        "outputId": "bcc22b63-2b71-4c6c-802a-a9f053f58a72"
      },
      "outputs": [
        {
          "output_type": "execute_result",
          "data": {
            "text/plain": [
              "array([0.        , 0.11111111, 0.22222222, 0.33333333, 0.44444444,\n",
              "       0.55555556, 0.66666667, 0.77777778, 0.88888889, 1.        ])"
            ]
          },
          "metadata": {},
          "execution_count": 31
        }
      ],
      "source": [
        "arr = np.linspace(0,1,10)\n",
        "arr"
      ]
    },
    {
      "cell_type": "markdown",
      "id": "a36d6ee4",
      "metadata": {
        "id": "a36d6ee4"
      },
      "source": [
        "#### 40. Create a random vector of size 10 and sort it (★★☆)"
      ]
    },
    {
      "cell_type": "code",
      "execution_count": null,
      "id": "e589d216",
      "metadata": {
        "id": "e589d216",
        "colab": {
          "base_uri": "https://localhost:8080/"
        },
        "outputId": "711c2ee4-c4fd-46d4-fbe9-e62dd7fddeea"
      },
      "outputs": [
        {
          "output_type": "stream",
          "name": "stdout",
          "text": [
            "Original array is [0.47287868 0.78700734 0.28603572 0.36630289 0.17755407 0.24247998\n",
            " 0.70568975 0.47416093 0.52823672 0.31041091]\n",
            "\n",
            "\n",
            "The sorted array is [0.17755407 0.24247998 0.28603572 0.31041091 0.36630289 0.47287868\n",
            " 0.47416093 0.52823672 0.70568975 0.78700734]\n"
          ]
        }
      ],
      "source": [
        "arr = np.random.rand(10)\n",
        "print(f\"Original array is {arr}\")\n",
        "print()\n",
        "arr.sort()\n",
        "print()\n",
        "print(f\"The sorted array is {arr}\")"
      ]
    },
    {
      "cell_type": "markdown",
      "id": "0fb4ad68",
      "metadata": {
        "id": "0fb4ad68"
      },
      "source": [
        "#### 41. How to sum a small array faster than np.sum? (★★☆)"
      ]
    },
    {
      "cell_type": "code",
      "execution_count": null,
      "id": "a1ba05a0",
      "metadata": {
        "id": "a1ba05a0",
        "colab": {
          "base_uri": "https://localhost:8080/"
        },
        "outputId": "13e8c28a-5fd5-47c4-f211-06c737454817"
      },
      "outputs": [
        {
          "output_type": "execute_result",
          "data": {
            "text/plain": [
              "10"
            ]
          },
          "metadata": {},
          "execution_count": 44
        }
      ],
      "source": [
        "arr = np.array([1,2,3,4])\n",
        "sum = np.add.reduce(arr)\n",
        "sum"
      ]
    },
    {
      "cell_type": "markdown",
      "id": "024ac365",
      "metadata": {
        "id": "024ac365"
      },
      "source": [
        "#### 42. Consider two random array A and B, check if they are equal (★★☆)"
      ]
    },
    {
      "cell_type": "code",
      "execution_count": null,
      "id": "7db3846d",
      "metadata": {
        "id": "7db3846d",
        "colab": {
          "base_uri": "https://localhost:8080/"
        },
        "outputId": "ef8f1b3e-1c49-4fa5-a5c8-4004a7e4b93a"
      },
      "outputs": [
        {
          "output_type": "stream",
          "name": "stdout",
          "text": [
            "False\n"
          ]
        }
      ],
      "source": [
        "A = np.random.rand(10)\n",
        "B = np.random.rand(10)\n",
        "print(np.array_equal(A,B))"
      ]
    },
    {
      "cell_type": "markdown",
      "id": "c68d2401",
      "metadata": {
        "id": "c68d2401"
      },
      "source": [
        "#### 43. Make an array immutable (read-only) (★★☆)"
      ]
    },
    {
      "cell_type": "code",
      "execution_count": null,
      "id": "7828539d",
      "metadata": {
        "id": "7828539d",
        "colab": {
          "base_uri": "https://localhost:8080/",
          "height": 246
        },
        "outputId": "91e9022d-e7a9-4acb-c61d-6b00e1fea7d9"
      },
      "outputs": [
        {
          "output_type": "stream",
          "name": "stdout",
          "text": [
            "[0.42206217 0.63146877 0.20722414 0.06479451 0.26073088 0.18200714\n",
            " 0.01943023 0.71795213 0.60962258 0.6369418 ]\n"
          ]
        },
        {
          "output_type": "error",
          "ename": "ValueError",
          "evalue": "ignored",
          "traceback": [
            "\u001b[0;31m---------------------------------------------------------------------------\u001b[0m",
            "\u001b[0;31mValueError\u001b[0m                                Traceback (most recent call last)",
            "\u001b[0;32m<ipython-input-49-ba85daa0f8fb>\u001b[0m in \u001b[0;36m<cell line: 4>\u001b[0;34m()\u001b[0m\n\u001b[1;32m      2\u001b[0m \u001b[0mA\u001b[0m\u001b[0;34m.\u001b[0m\u001b[0mflags\u001b[0m\u001b[0;34m.\u001b[0m\u001b[0mwriteable\u001b[0m \u001b[0;34m=\u001b[0m \u001b[0;32mFalse\u001b[0m\u001b[0;34m\u001b[0m\u001b[0;34m\u001b[0m\u001b[0m\n\u001b[1;32m      3\u001b[0m \u001b[0mprint\u001b[0m\u001b[0;34m(\u001b[0m\u001b[0mA\u001b[0m\u001b[0;34m)\u001b[0m\u001b[0;34m\u001b[0m\u001b[0;34m\u001b[0m\u001b[0m\n\u001b[0;32m----> 4\u001b[0;31m \u001b[0mA\u001b[0m\u001b[0;34m[\u001b[0m\u001b[0;36m1\u001b[0m\u001b[0;34m]\u001b[0m \u001b[0;34m=\u001b[0m \u001b[0;36m0\u001b[0m\u001b[0;34m\u001b[0m\u001b[0;34m\u001b[0m\u001b[0m\n\u001b[0m",
            "\u001b[0;31mValueError\u001b[0m: assignment destination is read-only"
          ]
        }
      ],
      "source": [
        "A = np.random.rand(10)\n",
        "A.flags.writeable = False\n",
        "print(A)\n",
        "A[1] = 0"
      ]
    },
    {
      "cell_type": "markdown",
      "id": "55df6280",
      "metadata": {
        "id": "55df6280"
      },
      "source": [
        "#### 44. Consider a random 10x2 matrix representing cartesian coordinates, convert them to polar coordinates (★★☆)"
      ]
    },
    {
      "cell_type": "code",
      "execution_count": null,
      "id": "f1c86ea0",
      "metadata": {
        "id": "f1c86ea0",
        "colab": {
          "base_uri": "https://localhost:8080/"
        },
        "outputId": "a2bd9813-b426-4c6b-ecd7-0465b8d61a09"
      },
      "outputs": [
        {
          "output_type": "stream",
          "name": "stdout",
          "text": [
            "[0.82593309 0.25955638 1.09555176 0.35268159 0.55881035 0.07568157\n",
            " 0.76878182 1.14974591 1.23601063 0.84273862]\n",
            "[0.10308365 1.09981237 0.75945005 1.55470165 0.7724379  0.97042705\n",
            " 1.30476442 1.01370739 0.63103529 1.25092163]\n"
          ]
        }
      ],
      "source": [
        "arr = np.random.random((10,2))\n",
        "X,Y = arr[:,0], arr[:,1]\n",
        "R = np.sqrt(X**2+Y**2)\n",
        "T = np.arctan2(Y,X)\n",
        "print(R)\n",
        "print(T)"
      ]
    },
    {
      "cell_type": "markdown",
      "id": "2f60f1ec",
      "metadata": {
        "id": "2f60f1ec"
      },
      "source": [
        "#### 45. Create random vector of size 10 and replace the maximum value by 0 (★★☆)"
      ]
    },
    {
      "cell_type": "code",
      "execution_count": null,
      "id": "d9f48f1c",
      "metadata": {
        "id": "d9f48f1c",
        "colab": {
          "base_uri": "https://localhost:8080/"
        },
        "outputId": "b4014e7e-601c-4b60-fabc-7ad3f56c44d1"
      },
      "outputs": [
        {
          "output_type": "stream",
          "name": "stdout",
          "text": [
            "The original vector is: [0.264262   0.32305671 0.35302469 0.54504546 0.569161   0.67667092\n",
            " 0.84631084 0.88059461 0.93398746 0.96566003]\n",
            "\n",
            "[0.264262   0.32305671 0.35302469 0.54504546 0.569161   0.67667092\n",
            " 0.84631084 0.88059461 0.93398746 0.        ]\n"
          ]
        }
      ],
      "source": [
        "arr = np.random.rand(10)\n",
        "arr.sort()\n",
        "print(f\"The original vector is: {arr}\")\n",
        "print()\n",
        "arr[-1] = 0\n",
        "print(arr)"
      ]
    },
    {
      "cell_type": "markdown",
      "id": "084e8ad4",
      "metadata": {
        "id": "084e8ad4"
      },
      "source": [
        "#### 46. Create a structured array with `x` and `y` coordinates covering the [0,1]x[0,1] area (★★☆)"
      ]
    },
    {
      "cell_type": "code",
      "execution_count": null,
      "id": "58b47c13",
      "metadata": {
        "id": "58b47c13",
        "colab": {
          "base_uri": "https://localhost:8080/"
        },
        "outputId": "423aebb9-86ef-4f92-9f0e-7676330c5a04"
      },
      "outputs": [
        {
          "output_type": "stream",
          "name": "stdout",
          "text": [
            "[[(0.  , 0.  ) (0.25, 0.  ) (0.5 , 0.  ) (0.75, 0.  ) (1.  , 0.  )]\n",
            " [(0.  , 0.25) (0.25, 0.25) (0.5 , 0.25) (0.75, 0.25) (1.  , 0.25)]\n",
            " [(0.  , 0.5 ) (0.25, 0.5 ) (0.5 , 0.5 ) (0.75, 0.5 ) (1.  , 0.5 )]\n",
            " [(0.  , 0.75) (0.25, 0.75) (0.5 , 0.75) (0.75, 0.75) (1.  , 0.75)]\n",
            " [(0.  , 1.  ) (0.25, 1.  ) (0.5 , 1.  ) (0.75, 1.  ) (1.  , 1.  )]]\n"
          ]
        }
      ],
      "source": [
        "arr = np.zeros((5,5), [('x',float),('y',float)])\n",
        "arr['x'], arr['y'] = np.meshgrid(np.linspace(0,1,5),\n",
        "                             np.linspace(0,1,5))\n",
        "print(arr)"
      ]
    },
    {
      "cell_type": "markdown",
      "id": "d7b9bc42",
      "metadata": {
        "id": "d7b9bc42"
      },
      "source": [
        "#### 47. Given two arrays, X and Y, construct the Cauchy matrix C (Cij =1/(xi - yj)) (★★☆)"
      ]
    },
    {
      "cell_type": "code",
      "execution_count": null,
      "id": "a24824fb",
      "metadata": {
        "id": "a24824fb",
        "colab": {
          "base_uri": "https://localhost:8080/"
        },
        "outputId": "67e28097-37f9-4956-935f-66ebdc932dc6"
      },
      "outputs": [
        {
          "output_type": "stream",
          "name": "stdout",
          "text": [
            "3638.163637117973\n"
          ]
        }
      ],
      "source": [
        "X = np.arange(8)\n",
        "Y = X + 0.5\n",
        "C = 1.0 / np.subtract.outer(X, Y)\n",
        "print(np.linalg.det(C))"
      ]
    },
    {
      "cell_type": "markdown",
      "id": "65ebc11b",
      "metadata": {
        "id": "65ebc11b"
      },
      "source": [
        "#### 48. Print the minimum and maximum representable value for each numpy scalar type (★★☆)"
      ]
    },
    {
      "cell_type": "code",
      "execution_count": null,
      "id": "e45d38fb",
      "metadata": {
        "id": "e45d38fb",
        "colab": {
          "base_uri": "https://localhost:8080/"
        },
        "outputId": "865d1b90-0c8e-44b0-e24d-aa3de2ce52b0"
      },
      "outputs": [
        {
          "output_type": "stream",
          "name": "stdout",
          "text": [
            "-128\n",
            "127\n",
            "-2147483648\n",
            "2147483647\n",
            "-9223372036854775808\n",
            "9223372036854775807\n",
            "-3.4028235e+38\n",
            "3.4028235e+38\n",
            "1.1920929e-07\n",
            "-1.7976931348623157e+308\n",
            "1.7976931348623157e+308\n",
            "2.220446049250313e-16\n"
          ]
        }
      ],
      "source": [
        "for dtype in [np.int8, np.int32, np.int64]:\n",
        "   print(np.iinfo(dtype).min)\n",
        "   print(np.iinfo(dtype).max)\n",
        "for dtype in [np.float32, np.float64]:\n",
        "   print(np.finfo(dtype).min)\n",
        "   print(np.finfo(dtype).max)\n",
        "   print(np.finfo(dtype).eps)"
      ]
    },
    {
      "cell_type": "markdown",
      "id": "9b317a98",
      "metadata": {
        "id": "9b317a98"
      },
      "source": [
        "#### 49. How to print all the values of an array? (★★☆)"
      ]
    },
    {
      "cell_type": "code",
      "execution_count": null,
      "id": "309cdeb9",
      "metadata": {
        "id": "309cdeb9",
        "colab": {
          "base_uri": "https://localhost:8080/"
        },
        "outputId": "10e96471-9154-4838-fec0-2be7ea0ed49c"
      },
      "outputs": [
        {
          "output_type": "stream",
          "name": "stdout",
          "text": [
            "[[1. 0. 0. 0. 0. 0. 0. 0. 0. 0.]\n",
            " [0. 1. 0. 0. 0. 0. 0. 0. 0. 0.]\n",
            " [0. 0. 1. 0. 0. 0. 0. 0. 0. 0.]\n",
            " [0. 0. 0. 1. 0. 0. 0. 0. 0. 0.]\n",
            " [0. 0. 0. 0. 1. 0. 0. 0. 0. 0.]\n",
            " [0. 0. 0. 0. 0. 1. 0. 0. 0. 0.]\n",
            " [0. 0. 0. 0. 0. 0. 1. 0. 0. 0.]\n",
            " [0. 0. 0. 0. 0. 0. 0. 1. 0. 0.]\n",
            " [0. 0. 0. 0. 0. 0. 0. 0. 1. 0.]\n",
            " [0. 0. 0. 0. 0. 0. 0. 0. 0. 1.]]\n"
          ]
        }
      ],
      "source": [
        "np.set_printoptions(threshold=np.inf)\n",
        "arr = np.eye(10)\n",
        "print(arr)"
      ]
    },
    {
      "cell_type": "markdown",
      "id": "b580f9d0",
      "metadata": {
        "id": "b580f9d0"
      },
      "source": [
        "#### 50. How to find the closest value (to a given scalar) in a vector? (★★☆)"
      ]
    },
    {
      "cell_type": "code",
      "execution_count": null,
      "id": "ebfb6714",
      "metadata": {
        "id": "ebfb6714",
        "colab": {
          "base_uri": "https://localhost:8080/"
        },
        "outputId": "4862a890-7300-40b9-d49f-5d52ced0d65f"
      },
      "outputs": [
        {
          "output_type": "stream",
          "name": "stdout",
          "text": [
            "Original array: [ 0  1  2  3  4  5  6  7  8  9 10 11 12 13 14 15 16 17 18 19 20 21 22 23\n",
            " 24 25 26 27 28 29 30 31 32 33 34 35 36 37 38 39 40 41 42 43 44 45 46 47\n",
            " 48 49 50 51 52 53 54 55 56 57 58 59 60 61 62 63 64 65 66 67 68 69 70 71\n",
            " 72 73 74 75 76 77 78 79 80 81 82 83 84 85 86 87 88 89 90 91 92 93 94 95\n",
            " 96 97 98 99]\n",
            "\n",
            "The value is: 41.08641785884471\n",
            "\n",
            "41\n"
          ]
        }
      ],
      "source": [
        "arr = np.arange(100)\n",
        "print(f\"Original array: {arr}\")\n",
        "print()\n",
        "value = np.random.uniform(0,100)\n",
        "print(f'The value is: {value}')\n",
        "print()\n",
        "index = (np.abs(arr-value)).argmin()\n",
        "print(arr[index])"
      ]
    },
    {
      "cell_type": "markdown",
      "id": "602e6252",
      "metadata": {
        "id": "602e6252"
      },
      "source": [
        "#### 51. Create a structured array representing a position (x,y) and a color (r,g,b) (★★☆)"
      ]
    },
    {
      "cell_type": "code",
      "execution_count": null,
      "id": "cf002b3a",
      "metadata": {
        "id": "cf002b3a",
        "colab": {
          "base_uri": "https://localhost:8080/"
        },
        "outputId": "598e6dd1-07de-4d46-ac16-7c301ccf4807"
      },
      "outputs": [
        {
          "output_type": "stream",
          "name": "stdout",
          "text": [
            "[((1., 1.), (1., 1., 1.)) ((1., 1.), (1., 1., 1.))\n",
            " ((1., 1.), (1., 1., 1.)) ((1., 1.), (1., 1., 1.))\n",
            " ((1., 1.), (1., 1., 1.)) ((1., 1.), (1., 1., 1.))\n",
            " ((1., 1.), (1., 1., 1.)) ((1., 1.), (1., 1., 1.))\n",
            " ((1., 1.), (1., 1., 1.)) ((1., 1.), (1., 1., 1.))]\n"
          ]
        },
        {
          "output_type": "stream",
          "name": "stderr",
          "text": [
            "/usr/local/lib/python3.10/dist-packages/numpy/core/numeric.py:204: FutureWarning: Passing (type, 1) or '1type' as a synonym of type is deprecated; in a future version of numpy, it will be understood as (type, (1,)) / '(1,)type'.\n",
            "  a = empty(shape, dtype, order)\n"
          ]
        }
      ],
      "source": [
        "arr = np.ones(10, [ ('position', [ ('x', float, 1),\n",
        "                                  ('y', float, 1)]),\n",
        "                   ('color',    [ ('r', float, 1),\n",
        "                                  ('g', float, 1),\n",
        "                                  ('b', float, 1)])])\n",
        "print(arr)"
      ]
    },
    {
      "cell_type": "markdown",
      "id": "78bcd92f",
      "metadata": {
        "id": "78bcd92f"
      },
      "source": [
        "#### 52. Consider a random vector with shape (100,2) representing coordinates, find point by point distances (★★☆)"
      ]
    },
    {
      "cell_type": "code",
      "execution_count": null,
      "id": "fea7f9a6",
      "metadata": {
        "id": "fea7f9a6",
        "colab": {
          "base_uri": "https://localhost:8080/"
        },
        "outputId": "2046afec-150e-4f6b-a1c8-de783165af07"
      },
      "outputs": [
        {
          "output_type": "stream",
          "name": "stdout",
          "text": [
            "[[0.         0.29761004 0.37662807 0.70296738 0.75573674 0.29025271\n",
            "  0.10803055 0.21520128 0.50959825 0.18706285 0.79717204 0.23860054\n",
            "  0.62976185 0.66691413 0.72883579 0.27076584 0.56209411 0.09594558\n",
            "  0.65274773 0.48600964 0.48495545 0.32699705 0.18153981 0.51014585\n",
            "  0.15984137 0.74004064 0.61901953 0.1444157  0.28963769 0.42812697\n",
            "  0.49609143 0.49254982 0.81032917 0.64400671 0.56459328 0.2389616\n",
            "  0.43235832 0.58410747 0.45436997 0.43794592 0.74263926 0.36879633\n",
            "  0.42638692 0.37728739 0.45994388 0.36055931 0.79676115 0.25705651\n",
            "  0.08716514 0.67276957 0.64843068 0.79664994 0.76346555 0.45618183\n",
            "  0.35599892 0.35761279 0.32646557 0.60797517 0.35534393 0.44459131\n",
            "  0.56240958 0.30757308 0.4602604  0.53361311 0.58580547 0.19545684\n",
            "  0.82691697 0.47688916 0.1457396  0.372152   0.33592732 0.59828129\n",
            "  0.55558459 0.16646009 0.12663102 0.22910683 0.42550737 0.38546971\n",
            "  0.34705291 0.4312729  0.79470592 0.25389975 0.13520054 0.6429309\n",
            "  0.65370713 0.3750209  0.28540769 0.16731124 0.55325446 0.3859436\n",
            "  0.33410046 0.36333165 0.24268044 0.34195624 0.32183661 0.40562064\n",
            "  0.92027055 0.45673511 0.31412904 0.80483918]\n",
            " [0.29761004 0.         0.10462909 0.64465513 0.51616615 0.54893463\n",
            "  0.37559791 0.28373631 0.80682715 0.13546354 0.81476228 0.36074854\n",
            "  0.71805664 0.77777621 0.49156807 0.23124692 0.27382884 0.39091141\n",
            "  0.67987072 0.18912507 0.77757442 0.28973773 0.20518391 0.68565698\n",
            "  0.21015091 0.51047451 0.8084451  0.20837364 0.39834024 0.7187482\n",
            "  0.59507394 0.24244915 0.57446715 0.60399558 0.75596049 0.5285131\n",
            "  0.24586116 0.46905308 0.16370918 0.57818574 0.850449   0.19916259\n",
            "  0.35483973 0.50011554 0.48164402 0.27456082 0.57883544 0.08651735\n",
            "  0.3789918  0.69697353 0.50738718 0.80336823 0.74205073 0.38293906\n",
            "  0.59284854 0.34064428 0.05556458 0.5348166  0.14765465 0.3014449\n",
            "  0.6035766  0.053709   0.74800154 0.80767421 0.74712153 0.17262682\n",
            "  0.89927319 0.24185021 0.37333583 0.17602531 0.53779141 0.54323957\n",
            "  0.33542463 0.3745     0.4222368  0.43265175 0.34909923 0.66854778\n",
            "  0.25865241 0.51452062 0.81957685 0.09904593 0.39591533 0.42344115\n",
            "  0.75959042 0.11368764 0.05504568 0.38481673 0.30956492 0.18324259\n",
            "  0.06885423 0.66057898 0.51781602 0.59062665 0.28578691 0.29512985\n",
            "  0.99166591 0.74563199 0.16575738 0.8828822 ]\n",
            " [0.37662807 0.10462909 0.         0.57445644 0.41160835 0.59627135\n",
            "  0.46574374 0.38819651 0.87840894 0.23639147 0.76246772 0.37859972\n",
            "  0.69268462 0.75804606 0.38694551 0.3340635  0.18603421 0.47241143\n",
            "  0.63537373 0.15241329 0.84133341 0.26351386 0.2398029  0.69325812\n",
            "  0.25317181 0.40592788 0.81711162 0.30841931 0.40539305 0.78105329\n",
            "  0.57970192 0.1378845  0.46987107 0.54112912 0.76704383 0.59328893\n",
            "  0.16089279 0.38944325 0.08397782 0.57853007 0.82732439 0.13509978\n",
            "  0.44550562 0.50028233 0.44788469 0.36832963 0.4746944  0.19077077\n",
            "  0.46222925 0.65079724 0.41847788 0.74797189 0.67976505 0.47162275\n",
            "  0.628821   0.4401328  0.13446425 0.46484857 0.08161554 0.22678824\n",
            "  0.56762596 0.14589108 0.80730678 0.85624667 0.74692031 0.20815971\n",
            "  0.86259695 0.139417   0.46984253 0.25294086 0.56316325 0.47863394\n",
            "  0.23319151 0.47333481 0.49504124 0.53345982 0.43918551 0.72554378\n",
            "  0.21808037 0.49951047 0.76946347 0.20321586 0.48808863 0.32001897\n",
            "  0.73875229 0.16956523 0.09147422 0.48296268 0.20498913 0.10419702\n",
            "  0.04310184 0.73313951 0.57425574 0.63174547 0.26114341 0.38199497\n",
            "  0.95258696 0.80598285 0.13239673 0.84854877]\n",
            " [0.70296738 0.64465513 0.57445644 0.         0.47052192 0.67055703\n",
            "  0.80741939 0.8604057  0.99884064 0.71327947 0.23168594 0.48049534\n",
            "  0.33238081 0.40126856 0.45620781 0.85053367 0.61155469 0.76702393\n",
            "  0.19276222 0.69635321 0.92204928 0.38789073 0.54178511 0.51585821\n",
            "  0.56042464 0.43501595 0.59581866 0.75628332 0.43924148 0.86868575\n",
            "  0.34726917 0.49496071 0.47696815 0.06517153 0.57691115 0.75631391\n",
            "  0.41485152 0.19239144 0.61034206 0.42965628 0.42906357 0.44670057\n",
            "  0.99573363 0.41246688 0.25934627 0.91389397 0.41606894 0.71557082\n",
            "  0.76935736 0.18899072 0.20843183 0.20620849 0.12018328 1.0250608\n",
            "  0.63072588 0.96627818 0.69528605 0.1100092  0.50110767 0.34779433\n",
            "  0.22946152 0.6982339  0.87049375 0.84475337 0.50301248 0.54926183\n",
            "  0.38645958 0.469019   0.84846641 0.81900527 0.54851414 0.10626889\n",
            "  0.41229192 0.86756162 0.73843557 0.93169894 0.99056358 0.79974322\n",
            "  0.39481485 0.33974938 0.24725264 0.72656299 0.83441089 0.39677199\n",
            "  0.38343557 0.74177989 0.59209582 0.86974447 0.46762379 0.47088766\n",
            "  0.58477254 0.89365939 0.70355326 0.6583522  0.3932161  0.93897393\n",
            "  0.45246821 0.87557795 0.48142817 0.38667698]\n",
            " [0.75573674 0.51616615 0.41160835 0.47052192 0.         0.89351653\n",
            "  0.85713982 0.79979964 1.21617481 0.64610388 0.70199529 0.64802345\n",
            "  0.75815035 0.8328134  0.0272011  0.74213072 0.29021179 0.84930965\n",
            "  0.63741678 0.42569645 1.16094848 0.4835396  0.58090516 0.87039322\n",
            "  0.60157572 0.035546   0.9813247  0.716462   0.64234046 1.10010911\n",
            "  0.70513349 0.27452299 0.05856737 0.48766169 0.94491183 0.93004567\n",
            "  0.32617858 0.32386159 0.37337194 0.75386383 0.87874868 0.38833419\n",
            "  0.8303073  0.69304725 0.5518877  0.76176092 0.09086265 0.60174879\n",
            "  0.84257709 0.64177745 0.26882033 0.67561768 0.58806744 0.85153218\n",
            "  0.89445383 0.84108043 0.53636894 0.40765749 0.40285377 0.33918541\n",
            "  0.62272484 0.55198613 1.11736095 1.13503577 0.89135475 0.56109062\n",
            "  0.85472471 0.28222536 0.8709447  0.6334978  0.81085553 0.44232254\n",
            "  0.2008982  0.87781656 0.8550701  0.9403272  0.82322655 1.03489826\n",
            "  0.43735247 0.64739147 0.71777446 0.61405027 0.8820546  0.12055441\n",
            "  0.81264975 0.5473839  0.49339012 0.88631198 0.20793975 0.37011479\n",
            "  0.45125708 1.07910935 0.89446092 0.91003698 0.4863583  0.76368833\n",
            "  0.92296509 1.11876733 0.44202392 0.85240827]\n",
            " [0.29025271 0.54893463 0.59627135 0.67055703 0.89351653 0.\n",
            "  0.31412482 0.49558386 0.33428779 0.46831215 0.6757446  0.24554654\n",
            "  0.46394069 0.4717838  0.86670168 0.56030412 0.77562222 0.25192914\n",
            "  0.54536637 0.73370303 0.26881512 0.4100437  0.35647085 0.27394824\n",
            "  0.34426407 0.86860838 0.35586277 0.43460332 0.25714825 0.20905532\n",
            "  0.35241879 0.67364735 0.93919565 0.6053859  0.30461697 0.11256708\n",
            "  0.57884782 0.62996095 0.68022641 0.26585994 0.54077354 0.52659565\n",
            "  0.71194778 0.25849866 0.41520453 0.64986821 0.9074017  0.53327246\n",
            "  0.26657978 0.56441237 0.70459179 0.68590315 0.68499814 0.74074806\n",
            "  0.07982412 0.63821615 0.59110148 0.6093572  0.54241728 0.55433553\n",
            "  0.46194171 0.57478429 0.2238469  0.26011032 0.3519544  0.38846917\n",
            "  0.64940932 0.64855801 0.37039719 0.65739181 0.12768247 0.58474614\n",
            "  0.69990189 0.39652379 0.19096357 0.43234625 0.71174266 0.14173776\n",
            "  0.45833684 0.33192986 0.66650165 0.53296217 0.3278426  0.77298744\n",
            "  0.46561053 0.64635536 0.51628351 0.38852269 0.71898688 0.5587847\n",
            "  0.560147   0.22435241 0.0620071  0.05478499 0.40738548 0.6953225\n",
            "  0.73532076 0.22545428 0.48531166 0.62427789]\n",
            " [0.10803055 0.37559791 0.46574374 0.80741939 0.85713982 0.31412482\n",
            "  0.         0.19492026 0.45497405 0.24636985 0.89051365 0.33426506\n",
            "  0.71135264 0.74123785 0.83045636 0.27664512 0.64790965 0.06256085\n",
            "  0.74685252 0.55764077 0.44809214 0.43478262 0.28892804 0.56746604\n",
            "  0.26725735 0.84286669 0.66543866 0.17972396 0.38331085 0.39807817\n",
            "  0.57958696 0.58945983 0.91259942 0.74737545 0.61223658 0.22718319\n",
            "  0.53647986 0.69206362 0.53820109 0.5123989  0.8159357  0.47273176\n",
            "  0.41019803 0.4607971  0.55971299 0.36034966 0.90130169 0.31611477\n",
            "  0.04953115 0.76699106 0.75643875 0.89186662 0.86327403 0.43691161\n",
            "  0.3905751  0.33177532 0.39273924 0.71431556 0.4546141  0.55174051\n",
            "  0.65613032 0.3727023  0.4344509  0.52407191 0.64561037 0.30041554\n",
            "  0.90814825 0.57614269 0.05680182 0.40800551 0.39326164 0.70348708\n",
            "  0.65813152 0.08304174 0.1232184  0.13244671 0.41122071 0.37141035\n",
            "  0.45487766 0.52140713 0.88675677 0.30923674 0.02726885 0.74639795\n",
            "  0.72985244 0.43207265 0.37464332 0.07686406 0.6522578  0.48711375\n",
            "  0.42264338 0.31301449 0.25498254 0.36890369 0.42964987 0.40657117\n",
            "  1.00026696 0.42892872 0.41762399 0.88503252]\n",
            " [0.21520128 0.28373631 0.38819651 0.8604057  0.79979964 0.49558386\n",
            "  0.19492026 0.         0.64153279 0.15859834 0.98562297 0.43699201\n",
            "  0.8347807  0.8767518  0.77501658 0.09094606 0.54675916 0.24985066\n",
            "  0.84163187 0.43076852 0.64133461 0.47267355 0.3207052  0.72529004\n",
            "  0.30430578 0.79326458 0.83373928 0.10418835 0.48834261 0.59264153\n",
            "  0.70092043 0.52562087 0.85802161 0.80780611 0.77939235 0.41988079\n",
            "  0.50967583 0.71038501 0.43943667 0.64933515 0.95267567 0.45056063\n",
            "  0.217156   0.58398583 0.64073482 0.16643093 0.86031687 0.19950379\n",
            "  0.23401817 0.86114538 0.76234385 0.98148623 0.93750645 0.24533403\n",
            "  0.56669375 0.14316463 0.27314771 0.75596509 0.41220847 0.54851372\n",
            "  0.75346858 0.25444404 0.6292509  0.71836941 0.80065024 0.31116843\n",
            "  1.03083549 0.52238493 0.15242993 0.23906375 0.55111142 0.75419006\n",
            "  0.61456509 0.13578108 0.3088275  0.17012082 0.21756902 0.56578354\n",
            "  0.47040904 0.63026191 0.98542944 0.18772425 0.19639641 0.70383367\n",
            "  0.86254335 0.29055209 0.31129254 0.14876582 0.59266866 0.44930896\n",
            "  0.34920231 0.50396551 0.44071647 0.54941532 0.46737388 0.21237895\n",
            "  1.12479887 0.62360318 0.39941155 1.00979645]\n",
            " [0.50959825 0.80682715 0.87840894 0.99884064 1.21617481 0.33428779\n",
            "  0.45497405 0.64153279 0.         0.69169838 0.97302332 0.57226161\n",
            "  0.75070757 0.73455559 1.18906781 0.72887469 1.06417411 0.42013556\n",
            "  0.85638632 0.99555723 0.08750631 0.73474756 0.64837532 0.53132694\n",
            "  0.6306798  1.19339621 0.54519281 0.6319371  0.59026162 0.13051047\n",
            "  0.66368008 0.97773036 1.26454028 0.93389438 0.515759   0.28827257\n",
            "  0.89370844 0.96387916 0.9595388  0.57578726 0.7885082  0.83594187\n",
            "  0.84327246 0.58723251 0.74751309 0.80734551 1.23631387 0.76276559\n",
            "  0.43412142 0.8739464  1.03835389 0.98810049 1.00063372 0.86535421\n",
            "  0.36885022 0.76133768 0.83527963 0.94278913 0.84048148 0.87848722\n",
            "  0.78045236 0.81599086 0.1381293  0.22603264 0.59275387 0.67572346\n",
            "  0.90989014 0.95609874 0.48917584 0.86284032 0.45046699 0.9171807\n",
            "  1.01813508 0.50687102 0.38482659 0.49733986 0.84596762 0.1991106\n",
            "  0.77887613 0.65919364 0.96057622 0.75773441 0.44674842 1.0963285\n",
            "  0.735374   0.88087798 0.78938291 0.49408439 1.0302196  0.86349782\n",
            "  0.83744518 0.1462719  0.32206951 0.34049906 0.73143455 0.852637\n",
            "  0.98244857 0.13036505 0.78791287 0.88415398]\n",
            " [0.18706285 0.13546354 0.23639147 0.71327947 0.64610388 0.46831215\n",
            "  0.24636985 0.15859834 0.69169838 0.         0.85528464 0.33441998\n",
            "  0.72561037 0.77626894 0.62075386 0.13924444 0.40878009 0.27156712\n",
            "  0.71352137 0.31137352 0.671336   0.3293459  0.18931799 0.65156959\n",
            "  0.1795901  0.63784859 0.76947007 0.07292524 0.38214949 0.61502091\n",
            "  0.59434246 0.37162664 0.70392381 0.6640677  0.71523499 0.42601134\n",
            "  0.35109016 0.55554257 0.2987606  0.55792027 0.85158695 0.2924069\n",
            "  0.29677593 0.48452034 0.51049482 0.21695339 0.70366716 0.07106876\n",
            "  0.25782474 0.732301   0.60516158 0.84830775 0.79763235 0.32777509\n",
            "  0.52535145 0.25423176 0.14637488 0.6064879  0.25374153 0.39157446\n",
            "  0.62892229 0.12636745 0.64732285 0.7187981  0.7211788  0.16975497\n",
            "  0.91723389 0.36611109 0.23879076 0.18929299 0.48676122 0.60770127\n",
            "  0.45731691 0.23909228 0.3131432  0.29746311 0.29322483 0.5720943\n",
            "  0.31915957 0.51759518 0.85706906 0.06686322 0.26442927 0.5468619\n",
            "  0.76002337 0.18925355 0.15384723 0.24955298 0.43823484 0.29078612\n",
            "  0.19510889 0.54600906 0.4264827  0.51650921 0.32425577 0.25469383\n",
            "  1.01123101 0.64376578 0.24237984 0.89806053]\n",
            " [0.79717204 0.81476228 0.76246772 0.23168594 0.70199529 0.6757446\n",
            "  0.89051365 0.98562297 0.97302332 0.85528464 0.         0.55863211\n",
            "  0.22310984 0.25921739 0.6878933  0.99437988 0.8281564  0.83899934\n",
            "  0.14454241 0.89826592 0.88837347 0.52982962 0.66842214 0.4442639\n",
            "  0.68259244 0.66652331 0.47857352 0.88328821 0.50804067 0.8445633\n",
            "  0.32458033 0.7053058  0.70626044 0.2312722  0.48053678 0.78021093\n",
            "  0.6113667  0.41067559 0.81162317 0.40988588 0.24860259 0.62796957\n",
            "  1.15003701 0.43574904 0.34551302 1.0684294  0.64425801 0.87337452\n",
            "  0.84550244 0.12469145 0.43906077 0.02997682 0.11558393 1.18062893\n",
            "  0.61410915 1.10810177 0.86902008 0.31765351 0.68298888 0.54081138\n",
            "  0.2347941  0.86794256 0.8360144  0.78223937 0.39784362 0.68553467\n",
            "  0.16571449 0.67678561 0.93992179 0.99051186 0.54852705 0.29253237\n",
            "  0.63287008 0.96268873 0.79643817 1.02206604 1.14579535 0.78012999\n",
            "  0.55614688 0.36959296 0.01981617 0.88282458 0.9156824  0.62637484\n",
            "  0.25016827 0.9215518  0.7598665  0.96186466 0.68729839 0.65894139\n",
            "  0.76370604 0.89588537 0.7241778  0.64589945 0.53451347 1.09971643\n",
            "  0.22111758 0.84308792 0.64946499 0.17398915]\n",
            " [0.23860054 0.36074854 0.37859972 0.48049534 0.64802345 0.24554654\n",
            "  0.33426506 0.43699201 0.57226161 0.33441998 0.55863211 0.\n",
            "  0.39799014 0.44352679 0.62118225 0.46463927 0.54610838 0.28820914\n",
            "  0.4142839  0.5273541  0.51321851 0.16450334 0.15686793 0.32532442\n",
            "  0.15817905 0.62343266 0.44773783 0.34051092 0.05157752 0.45259957\n",
            "  0.26436031 0.4353255  0.69420382 0.41807501 0.39523235 0.29468536\n",
            "  0.33549836 0.39865404 0.46099436 0.22391267 0.51927031 0.28744529\n",
            "  0.62651164 0.1503683  0.22635819 0.54947718 0.66417377 0.37896928\n",
            "  0.29213106 0.43434044 0.47148384 0.55859231 0.52931827 0.65756963\n",
            "  0.25704261 0.57069617 0.41276937 0.39742377 0.312356   0.30884067\n",
            "  0.32384466 0.40156229 0.46936239 0.49490049 0.38996977 0.18840995\n",
            "  0.59384529 0.4084471  0.38175024 0.510444   0.1849695  0.38058515\n",
            "  0.45482832 0.40415473 0.25822656 0.46443796 0.62379588 0.38688673\n",
            "  0.21345767 0.19397794 0.55611118 0.38393625 0.36035806 0.52751831\n",
            "  0.42811711 0.47202524 0.314761   0.40366945 0.47626659 0.32238332\n",
            "  0.34982824 0.44292646 0.25100695 0.26667666 0.16185352 0.588889\n",
            "  0.68780976 0.47075011 0.25366129 0.57286372]\n",
            " [0.62976185 0.71805664 0.69268462 0.33238081 0.75815035 0.46394069\n",
            "  0.71135264 0.8347807  0.75070757 0.72561037 0.22310984 0.39799014\n",
            "  0.         0.07471012 0.73777264 0.86026384 0.80452619 0.65461271\n",
            "  0.14051378 0.8420217  0.66563964 0.43162512 0.53729628 0.22116027\n",
            "  0.54605328 0.72362157 0.26956495 0.73819229 0.3470186  0.62295212\n",
            "  0.13394781 0.67628356 0.77901551 0.28512564 0.26208518 0.5728089\n",
            "  0.56777983 0.43475319 0.75900185 0.20308561 0.13488274 0.56115596\n",
            "  1.02142807 0.25248322 0.2462262  0.94252702 0.7239091  0.75912493\n",
            "  0.66349446 0.14931505 0.49293702 0.24102877 0.27622039 1.05251751\n",
            "  0.39688098 0.9682845  0.77358182 0.35285331 0.61133479 0.50135625\n",
            "  0.1380205  0.76764087 0.61335854 0.55978712 0.18084861 0.5620595\n",
            "  0.19722747 0.64526134 0.7646965  0.88663418 0.33982852 0.31741432\n",
            "  0.63205052 0.78927311 0.60534211 0.84369781 1.0182752  0.55968201\n",
            "  0.4746301  0.20803535 0.20993166 0.7664027  0.7344843  0.65674672\n",
            "  0.05450608 0.83115399 0.66410947 0.78639521 0.67986677 0.59800363\n",
            "  0.68152172 0.67910738 0.51700996 0.42909552 0.4348478  0.97948781\n",
            "  0.29054876 0.62056884 0.5638179  0.175192  ]\n",
            " [0.66691413 0.77777621 0.75804606 0.40126856 0.8328134  0.4717838\n",
            "  0.74123785 0.8767518  0.73455559 0.77626894 0.25921739 0.44352679\n",
            "  0.07471012 0.         0.81247693 0.90815967 0.87550202 0.68217018\n",
            "  0.20855758 0.90857991 0.64781505 0.49520379 0.59021162 0.20600177\n",
            "  0.5970522  0.79825171 0.21937766 0.78337307 0.39428498 0.61043607\n",
            "  0.1832676  0.74733701 0.85332517 0.35730474 0.22549311 0.58361488\n",
            "  0.63802373 0.50946174 0.82660865 0.22943461 0.07593229 0.62831968\n",
            "  1.06999689 0.29357867 0.3153132  0.99247092 0.79784952 0.81401298\n",
            "  0.69236075 0.21362945 0.56726187 0.28262483 0.33300005 1.10106414\n",
            "  0.3982679  1.01337288 0.83308596 0.42710545 0.67715245 0.5726696\n",
            "  0.21226542 0.82604989 0.59642669 0.53130261 0.14355068 0.61685082\n",
            "  0.17878228 0.7162451  0.79612783 0.94321192 0.35521673 0.39173495\n",
            "  0.70556735 0.82140015 0.62927273 0.87263136 1.06721392 0.551221\n",
            "  0.54056675 0.26334315 0.24240008 0.82061466 0.76292313 0.73135458\n",
            "  0.02048943 0.8913417  0.72460538 0.8174661  0.75277243 0.66566794\n",
            "  0.7446948  0.67665342 0.5290458  0.43041433 0.49805087 1.03092481\n",
            "  0.26377324 0.60434878 0.62765545 0.15323306]\n",
            " [0.72883579 0.49156807 0.38694551 0.45620781 0.0272011  0.86670168\n",
            "  0.83045636 0.77501658 1.18906781 0.62075386 0.6878933  0.62118225\n",
            "  0.73777264 0.81247693 0.         0.71850131 0.27263791 0.82230904\n",
            "  0.61908731 0.4069263  1.13401757 0.45668341 0.55377838 0.84631963\n",
            "  0.57447353 0.02954065 0.95804682 0.69083225 0.61594547 1.07315754\n",
            "  0.68199875 0.24943523 0.08317794 0.47037733 0.92105819 0.90287858\n",
            "  0.29901027 0.3030392  0.35146037 0.72937768 0.85974324 0.36124335\n",
            "  0.80937908 0.66779946 0.52822929 0.73988498 0.10154786 0.5774068\n",
            "  0.81563772 0.62408165 0.25156838 0.66202025 0.57476387 0.83108223\n",
            "  0.8681627  0.81854206 0.51305634 0.38889861 0.37636583 0.3123719\n",
            "  0.60169871 0.52833961 1.09053886 1.10878588 0.86847501 0.5340906\n",
            "  0.83865961 0.25610264 0.8446587  0.61223012 0.78475394 0.42315507\n",
            "  0.17377885 0.85174743 0.82790171 0.91443619 0.80234861 1.00803506\n",
            "  0.41028165 0.62313521 0.70326927 0.58975683 0.85544123 0.09395213\n",
            "  0.79223752 0.52574426 0.46774277 0.86015637 0.18254061 0.34336585\n",
            "  0.42613791 1.05192806 0.86739109 0.88353662 0.45946158 0.74284693\n",
            "  0.90853533 1.09190718 0.41502444 0.83568488]\n",
            " [0.27076584 0.23124692 0.3340635  0.85053367 0.74213072 0.56030412\n",
            "  0.27664512 0.09094606 0.72887469 0.13924444 0.99437988 0.46463927\n",
            "  0.86026384 0.90815967 0.71850131 0.         0.47591844 0.32547331\n",
            "  0.8523348  0.35238554 0.7247185  0.46834431 0.32708027 0.77149051\n",
            "  0.31536965 0.73887921 0.88516239 0.12924839 0.51425068 0.67393674\n",
            "  0.7277837  0.47137725 0.80068584 0.80244334 0.83062936 0.49494429\n",
            "  0.4730617  0.68760456 0.37273602 0.68542358 0.98386691 0.41927353\n",
            "  0.16196926 0.6148462  0.64935581 0.08982287 0.80853218 0.14539831\n",
            "  0.30960923 0.87120845 0.73269425 0.98753746 0.93657434 0.19298242\n",
            "  0.62664209 0.11574451 0.20611029 0.74286842 0.37367712 0.52113283\n",
            "  0.76712922 0.19016574 0.70967348 0.79433827 0.8441705  0.30892854\n",
            "  1.05346258 0.47281248 0.24030865 0.1497906  0.60069148 0.74537505\n",
            "  0.56652497 0.22577089 0.38097838 0.2600769  0.15957543 0.64251492\n",
            "  0.45575243 0.65266842 0.99599467 0.13290227 0.28218213 0.65404863\n",
            "  0.89259128 0.21078072 0.27118687 0.23874877 0.53820576 0.41064219\n",
            "  0.30000663 0.58912625 0.5094203  0.61257911 0.46328904 0.13502257\n",
            "  1.1475569  0.70452911 0.3736214  1.03376728]\n",
            " [0.56209411 0.27382884 0.18603421 0.61155469 0.29021179 0.77562222\n",
            "  0.64790965 0.54675916 1.06417411 0.40878009 0.8281564  0.54610838\n",
            "  0.80452619 0.87550202 0.27263791 0.47591844 0.         0.65765653\n",
            "  0.72033882 0.1364534  1.02562247 0.40412608 0.42100196 0.84322898\n",
            "  0.43625487 0.29955994 0.96582818 0.48164019 0.5640227  0.9650647\n",
            "  0.70857109 0.12824431 0.34657109 0.59700052 0.91890206 0.77833583\n",
            "  0.23810472 0.42009054 0.11011982 0.72447162 0.938375   0.26337111\n",
            "  0.54505917 0.64884858 0.5605569  0.48138782 0.37351897 0.34917064\n",
            "  0.64705653 0.73216925 0.41578452 0.80821284 0.72879739 0.56461673\n",
            "  0.80188043 0.5641482  0.27361325 0.51130154 0.2343201  0.30320755\n",
            "  0.66959557 0.29247515 0.9903241  1.03452674 0.88787882 0.39087094\n",
            "  0.95245239 0.15928005 0.64715077 0.35113468 0.73042303 0.5357869\n",
            "  0.20013934 0.64777875 0.68107064 0.70435783 0.53781991 0.9080284\n",
            "  0.35085781 0.63241657 0.83898529 0.36014505 0.66906998 0.24893892\n",
            "  0.85528527 0.26877872 0.27672027 0.65833201 0.14484499 0.22584336\n",
            "  0.22805108 0.91906713 0.75724117 0.8076978  0.40366695 0.47840787\n",
            "  1.03632699 0.98934686 0.29276643 0.94249744]\n",
            " [0.09594558 0.39091141 0.47241143 0.76702393 0.84930965 0.25192914\n",
            "  0.06256085 0.24985066 0.42013556 0.27156712 0.83899934 0.28820914\n",
            "  0.65461271 0.68217018 0.82230904 0.32547331 0.65765653 0.\n",
            "  0.69621759 0.57802752 0.40356112 0.4056124  0.27045608 0.50570213\n",
            "  0.24907974 0.83269254 0.60290367 0.21407432 0.33492464 0.35011308\n",
            "  0.52406374 0.58802369 0.90330714 0.70551744 0.5497499  0.1702215\n",
            "  0.52452113 0.6628897  0.54951844 0.45409843 0.75647575 0.46135708\n",
            "  0.46682758 0.40601879 0.51454105 0.41222711 0.88776225 0.3426357\n",
            "  0.01591558 0.71637131 0.73009032 0.84160988 0.81690673 0.49440196\n",
            "  0.32805049 0.39004044 0.41582922 0.67803799 0.450433   0.53191227\n",
            "  0.60557781 0.39633206 0.38498507 0.46939067 0.58400831 0.28821962\n",
            "  0.85086584 0.57176272 0.1193229  0.44693311 0.33202712 0.66478187\n",
            "  0.64870713 0.1455693  0.06099523 0.1905678  0.46739318 0.31719132\n",
            "  0.43210104 0.46940747 0.83445783 0.3376628  0.08091081 0.73520025\n",
            "  0.67130496 0.46074866 0.38108833 0.1388265  0.64811177 0.48023149\n",
            "  0.4297774  0.27461904 0.19351211 0.30667778 0.40072574 0.45848801\n",
            "  0.94243992 0.38024078 0.40728677 0.82743376]\n",
            " [0.65274773 0.67987072 0.63537373 0.19276222 0.63741678 0.54536637\n",
            "  0.74685252 0.84163187 0.85638632 0.71352137 0.14454241 0.4142839\n",
            "  0.14051378 0.20855758 0.61908731 0.8523348  0.72033882 0.69621759\n",
            "  0.         0.77723912 0.77437861 0.39162133 0.52565487 0.34245134\n",
            "  0.53925251 0.6021919  0.40820947 0.73963801 0.36390493 0.72627111\n",
            "  0.19392716 0.59368974 0.65298154 0.15184131 0.39513429 0.64574337\n",
            "  0.49212718 0.32029688 0.69128642 0.28211103 0.24233454 0.50028913\n",
            "  1.0092608  0.29639781 0.20303127 0.92796244 0.59531867 0.73457401\n",
            "  0.70231828 0.02015475 0.36878508 0.14546751 0.14546047 1.040007\n",
            "  0.49017186 0.96546556 0.7348212  0.23027255 0.5544076  0.42190211\n",
            "  0.09072735 0.73243534 0.72192251 0.68089722 0.31699475 0.54397211\n",
            "  0.23211585 0.56367424 0.79580369 0.85468769 0.41774003 0.19680107\n",
            "  0.53384307 0.81842039 0.65525682 0.87813173 1.00520977 0.65946878\n",
            "  0.42267957 0.2273741  0.1439105  0.74360659 0.77222927 0.54468102\n",
            "  0.19068939 0.78909273 0.62482511 0.81774175 0.58569563 0.53376627\n",
            "  0.63259251 0.76855573 0.59002386 0.52093821 0.39604881 0.96045656\n",
            "  0.31828999 0.72821226 0.51614261 0.2230262 ]\n",
            " [0.48600964 0.18912507 0.15241329 0.69635321 0.42569645 0.73370303\n",
            "  0.55764077 0.43076852 0.99555723 0.31137352 0.89826592 0.5273541\n",
            "  0.8420217  0.90857991 0.4069263  0.35238554 0.1364534  0.57802752\n",
            "  0.77723912 0.         0.96661986 0.41529396 0.38050031 0.8450675\n",
            "  0.39012829 0.43282898 0.9689205  0.38138891 0.55660667 0.90764899\n",
            "  0.73140429 0.20518416 0.4825894  0.67109746 0.91847505 0.71750773\n",
            "  0.28690601 0.50486846 0.0866791  0.7308269  0.976866   0.28094328\n",
            "  0.40925609 0.6525095  0.59617333 0.34818912 0.50673632 0.24333188\n",
            "  0.56546819 0.79157114 0.51671045 0.88154459 0.8081482  0.42831465\n",
            "  0.77241421 0.43234654 0.16533738 0.58953087 0.23167444 0.35750857\n",
            "  0.71409027 0.18549079 0.93652579 0.99345547 0.8993125  0.34750598\n",
            "  1.00704516 0.22803094 0.54762342 0.21787937 0.71067684 0.60830225\n",
            "  0.30377924 0.54423389 0.61120688 0.59567795 0.40197182 0.85654822\n",
            "  0.36802123 0.65144242 0.90674702 0.2521326  0.57567998 0.37123938\n",
            "  0.88908899 0.14160624 0.21775603 0.55579704 0.25413142 0.24480895\n",
            "  0.17762629 0.84928595 0.7054143  0.77282277 0.41311105 0.34271427\n",
            "  1.09547699 0.93431306 0.28480329 0.99411032]\n",
            " [0.48495545 0.77757442 0.84133341 0.92204928 1.16094848 0.26881512\n",
            "  0.44809214 0.64133461 0.08750631 0.671336   0.88837347 0.51321851\n",
            "  0.66563964 0.64781505 1.13401757 0.7247185  1.02562247 0.40356112\n",
            "  0.77437861 0.96661986 0.         0.67750822 0.60542    0.4454767\n",
            "  0.58941628 1.13664781 0.45782184 0.61757276 0.5256699  0.06115962\n",
            "  0.58284496 0.93216255 1.20741182 0.85741724 0.42831959 0.24915975\n",
            "  0.84259276 0.89703975 0.92406287 0.49557425 0.70114568 0.78734782\n",
            "  0.85116907 0.51281044 0.67460226 0.80766098 1.17619039 0.74184643\n",
            "  0.41880368 0.79156623 0.9718662  0.90409086 0.91919908 0.87535343\n",
            "  0.29153005 0.7699641  0.81079182 0.87071909 0.79688652 0.82188681\n",
            "  0.70063954 0.79221047 0.05249528 0.1430937  0.50566681 0.63480835\n",
            "  0.82270544 0.90883864 0.49010093 0.85048056 0.37587755 0.84380523\n",
            "  0.96544971 0.51090816 0.35835949 0.51262179 0.85313837 0.12731014\n",
            "  0.72429287 0.58338889 0.87557116 0.73815082 0.44506264 1.04053515\n",
            "  0.64901397 0.85994553 0.75479254 0.49871169 0.98136067 0.81716234\n",
            "  0.80182391 0.14017406 0.27000379 0.26556952 0.67460577 0.85370545\n",
            "  0.89495803 0.04649538 0.74207491 0.79698283]\n",
            " [0.32699705 0.28973773 0.26351386 0.38789073 0.4835396  0.4100437\n",
            "  0.43478262 0.47267355 0.73474756 0.3293459  0.52982962 0.16450334\n",
            "  0.43162512 0.49520379 0.45668341 0.46834431 0.40412608 0.4056124\n",
            "  0.39162133 0.41529396 0.67750822 0.         0.15460431 0.43923542\n",
            "  0.17425753 0.45925111 0.56220341 0.36850225 0.16555376 0.61675998\n",
            "  0.31619666 0.28353029 0.53018409 0.33560366 0.51480205 0.45208288\n",
            "  0.1765507  0.25762619 0.33658302 0.32102361 0.5656233  0.14136933\n",
            "  0.62099718 0.24475369 0.1919063  0.5391599  0.5021099  0.34355879\n",
            "  0.40407457 0.40934407 0.32469425 0.5209757  0.46828652 0.65139937\n",
            "  0.41619868 0.58357763 0.34516097 0.28557044 0.18387166 0.14438398\n",
            "  0.31383888 0.34152819 0.63386573 0.65631302 0.48697805 0.16184734\n",
            "  0.60962147 0.25427676 0.46927075 0.46338798 0.33662649 0.28162706\n",
            "  0.2913258  0.48609725 0.39375167 0.5513716  0.61656177 0.55135897\n",
            "  0.05381452 0.23615359 0.53322189 0.35301066 0.462034   0.36305898\n",
            "  0.47615412 0.4013312  0.23488495 0.48971963 0.31663912 0.17960313\n",
            "  0.24991152 0.6015503  0.41269403 0.42895903 0.00535217 0.56988753\n",
            "  0.70192841 0.63522893 0.1324596  0.59353168]\n",
            " [0.18153981 0.20518391 0.2398029  0.54178511 0.58090516 0.35647085\n",
            "  0.28892804 0.3207052  0.64837532 0.18931799 0.66842214 0.15686793\n",
            "  0.53729628 0.59021162 0.55377838 0.32708027 0.42100196 0.27045608\n",
            "  0.52565487 0.38050031 0.60542    0.15460431 0.         0.48215275\n",
            "  0.02169852 0.56306755 0.60426348 0.21676785 0.19898198 0.54462263\n",
            "  0.4073335  0.32952898 0.63396224 0.48762152 0.55139865 0.36036266\n",
            "  0.25496226 0.40671545 0.32375577 0.37875988 0.6649944  0.19269701\n",
            "  0.48609125 0.30228222 0.32294329 0.40604022 0.61731564 0.22442281\n",
            "  0.26551982 0.54470756 0.4685741  0.66276938 0.61683797 0.51709303\n",
            "  0.39191484 0.43981519 0.25617474 0.44017144 0.19215176 0.26305492\n",
            "  0.44004898 0.24469803 0.56935038 0.61648216 0.54629071 0.03312449\n",
            "  0.72803332 0.30906978 0.3180919  0.35517755 0.33298158 0.43555377\n",
            "  0.38000697 0.33342633 0.27468313 0.39900272 0.48252924 0.48703049\n",
            "  0.16636669 0.32932498 0.6694766  0.23053055 0.31578644 0.46533555\n",
            "  0.57336435 0.31535139 0.16324856 0.33786348 0.38449218 0.21618978\n",
            "  0.20439609 0.50573534 0.33632947 0.3929287  0.14925257 0.4422208\n",
            "  0.8219941  0.56846981 0.14081007 0.70904657]\n",
            " [0.51014585 0.68565698 0.69325812 0.51585821 0.87039322 0.27394824\n",
            "  0.56746604 0.72529004 0.53132694 0.65156959 0.4442639  0.32532442\n",
            "  0.22116027 0.20600177 0.84631963 0.77149051 0.84322898 0.50570213\n",
            "  0.34245134 0.8450675  0.4454767  0.43923542 0.48215275 0.\n",
            "  0.48205646 0.83884437 0.12385743 0.64252045 0.28902917 0.40540852\n",
            "  0.17331841 0.72043709 0.90303682 0.4562578  0.0761813  0.38647294\n",
            "  0.61019577 0.55617955 0.77197695 0.11978794 0.2694279  0.58052027\n",
            "  0.9321384  0.19454606 0.31904903 0.85994821 0.85630815 0.70206818\n",
            "  0.51793991 0.35721789 0.62694824 0.46168929 0.48729589 0.96266542\n",
            "  0.19649033 0.86708032 0.73806048 0.49760654 0.61877187 0.55785005\n",
            "  0.28665305 0.72684315 0.39344739 0.33980094 0.07873285 0.5136752\n",
            "  0.3844798  0.69016069 0.6240146  0.8336377  0.17515291 0.46407627\n",
            "  0.70684145 0.65008897 0.448155   0.69484852 0.93044732 0.34526865\n",
            "  0.49237218 0.22336239 0.43075614 0.70609361 0.58615102 0.75572791\n",
            "  0.20469685 0.79733263 0.63805031 0.64428723 0.7440117  0.61864535\n",
            "  0.66940167 0.47104163 0.33427323 0.22790815 0.43995053 0.90218634\n",
            "  0.46568264 0.40096926 0.56188816 0.35879297]\n",
            " [0.15984137 0.21015091 0.25317181 0.56042464 0.60157572 0.34426407\n",
            "  0.26725735 0.30430578 0.6306798  0.1795901  0.68259244 0.15817905\n",
            "  0.54605328 0.5970522  0.57447353 0.31536965 0.43625487 0.24907974\n",
            "  0.53925251 0.39012829 0.58941628 0.17425753 0.02169852 0.48205646\n",
            "  0.         0.58405854 0.6032353  0.20094795 0.2035745  0.52881279\n",
            "  0.41482626 0.34802149 0.65487877 0.50546144 0.54990478 0.34310481\n",
            "  0.27586723 0.42774894 0.33684876 0.38185273 0.67222408 0.21324827\n",
            "  0.47566408 0.30664768 0.3371535  0.396474   0.63869194 0.22079428\n",
            "  0.24396159 0.55850014 0.49001482 0.67764648 0.63344909 0.50673399\n",
            "  0.38335249 0.42672524 0.25888782 0.45970374 0.21004796 0.28475231\n",
            "  0.45263416 0.24603066 0.55435825 0.60435788 0.54806456 0.04539213\n",
            "  0.73825239 0.32833556 0.29690297 0.35230406 0.32814772 0.45428263\n",
            "  0.40069657 0.31259927 0.25474069 0.3781109  0.47236522 0.47241905\n",
            "  0.18788366 0.3380678  0.68315948 0.22583965 0.29413609 0.48639593\n",
            "  0.58062412 0.31759371 0.17238092 0.31682184 0.40405686 0.23553164\n",
            "  0.21595673 0.48737877 0.32124011 0.38273576 0.16891834 0.43397621\n",
            "  0.83231911 0.55321213 0.16055059 0.71880832]\n",
            " [0.74004064 0.51047451 0.40592788 0.43501595 0.035546   0.86860838\n",
            "  0.84286669 0.79326458 1.19339621 0.63784859 0.66652331 0.62343266\n",
            "  0.72362157 0.79825171 0.02954065 0.73887921 0.29955994 0.83269254\n",
            "  0.6021919  0.43282898 1.13664781 0.45925111 0.56306755 0.83884437\n",
            "  0.58405854 0.         0.94882592 0.7071385  0.61575558 1.07597036\n",
            "  0.67257398 0.2680438  0.07131213 0.45225647 0.91306508 0.90828997\n",
            "  0.30821349 0.28980903 0.37462585 0.72293368 0.84367659 0.37138586\n",
            "  0.83311746 0.66344506 0.51998724 0.76263115 0.07398757 0.59668853\n",
            "  0.82650807 0.60641925 0.23348811 0.64020262 0.55268575 0.85527793\n",
            "  0.86735229 0.84042919 0.53411762 0.37261395 0.39028948 0.31501966\n",
            "  0.58857275 0.54886976 1.09240602 1.10771711 0.8584885  0.54475416\n",
            "  0.81918624 0.27189252 0.85878131 0.63573761 0.78320676 0.40739665\n",
            "  0.1847395  0.86662704 0.83623145 0.92984661 0.82614081 1.01020858\n",
            "  0.41479297 0.61618871 0.68226804 0.60911441 0.86818304 0.09793237\n",
            "  0.77812706 0.54893118 0.48427747 0.87473863 0.20094456 0.35613567\n",
            "  0.44406391 1.05762387 0.87139539 0.88367616 0.46231634 0.76670518\n",
            "  0.88747071 1.09403116 0.42591455 0.81690903]\n",
            " [0.61901953 0.8084451  0.81711162 0.59581866 0.9813247  0.35586277\n",
            "  0.66543866 0.83373928 0.54519281 0.76947007 0.47857352 0.44773783\n",
            "  0.26956495 0.21937766 0.95804682 0.88516239 0.96582818 0.60290367\n",
            "  0.40820947 0.9689205  0.45782184 0.56220341 0.60426348 0.12385743\n",
            "  0.6032353  0.94882592 0.         0.75591401 0.41273083 0.43220586\n",
            "  0.27625384 0.84218055 1.01090629 0.54174586 0.05453451 0.4637577\n",
            "  0.73154696 0.66184427 0.89570817 0.24135699 0.25286421 0.70356716\n",
            "  1.04439609 0.31788967 0.43011307 0.97435006 0.96134974 0.82223212\n",
            "  0.61640872 0.41860228 0.72965956 0.50152173 0.54549438 1.07457044\n",
            "  0.27648011 0.97656264 0.86040876 0.5947547  0.74244611 0.67709754\n",
            "  0.3741681  0.84876005 0.40995786 0.32712505 0.09333852 0.63612648\n",
            "  0.3764326  0.81169693 0.722225   0.95360857 0.2844768  0.55985131\n",
            "  0.82454571 0.74847115 0.54298107 0.78771106 1.04308874 0.38522176\n",
            "  0.61505653 0.3394546  0.46174787 0.82577097 0.68151711 0.8691254\n",
            "  0.2294585  0.9196132  0.76137823 0.74143326 0.86354299 0.74176318\n",
            "  0.79315769 0.51737211 0.41782697 0.30259881 0.56306926 1.01747342\n",
            "  0.44016867 0.41893493 0.68568337 0.35149326]\n",
            " [0.1444157  0.20837364 0.30841931 0.75628332 0.716462   0.43460332\n",
            "  0.17972396 0.10418835 0.6319371  0.07292524 0.88328821 0.34051092\n",
            "  0.73819229 0.78337307 0.69083225 0.12924839 0.48164019 0.21407432\n",
            "  0.73963801 0.38138891 0.61757276 0.36850225 0.21676785 0.64252045\n",
            "  0.20094795 0.7071385  0.75591401 0.         0.39118372 0.56339777\n",
            "  0.60480615 0.44233197 0.77400062 0.70362756 0.70138097 0.37800304\n",
            "  0.41423297 0.6083347  0.37165501 0.55858972 0.85924931 0.35317293\n",
            "  0.28977452 0.48980014 0.53798994 0.2186606  0.77174294 0.13813649\n",
            "  0.19907    0.75901264 0.66222854 0.87858026 0.83359967 0.32047674\n",
            "  0.49879436 0.23018537 0.21608579 0.65212744 0.31947148 0.44855741\n",
            "  0.65217364 0.19592945 0.59741669 0.675824   0.71564519 0.20712754\n",
            "  0.93314552 0.43526111 0.16662568 0.2329297  0.47144377 0.6500532\n",
            "  0.52507798 0.16617299 0.26322619 0.22504081 0.28794815 0.52582344\n",
            "  0.36734924 0.53190304 0.88353326 0.13023954 0.19520001 0.61479273\n",
            "  0.76837076 0.25247726 0.22309034 0.17671938 0.50852885 0.35591595\n",
            "  0.26654277 0.48759105 0.38651573 0.4859211  0.36319939 0.26274525\n",
            "  1.02724214 0.59311035 0.30031028 0.91268923]\n",
            " [0.28963769 0.39834024 0.40539305 0.43924148 0.64234046 0.25714825\n",
            "  0.38331085 0.48834261 0.59026162 0.38214949 0.50804067 0.05157752\n",
            "  0.3470186  0.39428498 0.61594547 0.51425068 0.5640227  0.33492464\n",
            "  0.36390493 0.55660667 0.5256699  0.16555376 0.19898198 0.28902917\n",
            "  0.2035745  0.61575558 0.41273083 0.39118372 0.         0.46619534\n",
            "  0.21372226 0.44735641 0.68562951 0.37565382 0.36187604 0.32278201\n",
            "  0.34200622 0.37384427 0.4856611  0.18021179 0.46981087 0.30125732\n",
            "  0.67592656 0.10331565 0.18141663 0.59818596 0.65148156 0.42324158\n",
            "  0.33985854 0.38400929 0.44814863 0.50864529 0.48206958 0.70700923\n",
            "  0.25242601 0.62131359 0.45183547 0.36241867 0.33359063 0.30526385\n",
            "  0.27328408 0.44195236 0.47911536 0.49309288 0.34881312 0.22846612\n",
            "  0.54252465 0.41881681 0.43190844 0.55415899 0.17117399 0.34258589\n",
            "  0.45525061 0.4546722  0.30038828 0.51425999 0.67305111 0.39837033\n",
            "  0.21872522 0.14240084 0.50518349 0.42893673 0.40902498 0.52199979\n",
            "  0.37840615 0.51112134 0.34946756 0.45384869 0.48218331 0.33823989\n",
            "  0.38043674 0.46768962 0.27413206 0.26793587 0.16447726 0.63684323\n",
            "  0.63653273 0.481508   0.27552773 0.52170105]\n",
            " [0.42812697 0.7187482  0.78105329 0.86868575 1.10010911 0.20905532\n",
            "  0.39807817 0.59264153 0.13051047 0.61502091 0.8445633  0.45259957\n",
            "  0.62295212 0.61043607 1.07315754 0.67393674 0.9650647  0.35011308\n",
            "  0.72627111 0.90764899 0.06115962 0.61675998 0.54462263 0.40540852\n",
            "  0.52881279 1.07597036 0.43220586 0.56339777 0.46619534 0.\n",
            "  0.53331876 0.87107315 1.14679374 0.80380409 0.39715259 0.19036615\n",
            "  0.7814587  0.8385026  0.86395958 0.44535341 0.66771749 0.72619238\n",
            "  0.80519547 0.45762058 0.61861266 0.7584254  1.11603061 0.68518129\n",
            "  0.36566697 0.74396533 0.91324098 0.85903519 0.87032164 0.83030115\n",
            "  0.23837496 0.72467683 0.75302961 0.81436907 0.73593829 0.76111944\n",
            "  0.64995125 0.73466118 0.03867143 0.14735804 0.47062988 0.57420137\n",
            "  0.78747281 0.84769779 0.44314414 0.79624295 0.32065638 0.78815573\n",
            "  0.90439225 0.46521721 0.30193405 0.47276216 0.80681513 0.06924617\n",
            "  0.66330986 0.52919207 0.8325343  0.68188389 0.39742402 0.97973303\n",
            "  0.61007861 0.80304201 0.69496789 0.45344409 0.92020112 0.75605888\n",
            "  0.7417873  0.10684614 0.20891385 0.21040052 0.61380979 0.80463617\n",
            "  0.86325997 0.03133594 0.68100746 0.76169804]\n",
            " [0.49609143 0.59507394 0.57970192 0.34726917 0.70513349 0.35241879\n",
            "  0.57958696 0.70092043 0.66368008 0.59434246 0.32458033 0.26436031\n",
            "  0.13394781 0.1832676  0.68199875 0.7277837  0.70857109 0.52406374\n",
            "  0.19392716 0.73140429 0.58284496 0.31619666 0.4073335  0.17331841\n",
            "  0.41482626 0.67257398 0.27625384 0.60480615 0.21372226 0.53331876\n",
            "  0.         0.58161755 0.73485572 0.28554461 0.24312211 0.4556396\n",
            "  0.47067543 0.38613253 0.65144144 0.08824391 0.25766679 0.45348859\n",
            "  0.88928878 0.11911024 0.15524667 0.81099457 0.68613441 0.63085233\n",
            "  0.53229741 0.21248927 0.45535081 0.3335891  0.33702598 0.9203797\n",
            "  0.29639712 0.83497459 0.65027106 0.32435982 0.49978254 0.41024934\n",
            "  0.11901107 0.64296437 0.53054595 0.49783317 0.18686177 0.43364361\n",
            "  0.33086534 0.5505651  0.63225733 0.75994458 0.22477042 0.29075812\n",
            "  0.55343049 0.65657557 0.47708404 0.71203224 0.88629544 0.46602848\n",
            "  0.36439776 0.08075897 0.31674305 0.63756654 0.60326388 0.59374743\n",
            "  0.16604391 0.70872284 0.5422792  0.65404125 0.59569118 0.49150925\n",
            "  0.56408084 0.57489721 0.39961673 0.32703066 0.31859459 0.84879079\n",
            "  0.42443366 0.53647401 0.44807467 0.30912983]\n",
            " [0.49254982 0.24244915 0.1378845  0.49496071 0.27452299 0.67364735\n",
            "  0.58945983 0.52562087 0.97773036 0.37162664 0.7053058  0.4353255\n",
            "  0.67628356 0.74733701 0.24943523 0.47137725 0.12824431 0.58802369\n",
            "  0.59368974 0.20518416 0.93216255 0.28353029 0.32952898 0.72043709\n",
            "  0.34802149 0.2680438  0.84218055 0.44233197 0.44735641 0.87107315\n",
            "  0.58161755 0.         0.3325249  0.47500215 0.79643387 0.68952555\n",
            "  0.11109127 0.30260836 0.12414158 0.60104379 0.81014628 0.14790331\n",
            "  0.5744246  0.52682257 0.432557   0.50025288 0.33716153 0.32865089\n",
            "  0.57966465 0.60605043 0.31156203 0.68653475 0.60960141 0.59875209\n",
            "  0.69235649 0.57526851 0.26815962 0.39075424 0.13833858 0.1749699\n",
            "  0.54144769 0.28185947 0.89352582 0.92926761 0.76246659 0.30390115\n",
            "  0.82575031 0.03113154 0.59935067 0.37768473 0.61686788 0.41288698\n",
            "  0.10253557 0.60498536 0.60183263 0.66675371 0.56774992 0.81052852\n",
            "  0.22971626 0.50645122 0.71535872 0.34108586 0.61339398 0.18412158\n",
            "  0.72710283 0.29058378 0.21954549 0.61390436 0.06711591 0.11508641\n",
            "  0.17674243 0.83523659 0.66216234 0.70107533 0.28377591 0.50908305\n",
            "  0.91064273 0.89341405 0.1901591  0.81530872]\n",
            " [0.81032917 0.57446715 0.46987107 0.47696815 0.05856737 0.93919565\n",
            "  0.91259942 0.85802161 1.26454028 0.70392381 0.70626044 0.69420382\n",
            "  0.77901551 0.85332517 0.08317794 0.80068584 0.34657109 0.90330714\n",
            "  0.65298154 0.4825894  1.20741182 0.53018409 0.63396224 0.90303682\n",
            "  0.65487877 0.07131213 1.01090629 0.77400062 0.68562951 1.14679374\n",
            "  0.73485572 0.3325249  0.         0.5014662  0.97661152 0.97957282\n",
            "  0.37901596 0.34928141 0.43176932 0.78831451 0.89528301 0.44195127\n",
            "  0.88824328 0.73070969 0.58400512 0.82008098 0.06365951 0.66015423\n",
            "  0.89694414 0.65560262 0.28607872 0.67877291 0.59103449 0.90922289\n",
            "  0.93676737 0.89956568 0.59493618 0.42622095 0.45899842 0.38607809\n",
            "  0.64606625 0.61053605 1.16293337 1.1768968  0.91973428 0.61521202\n",
            "  0.86337162 0.33913891 0.92745888 0.69161747 0.85225875 0.46160814\n",
            "  0.25474473 0.93473911 0.9073693  0.9975263  0.8811398  1.08085232\n",
            "  0.48605299 0.68127177 0.72296835 0.67247208 0.93773739 0.16917809\n",
            "  0.83344449 0.60565786 0.55091279 0.94308133 0.26569666 0.4255256\n",
            "  0.50925533 1.12891947 0.94251111 0.95355734 0.53331133 0.82159458\n",
            "  0.92723612 1.16464477 0.49623869 0.86278782]\n",
            " [0.64400671 0.60399558 0.54112912 0.06517153 0.48766169 0.6053859\n",
            "  0.74737545 0.80780611 0.93389438 0.6640677  0.2312722  0.41807501\n",
            "  0.28512564 0.35730474 0.47037733 0.80244334 0.59700052 0.70551744\n",
            "  0.15184131 0.67109746 0.85741724 0.33560366 0.48762152 0.4562578\n",
            "  0.50546144 0.45225647 0.54174586 0.70362756 0.37565382 0.80380409\n",
            "  0.28554461 0.47500215 0.5014662  0.         0.51976658 0.69149227\n",
            "  0.38513926 0.18015256 0.58445835 0.36622063 0.39410818 0.40925968\n",
            "  0.95111705 0.34733241 0.19495983 0.86910295 0.44349778 0.67100053\n",
            "  0.70832407 0.15432116 0.2189229  0.21153927 0.13871622 0.98090873\n",
            "  0.56599145 0.91804475 0.65628376 0.08673266 0.46440479 0.3154232\n",
            "  0.16986823 0.65770252 0.80596459 0.78196428 0.44847289 0.49743607\n",
            "  0.36949625 0.44703395 0.78971789 0.77964684 0.48349981 0.06283587\n",
            "  0.40180342 0.8094284  0.67550044 0.87306224 0.94621565 0.73481578\n",
            "  0.34868084 0.27472521 0.24293553 0.68155673 0.77422967 0.40071644\n",
            "  0.33832263 0.70544238 0.55024262 0.81116717 0.45608147 0.43693217\n",
            "  0.5473244  0.82851391 0.63857365 0.59343402 0.34084152 0.89622349\n",
            "  0.44510591 0.81096268 0.43878618 0.36546429]\n",
            " [0.56459328 0.75596049 0.76704383 0.57691115 0.94491183 0.30461697\n",
            "  0.61223658 0.77939235 0.515759   0.71523499 0.48053678 0.39523235\n",
            "  0.26208518 0.22549311 0.92105819 0.83062936 0.91890206 0.5497499\n",
            "  0.39513429 0.91847505 0.42831959 0.51480205 0.55139865 0.0761813\n",
            "  0.54990478 0.91306508 0.05453451 0.70138097 0.36187604 0.39715259\n",
            "  0.24312211 0.79643387 0.97661152 0.51976658 0.         0.41409337\n",
            "  0.68628371 0.62871225 0.84641208 0.19596922 0.27300221 0.65597137\n",
            "  0.98987774 0.27005432 0.39308281 0.91982556 0.92888168 0.76845196\n",
            "  0.56308151 0.407689   0.69845034 0.50120159 0.53702049 1.02006313\n",
            "  0.22486308 0.92216661 0.80757111 0.56659256 0.69340665 0.63400349\n",
            "  0.35012382 0.79566596 0.37840663 0.30621367 0.08273888 0.5834634\n",
            "  0.39538341 0.76620621 0.6690376  0.89974323 0.22994752 0.53237234\n",
            "  0.78285748 0.69527801 0.49011089 0.73549774 0.98856223 0.34524724\n",
            "  0.56808383 0.2987313  0.46503104 0.77186011 0.62875066 0.8308836\n",
            "  0.23102574 0.86671312 0.70949932 0.68843017 0.82018747 0.69402708\n",
            "  0.74215713 0.47645682 0.36661718 0.25231338 0.51540466 0.96297524\n",
            "  0.46685602 0.3869395  0.63616923 0.36978714]\n",
            " [0.2389616  0.5285131  0.59328893 0.75631391 0.93004567 0.11256708\n",
            "  0.22718319 0.41988079 0.28827257 0.42601134 0.78021093 0.29468536\n",
            "  0.5728089  0.58361488 0.90287858 0.49494429 0.77833583 0.1702215\n",
            "  0.64574337 0.71750773 0.24915975 0.45208288 0.36036266 0.38647294\n",
            "  0.34310481 0.90828997 0.4637577  0.37800304 0.32278201 0.19036615\n",
            "  0.4556396  0.68952555 0.97957282 0.69149227 0.41409337 0.\n",
            "  0.60618987 0.6930816  0.6755812  0.37168732 0.65314682 0.5478461\n",
            "  0.63657381 0.35142606 0.49721534 0.58228358 0.95402245 0.49569735\n",
            "  0.18612688 0.66527392 0.76614989 0.78865535 0.78153233 0.66375408\n",
            "  0.19106404 0.55884813 0.56276071 0.6849853  0.55251441 0.59424676\n",
            "  0.55922922 0.54448829 0.22138183 0.29940395 0.46433026 0.38835124\n",
            "  0.76068808 0.66783123 0.28006569 0.60979425 0.23314753 0.66387662\n",
            "  0.73103098 0.30518197 0.11481254 0.33172906 0.63729645 0.14793794\n",
            "  0.49354858 0.42432989 0.77196931 0.49282466 0.2346879  0.81076787\n",
            "  0.57688469 0.61326308 0.50596455 0.29540719 0.74205727 0.57522718\n",
            "  0.55328141 0.1495154  0.05606216 0.16185232 0.44837911 0.62851597\n",
            "  0.84731506 0.21813192 0.49964651 0.7357006 ]\n",
            " [0.43235832 0.24586116 0.16089279 0.41485152 0.32617858 0.57884782\n",
            "  0.53647986 0.50967583 0.89370844 0.35109016 0.6113667  0.33549836\n",
            "  0.56777983 0.63802373 0.29901027 0.4730617  0.23810472 0.52452113\n",
            "  0.49212718 0.28690601 0.84259276 0.1765507  0.25496226 0.61019577\n",
            "  0.27586723 0.30821349 0.73154696 0.41423297 0.34200622 0.7814587\n",
            "  0.47067543 0.11109127 0.37901596 0.38513926 0.68628371 0.60618987\n",
            "  0.         0.2285528  0.20029536 0.49062073 0.70215763 0.06375306\n",
            "  0.5998739  0.4172006  0.32278603 0.52024126 0.36482515 0.3282664\n",
            "  0.51852751 0.50579346 0.26156626 0.59487914 0.52306545 0.62727347\n",
            "  0.59112298 0.58537241 0.28964288 0.30588973 0.09938772 0.07064687\n",
            "  0.43456338 0.29672163 0.80143926 0.83026459 0.65141279 0.23690412\n",
            "  0.72330562 0.08024977 0.55600514 0.41182715 0.51286955 0.32230844\n",
            "  0.1254451  0.56608437 0.52889193 0.63072881 0.593919   0.71840678\n",
            "  0.12338867 0.39536428 0.61988313 0.34057738 0.56228844 0.21069486\n",
            "  0.61789351 0.3302089  0.2019666  0.57320912 0.14083397 0.0626869\n",
            "  0.17892371 0.75460481 0.57355642 0.60213991 0.17753677 0.53834861\n",
            "  0.81032834 0.80204054 0.11894134 0.71160783]\n",
            " [0.58410747 0.46905308 0.38944325 0.19239144 0.32386159 0.62996095\n",
            "  0.69206362 0.71038501 0.96387916 0.55554257 0.41067559 0.39865404\n",
            "  0.43475319 0.50946174 0.3030392  0.68760456 0.42009054 0.6628897\n",
            "  0.32029688 0.50486846 0.89703975 0.25762619 0.40671545 0.55617955\n",
            "  0.42774894 0.28980903 0.66184427 0.6083347  0.37384427 0.8385026\n",
            "  0.38613253 0.30260836 0.34928141 0.18015256 0.62871225 0.6930816\n",
            "  0.2285528  0.         0.41932756 0.44455761 0.5582397  0.27034743\n",
            "  0.82374457 0.39500695 0.23877171 0.74287713 0.30019012 0.54640021\n",
            "  0.66164162 0.3277235  0.0749231  0.38925951 0.3087096  0.85199163\n",
            "  0.61237121 0.80246122 0.51628847 0.09344154 0.32185088 0.16770694\n",
            "  0.29886431 0.52164559 0.84881006 0.84780232 0.57047063 0.40492108\n",
            "  0.54741141 0.27705943 0.72462652 0.63938179 0.52611378 0.12382522\n",
            "  0.22242067 0.74010365 0.6477353  0.8057051  0.81809044 0.76992492\n",
            "  0.24226835 0.33765933 0.42293695 0.55815923 0.71928333 0.22446918\n",
            "  0.48920713 0.55868894 0.41969293 0.74455539 0.27726317 0.28838556\n",
            "  0.40495672 0.84033239 0.64704219 0.63373898 0.26265865 0.7639233\n",
            "  0.6250715  0.85196596 0.31410311 0.54149536]\n",
            " [0.45436997 0.16370918 0.08397782 0.61034206 0.37337194 0.68022641\n",
            "  0.53820109 0.43943667 0.9595388  0.2987606  0.81162317 0.46099436\n",
            "  0.75900185 0.82660865 0.35146037 0.37273602 0.11011982 0.54951844\n",
            "  0.69128642 0.0866791  0.92406287 0.33658302 0.32375577 0.77197695\n",
            "  0.33684876 0.37462585 0.89570817 0.37165501 0.4856611  0.86395958\n",
            "  0.65144144 0.12414158 0.43176932 0.58445835 0.84641208 0.6755812\n",
            "  0.20029536 0.41932756 0.         0.65577624 0.89388288 0.19834605\n",
            "  0.45859789 0.57803015 0.51281908 0.38845502 0.447253   0.24059642\n",
            "  0.53853101 0.7054185  0.43443844 0.7948655  0.72162925 0.48128254\n",
            "  0.71247007 0.46795658 0.16729526 0.50313911 0.153392   0.27092568\n",
            "  0.62956675 0.1851722  0.89061758 0.94021789 0.82313532 0.29198173\n",
            "  0.92156253 0.14360315 0.53703628 0.26114265 0.6458475  0.52165426\n",
            "  0.22606978 0.53782138 0.57527079 0.59487446 0.45166302 0.80903918\n",
            "  0.28705182 0.57218852 0.82017543 0.25194771 0.55913279 0.30176045\n",
            "  0.8069224  0.17433289 0.17016177 0.54830712 0.18169082 0.16101512\n",
            "  0.12230344 0.81386584 0.65767105 0.71565424 0.33489278 0.3923145\n",
            "  1.00957221 0.88916951 0.21028017 0.90898699]\n",
            " [0.43794592 0.57818574 0.57853007 0.42965628 0.75386383 0.26585994\n",
            "  0.5123989  0.64933515 0.57578726 0.55792027 0.40988588 0.22391267\n",
            "  0.20308561 0.22943461 0.72937768 0.68542358 0.72447162 0.45409843\n",
            "  0.28211103 0.7308269  0.49557425 0.32102361 0.37875988 0.11978794\n",
            "  0.38185273 0.72293368 0.24135699 0.55858972 0.18021179 0.44535341\n",
            "  0.08824391 0.60104379 0.78831451 0.36622063 0.19596922 0.37168732\n",
            "  0.49062073 0.44455761 0.65577624 0.         0.30488781 0.46238606\n",
            "  0.84734878 0.07853663 0.20578631 0.77171386 0.74361267 0.60246178\n",
            "  0.46379235 0.3005175  0.51717695 0.42037449 0.42515367 0.87829457\n",
            "  0.20815586 0.78769437 0.63193669 0.39445901 0.50238533 0.43812138\n",
            "  0.20506955 0.62216386 0.44341362 0.41608016 0.16923453 0.40864647\n",
            "  0.39729271 0.57066822 0.56696245 0.73372245 0.13885788 0.36302035\n",
            "  0.58739059 0.59212972 0.40312205 0.64420724 0.84497832 0.37787091\n",
            "  0.37372687 0.10716056 0.40082093 0.60769238 0.53458687 0.63802179\n",
            "  0.21746499 0.6911977  0.52843458 0.58838702 0.62423355 0.50062605\n",
            "  0.55689942 0.48723115 0.31565691 0.23882933 0.32202255 0.8119492\n",
            "  0.48837373 0.44913287 0.44641925 0.37353781]\n",
            " [0.74263926 0.850449   0.82732439 0.42906357 0.87874868 0.54077354\n",
            "  0.8159357  0.95267567 0.7885082  0.85158695 0.24860259 0.51927031\n",
            "  0.13488274 0.07593229 0.85974324 0.98386691 0.938375   0.75647575\n",
            "  0.24233454 0.976866   0.70114568 0.5656233  0.6649944  0.2694279\n",
            "  0.67222408 0.84367659 0.25286421 0.85924931 0.46981087 0.66771749\n",
            "  0.25766679 0.81014628 0.89528301 0.39410818 0.27300221 0.65314682\n",
            "  0.70215763 0.5582397  0.89388288 0.30488781 0.         0.69602458\n",
            "  1.14566225 0.36944937 0.38108992 1.06795489 0.83760394 0.88843084\n",
            "  0.76691775 0.24124262 0.6105774  0.27632273 0.34277881 1.17673603\n",
            "  0.46519735 1.08927365 0.90587804 0.47109139 0.74604736 0.63517765\n",
            "  0.26926471 0.89929827 0.65081755 0.57736013 0.19732642 0.69118587\n",
            "  0.12359298 0.77919048 0.87105419 1.01716669 0.42763522 0.43659177\n",
            "  0.76270375 0.89642462 0.7028379  0.94702388 1.14283817 0.61151595\n",
            "  0.60932533 0.33685736 0.22940024 0.89521445 0.83731481 0.78228512\n",
            "  0.09163198 0.96384181 0.7968902  0.89231386 0.81168601 0.73288614\n",
            "  0.81550832 0.73954894 0.59929341 0.49697076 0.56870634 1.10618195\n",
            "  0.19650275 0.65917245 0.69799114 0.09867324]\n",
            " [0.36879633 0.19916259 0.13509978 0.44670057 0.38833419 0.52659565\n",
            "  0.47273176 0.45056063 0.83594187 0.2924069  0.62796957 0.28744529\n",
            "  0.56115596 0.62831968 0.36124335 0.41927353 0.26337111 0.46135708\n",
            "  0.50028913 0.28094328 0.78734782 0.14136933 0.19269701 0.58052027\n",
            "  0.21324827 0.37138586 0.70356716 0.35317293 0.30125732 0.72619238\n",
            "  0.45348859 0.14790331 0.44195127 0.40925968 0.65597137 0.5478461\n",
            "  0.06375306 0.27034743 0.19834605 0.46238606 0.69602458 0.\n",
            "  0.55348899 0.38598746 0.31523005 0.4725328  0.42857718 0.27645364\n",
            "  0.4551321  0.5157015  0.3136784  0.61406456 0.54794537 0.58191337\n",
            "  0.54448646 0.53329031 0.24861292 0.33669855 0.0552269  0.10266416\n",
            "  0.43367203 0.25230232 0.74758299 0.78146622 0.62784561 0.17339402\n",
            "  0.72797593 0.12196463 0.49251812 0.37233216 0.46963005 0.34737506\n",
            "  0.18748124 0.50292973 0.46726558 0.5677551  0.54789298 0.66451228\n",
            "  0.08940877 0.37476336 0.63467288 0.2883823  0.49853605 0.27413526\n",
            "  0.60867848 0.29619678 0.14945593 0.50989043 0.19433053 0.03831157\n",
            "  0.13827182 0.69545867 0.51753837 0.55323466 0.14057492 0.49429217\n",
            "  0.81766046 0.74776426 0.05522075 0.71429357]\n",
            " [0.42638692 0.35483973 0.44550562 0.99573363 0.8303073  0.71194778\n",
            "  0.41019803 0.217156   0.84327246 0.29677593 1.15003701 0.62651164\n",
            "  1.02142807 1.06999689 0.80937908 0.16196926 0.54505917 0.46682758\n",
            "  1.0092608  0.40925609 0.85116907 0.62099718 0.48609125 0.9321384\n",
            "  0.47566408 0.83311746 1.04439609 0.28977452 0.67592656 0.80519547\n",
            "  0.88928878 0.5744246  0.88824328 0.95111705 0.98987774 0.63657381\n",
            "  0.5998739  0.82374457 0.45859789 0.84734878 1.14566225 0.55348899\n",
            "  0.         0.77676825 0.80629931 0.08202501 0.90585025 0.28025818\n",
            "  0.45104002 1.02780928 0.86130964 1.14191726 1.08728453 0.03109224\n",
            "  0.7815595  0.0819676  0.31142032 0.88654183 0.5024577  0.65605039\n",
            "  0.92544083 0.30315249 0.84248927 0.934264   1.0054185  0.46543583\n",
            "  1.21384645 0.58302281 0.36207098 0.19749944 0.76017448 0.89215876\n",
            "  0.67555485 0.34032135 0.52598349 0.34748562 0.00743957 0.78160165\n",
            "  0.6024492  0.81359583 1.15245002 0.2695618  0.40793008 0.75794772\n",
            "  1.05432496 0.28466909 0.40468257 0.35245784 0.63809784 0.5375605\n",
            "  0.42097476 0.71186035 0.65775243 0.76541459 0.61614348 0.06669465\n",
            "  1.30788061 0.83639725 0.5143786  1.19447219]\n",
            " [0.37728739 0.50011554 0.50028233 0.41246688 0.69304725 0.25849866\n",
            "  0.4607971  0.58398583 0.58723251 0.48452034 0.43574904 0.1503683\n",
            "  0.25248322 0.29357867 0.66779946 0.6148462  0.64884858 0.40601879\n",
            "  0.29639781 0.6525095  0.51281044 0.24475369 0.30228222 0.19454606\n",
            "  0.30664768 0.66344506 0.31788967 0.48980014 0.10331565 0.45762058\n",
            "  0.11911024 0.52682257 0.73070969 0.34733241 0.27005432 0.35142606\n",
            "  0.4172006  0.39500695 0.57803015 0.07853663 0.36944937 0.38598746\n",
            "  0.77676825 0.         0.16238551 0.69984394 0.68952394 0.52655444\n",
            "  0.41383451 0.3162929  0.46945367 0.44115852 0.43010628 0.80781295\n",
            "  0.22192669 0.71984269 0.55409574 0.35861753 0.42468576 0.36840396\n",
            "  0.20817697 0.54467337 0.46226127 0.45296949 0.24774048 0.33148004\n",
            "  0.4496772  0.49680788 0.5132143  0.65745821 0.13701999 0.33102353\n",
            "  0.51908886 0.53748157 0.36098601 0.59323671 0.77410275 0.38842723\n",
            "  0.29805219 0.07355237 0.42990718 0.53220297 0.4847312  0.57507758\n",
            "  0.27872303 0.61330813 0.45005715 0.53501708 0.55322913 0.42410076\n",
            "  0.47837185 0.48248668 0.29643161 0.24741849 0.24541334 0.73912063\n",
            "  0.54298447 0.46660335 0.36832928 0.42755927]\n",
            " [0.45994388 0.48164402 0.44788469 0.25934627 0.5518877  0.41520453\n",
            "  0.55971299 0.64073482 0.74751309 0.51049482 0.34551302 0.22635819\n",
            "  0.2462262  0.3153132  0.52822929 0.64935581 0.5605569  0.51454105\n",
            "  0.20303127 0.59617333 0.67460226 0.1919063  0.32294329 0.31904903\n",
            "  0.3371535  0.51998724 0.43011307 0.53798994 0.18141663 0.61861266\n",
            "  0.15524667 0.432557   0.58400512 0.19495983 0.39308281 0.49721534\n",
            "  0.32278603 0.23877171 0.51281908 0.20578631 0.38108992 0.31523005\n",
            "  0.80629931 0.16238551 0.         0.72508752 0.53810034 0.53262793\n",
            "  0.51842062 0.22185781 0.31166285 0.34076654 0.30369982 0.83707426\n",
            "  0.38423485 0.76271539 0.5370571  0.1962708  0.36630911 0.25861394\n",
            "  0.12193258 0.53331055 0.62436033 0.61358095 0.34200711 0.34095029\n",
            "  0.41784041 0.4014304  0.60517065 0.65487777 0.2987906  0.1696859\n",
            "  0.39869986 0.6264008  0.48178986 0.68838223 0.80229016 0.54936708\n",
            "  0.23006108 0.09902069 0.34664737 0.54138578 0.58611079 0.43902625\n",
            "  0.29526057 0.59297146 0.4267742  0.62695031 0.44225725 0.35185218\n",
            "  0.4394396  0.63641178 0.44498086 0.40903346 0.19591354 0.7580485\n",
            "  0.51002254 0.62852711 0.32155058 0.40219452]\n",
            " [0.36055931 0.27456082 0.36832963 0.91389397 0.76176092 0.64986821\n",
            "  0.36034966 0.16643093 0.80734551 0.21695339 1.0684294  0.54947718\n",
            "  0.94252702 0.99247092 0.73988498 0.08982287 0.48138782 0.41222711\n",
            "  0.92796244 0.34818912 0.80766098 0.5391599  0.40604022 0.85994821\n",
            "  0.396474   0.76263115 0.97435006 0.2186606  0.59818596 0.7584254\n",
            "  0.81099457 0.50025288 0.82008098 0.86910295 0.91982556 0.58228358\n",
            "  0.52024126 0.74287713 0.38845502 0.77171386 1.06795489 0.4725328\n",
            "  0.08202501 0.69984394 0.72508752 0.         0.83460158 0.19833686\n",
            "  0.39631337 0.94642459 0.7818069  1.06012174 1.00526435 0.11224014\n",
            "  0.71646312 0.08572383 0.23386899 0.80479625 0.42217939 0.57517483\n",
            "  0.84461711 0.22396812 0.79473128 0.8816059  0.93200031 0.38447097\n",
            "  1.13407201 0.50701043 0.31866747 0.13040818 0.68988092 0.81020309\n",
            "  0.60023714 0.30055096 0.46898206 0.32244229 0.07740188 0.72938117\n",
            "  0.52044236 0.73452839 1.07100161 0.18755674 0.36282272 0.68432423\n",
            "  0.97646474 0.21447342 0.32339414 0.3134077  0.56515184 0.45771983\n",
            "  0.34164591 0.67039102 0.59840648 0.70228864 0.53432879 0.04628595\n",
            "  1.22803252 0.78927173 0.43263621 1.11498786]\n",
            " [0.79676115 0.57883544 0.4746944  0.41606894 0.09086265 0.9074017\n",
            "  0.90130169 0.86031687 1.23631387 0.70366716 0.64425801 0.66417377\n",
            "  0.7239091  0.79784952 0.10154786 0.80853218 0.37351897 0.88776225\n",
            "  0.59531867 0.50673632 1.17619039 0.5021099  0.61731564 0.85630815\n",
            "  0.63869194 0.07398757 0.96134974 0.77174294 0.65148156 1.11603061\n",
            "  0.68613441 0.33716153 0.06365951 0.44349778 0.92888168 0.95402245\n",
            "  0.36482515 0.30019012 0.447253   0.74361267 0.83760394 0.42857718\n",
            "  0.90585025 0.68952394 0.53810034 0.83460158 0.         0.66529699\n",
            "  0.88242496 0.59710435 0.23232149 0.61652522 0.5288544  0.92832254\n",
            "  0.90032416 0.91157268 0.60473471 0.37134411 0.45285393 0.36042646\n",
            "  0.59294051 0.61892785 1.13044708 1.13933786 0.86941781 0.60139222\n",
            "  0.80249349 0.3379333  0.91989482 0.7083784  0.81493225 0.40688882\n",
            "  0.24667064 0.92887777 0.88766483 0.99279322 0.89891462 1.04910572\n",
            "  0.46189238 0.63646736 0.66119448 0.67778838 0.92710141 0.15695082\n",
            "  0.77817456 0.62138904 0.54982023 0.93652711 0.27052568 0.41738485\n",
            "  0.51148622 1.10353225 0.91446694 0.91865652 0.50569765 0.83954387\n",
            "  0.86505466 1.13260979 0.48373156 0.80251518]\n",
            " [0.25705651 0.08651735 0.19077077 0.71557082 0.60174879 0.53327246\n",
            "  0.31611477 0.19950379 0.76276559 0.07106876 0.87337452 0.37896928\n",
            "  0.75912493 0.81401298 0.5774068  0.14539831 0.34917064 0.3426357\n",
            "  0.73457401 0.24333188 0.74184643 0.34355879 0.22442281 0.70206818\n",
            "  0.22079428 0.59668853 0.82223212 0.13813649 0.42324158 0.68518129\n",
            "  0.63085233 0.32865089 0.66015423 0.67100053 0.76845196 0.49569735\n",
            "  0.3282664  0.54640021 0.24059642 0.60246178 0.88843084 0.27645364\n",
            "  0.28025818 0.52655444 0.53262793 0.19833686 0.66529699 0.\n",
            "  0.32887195 0.75259495 0.58881942 0.86408274 0.80755107 0.3099122\n",
            "  0.58677827 0.25724974 0.07823721 0.60655448 0.22892874 0.37898452\n",
            "  0.65362066 0.05815829 0.71707914 0.78644224 0.76883288 0.19725523\n",
            "  0.94661136 0.32834055 0.30431168 0.13159926 0.54252066 0.61190257\n",
            "  0.42184815 0.30162269 0.38351042 0.35574468 0.27524695 0.64102425\n",
            "  0.32232635 0.55184619 0.87671441 0.01255264 0.33299729 0.50995719\n",
            "  0.79685576 0.11826894 0.12713152 0.31293281 0.39574427 0.26568621\n",
            "  0.15489198 0.61705292 0.49394981 0.57986801 0.33892201 0.22641155\n",
            "  1.04008326 0.71369576 0.23447269 0.92868704]\n",
            " [0.08716514 0.3789918  0.46222925 0.76935736 0.84257709 0.26657978\n",
            "  0.04953115 0.23401817 0.43412142 0.25782474 0.84550244 0.29213106\n",
            "  0.66349446 0.69236075 0.81563772 0.30960923 0.64705653 0.01591558\n",
            "  0.70231828 0.56546819 0.41880368 0.40407457 0.26551982 0.51793991\n",
            "  0.24396159 0.82650807 0.61640872 0.19907    0.33985854 0.36566697\n",
            "  0.53229741 0.57966465 0.89694414 0.70832407 0.56308151 0.18612688\n",
            "  0.51852751 0.66164162 0.53853101 0.46379235 0.76691775 0.4551321\n",
            "  0.45104002 0.41383451 0.51842062 0.39631337 0.88242496 0.32887195\n",
            "  0.         0.72247191 0.72807005 0.84759428 0.82137339 0.47868259\n",
            "  0.34212356 0.37442951 0.40267887 0.67897458 0.44250806 0.52793494\n",
            "  0.61161168 0.38307273 0.40067289 0.48530609 0.59607936 0.28175511\n",
            "  0.86005932 0.56404147 0.10616503 0.43179759 0.3437481  0.66650057\n",
            "  0.64222658 0.1323452  0.07597454 0.18042268 0.45157512 0.33309746\n",
            "  0.42877974 0.47598762 0.84129339 0.32363215 0.07099654 0.7292081\n",
            "  0.68118255 0.4468386  0.37079196 0.12638793 0.64040742 0.47296932\n",
            "  0.41943816 0.28894771 0.20868285 0.32127117 0.39910578 0.44257523\n",
            "  0.9519352  0.3958675  0.40071309 0.83679455]\n",
            " [0.67276957 0.69697353 0.65079724 0.18899072 0.64177745 0.56441237\n",
            "  0.76699106 0.86114538 0.8739464  0.732301   0.12469145 0.43434044\n",
            "  0.14931505 0.21362945 0.62408165 0.87120845 0.73216925 0.71637131\n",
            "  0.02015475 0.79157114 0.79156623 0.40934407 0.54470756 0.35721789\n",
            "  0.55850014 0.60641925 0.41860228 0.75901264 0.38400929 0.74396533\n",
            "  0.21248927 0.60605043 0.65560262 0.15432116 0.407689   0.66527392\n",
            "  0.50579346 0.3277235  0.7054185  0.3005175  0.24124262 0.5157015\n",
            "  1.02780928 0.3162929  0.22185781 0.94642459 0.59710435 0.75259495\n",
            "  0.72247191 0.         0.37295831 0.12533714 0.13010616 1.0585191\n",
            "  0.50838877 0.98451814 0.75179379 0.2361833  0.57006881 0.43535638\n",
            "  0.11087434 0.74969511 0.73908695 0.69636211 0.32840435 0.56266532\n",
            "  0.22099521 0.57626951 0.81589863 0.87205347 0.43674623 0.20389833\n",
            "  0.54377359 0.8384873  0.67535329 0.89824823 1.02370961 0.67741391\n",
            "  0.43927828 0.24748591 0.12478975 0.76173084 0.79237659 0.5516075\n",
            "  0.19680222 0.80571353 0.64193647 0.83783565 0.59620325 0.54869661\n",
            "  0.6488508  0.78734828 0.60950619 0.53931336 0.4138415  0.97862682\n",
            "  0.30474768 0.74548029 0.53279917 0.21381845]\n",
            " [0.64843068 0.50738718 0.41847788 0.20843183 0.26882033 0.70459179\n",
            "  0.75643875 0.76234385 1.03835389 0.60516158 0.43906077 0.47148384\n",
            "  0.49293702 0.56726187 0.25156838 0.73269425 0.41578452 0.73009032\n",
            "  0.36878508 0.51671045 0.9718662  0.32469425 0.4685741  0.62694824\n",
            "  0.49001482 0.23348811 0.72965956 0.66222854 0.44814863 0.91324098\n",
            "  0.45535081 0.31156203 0.28607872 0.2189229  0.69845034 0.76614989\n",
            "  0.26156626 0.0749231  0.43443844 0.51717695 0.6105774  0.3136784\n",
            "  0.86130964 0.46945367 0.31166285 0.7818069  0.23232149 0.58881942\n",
            "  0.72807005 0.37295831 0.         0.41441079 0.32854179 0.88848709\n",
            "  0.68726016 0.84606388 0.5504788  0.14018717 0.3602025  0.2138395\n",
            "  0.360715   0.55818372 0.92370398 0.92237215 0.63743989 0.46340242\n",
            "  0.58722339 0.29123902 0.78641127 0.67136264 0.60099516 0.17553177\n",
            "  0.21646267 0.80066123 0.7175408  0.86631409 0.85529871 0.84471953\n",
            "  0.30226007 0.41068341 0.45364315 0.60098203 0.78353614 0.18853755\n",
            "  0.54736723 0.58746691 0.4618009  0.8057953  0.27115222 0.32414468\n",
            "  0.44034776 0.91387423 0.72079553 0.70866047 0.32948345 0.79930622\n",
            "  0.6586811  0.92683446 0.36297169 0.58411867]\n",
            " [0.79664994 0.80336823 0.74797189 0.20620849 0.67561768 0.68590315\n",
            "  0.89186662 0.98148623 0.98810049 0.84830775 0.02997682 0.55859231\n",
            "  0.24102877 0.28262483 0.66202025 0.98753746 0.80821284 0.84160988\n",
            "  0.14546751 0.88154459 0.90409086 0.5209757  0.66276938 0.46168929\n",
            "  0.67764648 0.64020262 0.50152173 0.87858026 0.50864529 0.85903519\n",
            "  0.3335891  0.68653475 0.67877291 0.21153927 0.50120159 0.78865535\n",
            "  0.59487914 0.38925951 0.7948655  0.42037449 0.27632273 0.61406456\n",
            "  1.14191726 0.44115852 0.34076654 1.06012174 0.61652522 0.86408274\n",
            "  0.84759428 0.12533714 0.41441079 0.         0.0877619  1.1723618\n",
            "  0.62649145 1.10181705 0.85720017 0.29694778 0.66923385 0.52455232\n",
            "  0.23603208 0.85676903 0.85164336 0.80080195 0.41873752 0.67863217\n",
            "  0.1956681  0.65846277 0.94033106 0.97933912 0.5583193  0.27382469\n",
            "  0.6116793  0.96267527 0.80066501 1.02287207 1.13752289 0.79381575\n",
            "  0.54479437 0.37281923 0.04961389 0.87379771 0.91736914 0.60234827\n",
            "  0.27225153 0.9088595  0.74865139 0.96225535 0.66642062 0.64407769\n",
            "  0.7507271  0.90744663 0.73273133 0.65800285 0.52579324 1.09049207\n",
            "  0.2485342  0.85851572 0.63771943 0.20383532]\n",
            " [0.76346555 0.74205073 0.67976505 0.12018328 0.58806744 0.68499814\n",
            "  0.86327403 0.93750645 1.00063372 0.79763235 0.11558393 0.52931827\n",
            "  0.27622039 0.33300005 0.57476387 0.93657434 0.72879739 0.81690673\n",
            "  0.14546047 0.8081482  0.91919908 0.46828652 0.61683797 0.48729589\n",
            "  0.63344909 0.55268575 0.54549438 0.83359967 0.48206958 0.87032164\n",
            "  0.33702598 0.60960141 0.59103449 0.13871622 0.53702049 0.78153233\n",
            "  0.52306545 0.3087096  0.72162925 0.42515367 0.34277881 0.54794537\n",
            "  1.08728453 0.43010628 0.30369982 1.00526435 0.5288544  0.80755107\n",
            "  0.82137339 0.13010616 0.32854179 0.0877619  0.         1.11729023\n",
            "  0.63321674 1.05186398 0.79464788 0.21896156 0.60310487 0.45373436\n",
            "  0.22306991 0.79573816 0.86678334 0.82622491 0.4568298  0.62928761\n",
            "  0.27849774 0.58251048 0.90882597 0.91786949 0.55798845 0.20115181\n",
            "  0.53052198 0.9298838  0.78092065 0.9920641  1.08252867 0.8030234\n",
            "  0.48544308 0.35750212 0.13328686 0.81787169 0.88956569 0.5169464\n",
            "  0.31866345 0.84410764 0.68803969 0.93058446 0.58566382 0.57557081\n",
            "  0.68595093 0.90910153 0.72643611 0.66346831 0.47338511 1.03331858\n",
            "  0.33621657 0.87294473 0.57655045 0.28315167]\n",
            " [0.45618183 0.38293906 0.47162275 1.0250608  0.85153218 0.74074806\n",
            "  0.43691161 0.24533403 0.86535421 0.32777509 1.18062893 0.65756963\n",
            "  1.05251751 1.10106414 0.83108223 0.19298242 0.56461673 0.49440196\n",
            "  1.040007   0.42831465 0.87535343 0.65139937 0.51709303 0.96266542\n",
            "  0.50673399 0.85527793 1.07457044 0.32047674 0.70700923 0.83030115\n",
            "  0.9203797  0.59875209 0.90922289 0.98090873 1.02006313 0.66375408\n",
            "  0.62727347 0.85199163 0.48128254 0.87829457 1.17673603 0.58191337\n",
            "  0.03109224 0.80781295 0.83707426 0.11224014 0.92832254 0.3099122\n",
            "  0.47868259 1.0585191  0.88848709 1.1723618  1.11729023 0.\n",
            "  0.81091675 0.10563999 0.3380888  0.91572801 0.5303847  0.68435812\n",
            "  0.95633201 0.3307021  0.8678087  0.96074475 1.03610417 0.49627004\n",
            "  1.24489692 0.60829481 0.38754948 0.22107612 0.79045477 0.92173879\n",
            "  0.70034457 0.36508732 0.55394375 0.36838118 0.0348396  0.80811061\n",
            "  0.63222938 0.84467966 1.18313124 0.29942533 0.43356628 0.78176212\n",
            "  1.08540515 0.30828237 0.43349961 0.37696181 0.66171216 0.56515007\n",
            "  0.44836247 0.7356996  0.6860295  0.7943911  0.64656892 0.08978604\n",
            "  1.33892577 0.86155902 0.54363504 1.2255421 ]\n",
            " [0.35599892 0.59284854 0.628821   0.63072588 0.89445383 0.07982412\n",
            "  0.3905751  0.56669375 0.36885022 0.52535145 0.61410915 0.25704261\n",
            "  0.39688098 0.3982679  0.8681627  0.62664209 0.80188043 0.32805049\n",
            "  0.49017186 0.77241421 0.29153005 0.41619868 0.39191484 0.19649033\n",
            "  0.38335249 0.86735229 0.27648011 0.49879436 0.25242601 0.23837496\n",
            "  0.29639712 0.69235649 0.93676737 0.56599145 0.22486308 0.19106404\n",
            "  0.59112298 0.61237121 0.71247007 0.20815586 0.46519735 0.54448646\n",
            "  0.7815595  0.22192669 0.38423485 0.71646312 0.90032416 0.58677827\n",
            "  0.34212356 0.50838877 0.68726016 0.62649145 0.63321674 0.81091675\n",
            "  0.         0.70980874 0.63874803 0.58050324 0.56759302 0.55764111\n",
            "  0.41190858 0.62375842 0.24050704 0.24067429 0.27364202 0.42493767\n",
            "  0.57681414 0.66529842 0.44720664 0.7144233  0.08628278 0.55284065\n",
            "  0.70719886 0.47342738 0.26751404 0.51126399 0.78096179 0.17008318\n",
            "  0.46798957 0.29186906 0.60352719 0.58778283 0.4056198  0.77424303\n",
            "  0.3935981  0.69585783 0.55498072 0.46592288 0.7319238  0.57926771\n",
            "  0.59581016 0.28229873 0.14178333 0.03231486 0.41448272 0.76127552\n",
            "  0.66080945 0.24514259 0.50912451 0.55140659]\n",
            " [0.35761279 0.34064428 0.4401328  0.96627818 0.84108043 0.63821615\n",
            "  0.33177532 0.14316463 0.76133768 0.25423176 1.10810177 0.57069617\n",
            "  0.9682845  1.01337288 0.81854206 0.11574451 0.5641482  0.39004044\n",
            "  0.96546556 0.43234654 0.7699641  0.58357763 0.43981519 0.86708032\n",
            "  0.42672524 0.84042919 0.97656264 0.23018537 0.62131359 0.72467683\n",
            "  0.83497459 0.57526851 0.89956568 0.91804475 0.92216661 0.55884813\n",
            "  0.58537241 0.80246122 0.46795658 0.78769437 1.08927365 0.53329031\n",
            "  0.0819676  0.71984269 0.76271539 0.08572383 0.91157268 0.25724974\n",
            "  0.37442951 0.98451814 0.84606388 1.10181705 1.05186398 0.10563999\n",
            "  0.70980874 0.         0.30710925 0.85857235 0.48611197 0.63554437\n",
            "  0.87934627 0.29424312 0.76217021 0.85532314 0.94181511 0.42333345\n",
            "  1.16289686 0.57954881 0.28192993 0.21459001 0.69342355 0.8611011\n",
            "  0.67330025 0.25947506 0.4500407  0.26562988 0.08509785 0.70271942\n",
            "  0.57149374 0.7616304  1.10929103 0.24509048 0.32796291 0.7592155\n",
            "  0.99848825 0.2956943  0.38429505 0.27140422 0.6412213  0.52272346\n",
            "  0.40933705 0.63045055 0.58250366 0.69223084 0.57848615 0.11211699\n",
            "  1.25701258 0.75592997 0.48876327 1.14263008]\n",
            " [0.32646557 0.05556458 0.13446425 0.69528605 0.53636894 0.59110148\n",
            "  0.39273924 0.27314771 0.83527963 0.14637488 0.86902008 0.41276937\n",
            "  0.77358182 0.83308596 0.51305634 0.20611029 0.27361325 0.41582922\n",
            "  0.7348212  0.16533738 0.81079182 0.34516097 0.25617474 0.73806048\n",
            "  0.25888782 0.53411762 0.86040876 0.21608579 0.45183547 0.75302961\n",
            "  0.65027106 0.26815962 0.59493618 0.65628376 0.80757111 0.56276071\n",
            "  0.28964288 0.51628847 0.16729526 0.63193669 0.90587804 0.24861292\n",
            "  0.31142032 0.55409574 0.5370571  0.23386899 0.60473471 0.07823721\n",
            "  0.40267887 0.75179379 0.5504788  0.85720017 0.79464788 0.3380888\n",
            "  0.63874803 0.30710925 0.         0.58529474 0.19481521 0.34951935\n",
            "  0.65898611 0.02015693 0.78368864 0.84801647 0.80062045 0.22438589\n",
            "  0.95475032 0.27333351 0.38247822 0.12372088 0.58698857 0.59503861\n",
            "  0.36682065 0.37981375 0.45293189 0.43324094 0.30521786 0.70577036\n",
            "  0.31291942 0.56978257 0.874093   0.08786114 0.41041412 0.45213792\n",
            "  0.81495966 0.05931189 0.11028568 0.39116015 0.33424865 0.22808764\n",
            "  0.11133465 0.68916298 0.55635897 0.6348226  0.34125224 0.24883028\n",
            "  1.04707529 0.78080004 0.21956466 0.93841386]\n",
            " [0.60797517 0.5348166  0.46484857 0.1100092  0.40765749 0.6093572\n",
            "  0.71431556 0.75596509 0.94278913 0.6064879  0.31765351 0.39742377\n",
            "  0.35285331 0.42710545 0.38889861 0.74286842 0.51130154 0.67803799\n",
            "  0.23027255 0.58953087 0.87071909 0.28557044 0.44017144 0.49760654\n",
            "  0.45970374 0.37261395 0.5947547  0.65212744 0.36241867 0.81436907\n",
            "  0.32435982 0.39075424 0.42622095 0.08673266 0.56659256 0.6849853\n",
            "  0.30588973 0.09344154 0.50313911 0.39445901 0.47109139 0.33669855\n",
            "  0.88654183 0.35861753 0.1962708  0.80479625 0.37134411 0.60655448\n",
            "  0.67897458 0.2361833  0.14018717 0.29694778 0.21896156 0.91572801\n",
            "  0.58050324 0.85857235 0.58529474 0.         0.39110569 0.23807374\n",
            "  0.22235002 0.58835785 0.82059642 0.80803213 0.50183386 0.44508123\n",
            "  0.45470635 0.36354891 0.75242791 0.7090153  0.49501045 0.03555034\n",
            "  0.31522397 0.7703127  0.6547574  0.83519122 0.88129763 0.74514455\n",
            "  0.28735513 0.2918226  0.32962212 0.61768274 0.74152379 0.3156017\n",
            "  0.40724858 0.63184862 0.48248902 0.77330678 0.36968039 0.36109446\n",
            "  0.47476479 0.82796079 0.634935   0.60516284 0.29092149 0.82935173\n",
            "  0.53166032 0.82470405 0.37216712 0.44950336]\n",
            " [0.35534393 0.14765465 0.08161554 0.50110767 0.40285377 0.54241728\n",
            "  0.4546141  0.41220847 0.84048148 0.25374153 0.68298888 0.312356\n",
            "  0.61133479 0.67715245 0.37636583 0.37367712 0.2343201  0.450433\n",
            "  0.5544076  0.23167444 0.79688652 0.18387166 0.19215176 0.61877187\n",
            "  0.21004796 0.39028948 0.74244611 0.31947148 0.33359063 0.73593829\n",
            "  0.49978254 0.13833858 0.45899842 0.46440479 0.69340665 0.55251441\n",
            "  0.09938772 0.32185088 0.153392   0.50238533 0.74604736 0.0552269\n",
            "  0.5024577  0.42468576 0.36630911 0.42217939 0.45285393 0.22892874\n",
            "  0.44250806 0.57006881 0.3602025  0.66923385 0.60310487 0.5303847\n",
            "  0.56759302 0.48611197 0.19481521 0.39110569 0.         0.15471637\n",
            "  0.48602475 0.19981965 0.75962048 0.80064221 0.66983329 0.16563333\n",
            "  0.78111195 0.12166831 0.46853406 0.31838583 0.49713076 0.40242223\n",
            "  0.20638098 0.47645474 0.46350118 0.54004043 0.49667099 0.67687269\n",
            "  0.13672392 0.41997605 0.68953432 0.24121546 0.47930347 0.29601217\n",
            "  0.65775886 0.24113983 0.10266624 0.48446411 0.19798953 0.03722653\n",
            "  0.08371779 0.69742607 0.52717634 0.57348455 0.18191977 0.4420952\n",
            "  0.87128794 0.75911174 0.05869978 0.76697007]\n",
            " [0.44459131 0.3014449  0.22678824 0.34779433 0.33918541 0.55433553\n",
            "  0.55174051 0.54851372 0.87848722 0.39157446 0.54081138 0.30884067\n",
            "  0.50135625 0.5726696  0.3123719  0.52113283 0.30320755 0.53191227\n",
            "  0.42190211 0.35750857 0.82188681 0.14438398 0.26305492 0.55785005\n",
            "  0.28475231 0.31501966 0.67709754 0.44855741 0.30526385 0.76111944\n",
            "  0.41024934 0.1749699  0.38607809 0.3154232  0.63400349 0.59424676\n",
            "  0.07064687 0.16770694 0.27092568 0.43812138 0.63517765 0.10266416\n",
            "  0.65605039 0.36840396 0.25861394 0.57517483 0.36042646 0.37898452\n",
            "  0.52793494 0.43535638 0.2138395  0.52455232 0.45373436 0.68435812\n",
            "  0.55764111 0.63554437 0.34951935 0.23807374 0.15471637 0.\n",
            "  0.36659196 0.35424172 0.77817768 0.79826071 0.59401578 0.25328281\n",
            "  0.65338266 0.14403074 0.57765642 0.47301333 0.4757352  0.2526646\n",
            "  0.1511472  0.59048973 0.52813659 0.65599889 0.65041363 0.69572327\n",
            "  0.10153114 0.33813232 0.54925037 0.39084188 0.57843832 0.21868079\n",
            "  0.55238839 0.39419311 0.25209087 0.59632691 0.18645289 0.12311027\n",
            "  0.23828653 0.74373959 0.55644062 0.57188784 0.14732771 0.59646574\n",
            "  0.73998972 0.77958946 0.14922225 0.64206613]\n",
            " [0.56240958 0.6035766  0.56762596 0.22946152 0.62272484 0.46194171\n",
            "  0.65613032 0.75346858 0.78045236 0.62892229 0.2347941  0.32384466\n",
            "  0.1380205  0.21226542 0.60169871 0.76712922 0.66959557 0.60557781\n",
            "  0.09072735 0.71409027 0.70063954 0.31383888 0.44004898 0.28665305\n",
            "  0.45263416 0.58857275 0.3741681  0.65217364 0.27328408 0.64995125\n",
            "  0.11901107 0.54144769 0.64606625 0.16986823 0.35012382 0.55922922\n",
            "  0.43456338 0.29886431 0.62956675 0.20506955 0.26926471 0.43367203\n",
            "  0.92544083 0.20817697 0.12193258 0.84461711 0.59294051 0.65362066\n",
            "  0.61161168 0.11087434 0.360715   0.23603208 0.22306991 0.95633201\n",
            "  0.41190858 0.87934627 0.65898611 0.22235002 0.48602475 0.36659196\n",
            "  0.         0.65520274 0.64848144 0.61668768 0.28087713 0.46014788\n",
            "  0.29607344 0.51059736 0.70519116 0.77665383 0.33508796 0.18695416\n",
            "  0.49425616 0.72790102 0.56514159 0.78745506 0.92161885 0.58198639\n",
            "  0.35068816 0.13738101 0.23264143 0.66213271 0.68150244 0.51933263\n",
            "  0.1918073  0.71480819 0.54870194 0.72713196 0.54259972 0.46928148\n",
            "  0.56069974 0.68610589 0.5038774  0.4415753  0.31783385 0.87844774\n",
            "  0.38809055 0.65419157 0.44295206 0.28103076]\n",
            " [0.30757308 0.053709   0.14589108 0.6982339  0.55198613 0.57478429\n",
            "  0.3727023  0.25444404 0.81599086 0.12636745 0.86794256 0.40156229\n",
            "  0.76764087 0.82604989 0.52833961 0.19016574 0.29247515 0.39633206\n",
            "  0.73243534 0.18549079 0.79221047 0.34152819 0.24469803 0.72684315\n",
            "  0.24603066 0.54886976 0.84876005 0.19592945 0.44195236 0.73466118\n",
            "  0.64296437 0.28185947 0.61053605 0.65770252 0.79566596 0.54448829\n",
            "  0.29672163 0.52164559 0.1851722  0.62216386 0.89929827 0.25230232\n",
            "  0.30315249 0.54467337 0.53331055 0.22396812 0.61892785 0.05815829\n",
            "  0.38307273 0.74969511 0.55818372 0.85676903 0.79573816 0.3307021\n",
            "  0.62375842 0.29424312 0.02015693 0.58835785 0.19981965 0.35424172\n",
            "  0.65520274 0.         0.76558475 0.83100723 0.79045734 0.21365981\n",
            "  0.95053696 0.28530585 0.3623366  0.12258366 0.57364636 0.5969399\n",
            "  0.37906213 0.3597773  0.43413964 0.41350762 0.29721035 0.6880344\n",
            "  0.31198015 0.56272038 0.87257173 0.06809397 0.39028879 0.46536699\n",
            "  0.80814879 0.07212081 0.10811965 0.37108932 0.34842954 0.23446557\n",
            "  0.11783617 0.6699323  0.53904078 0.61916642 0.33741396 0.2422792\n",
            "  1.04320587 0.76259226 0.21934159 0.93378887]\n",
            " [0.4602604  0.74800154 0.80730678 0.87049375 1.11736095 0.2238469\n",
            "  0.4344509  0.6292509  0.1381293  0.64732285 0.8360144  0.46936239\n",
            "  0.61335854 0.59642669 1.09053886 0.70967348 0.9903241  0.38498507\n",
            "  0.72192251 0.93652579 0.05249528 0.63386573 0.56935038 0.39344739\n",
            "  0.55435825 1.09240602 0.40995786 0.59741669 0.47911536 0.03867143\n",
            "  0.53054595 0.89352582 1.16293337 0.80596459 0.37840663 0.22138183\n",
            "  0.80143926 0.84881006 0.89061758 0.44341362 0.65081755 0.74758299\n",
            "  0.84248927 0.46226127 0.62436033 0.79473128 1.13044708 0.71707914\n",
            "  0.40067289 0.73908695 0.92370398 0.85164336 0.86678334 0.8678087\n",
            "  0.24050704 0.76217021 0.78368864 0.82059642 0.75962048 0.77817768\n",
            "  0.64848144 0.76558475 0.         0.11059816 0.45474152 0.59965721\n",
            "  0.77192516 0.86941617 0.48042528 0.83000614 0.32558702 0.79327048\n",
            "  0.92329626 0.50278595 0.33484853 0.51121807 0.84401725 0.0830782\n",
            "  0.68177965 0.5322963  0.82328728 0.71415708 0.43457952 0.99683388\n",
            "  0.59730074 0.83460321 0.72242756 0.49111772 0.94100567 0.7784399\n",
            "  0.76871104 0.14494446 0.23312344 0.21568599 0.6311678  0.84097945\n",
            "  0.84526118 0.00963408 0.70385197 0.74617851]\n",
            " [0.53361311 0.80767421 0.85624667 0.84475337 1.13503577 0.26011032\n",
            "  0.52407191 0.71836941 0.22603264 0.7187981  0.78223937 0.49490049\n",
            "  0.55978712 0.53130261 1.10878588 0.79433827 1.03452674 0.46939067\n",
            "  0.68089722 0.99345547 0.1430937  0.65631302 0.61648216 0.33980094\n",
            "  0.60435788 1.10771711 0.32712505 0.675824   0.49309288 0.14735804\n",
            "  0.49783317 0.92926761 1.1768968  0.78196428 0.30621367 0.29940395\n",
            "  0.83026459 0.84780232 0.94021789 0.41608016 0.57736013 0.78146622\n",
            "  0.934264   0.45296949 0.61358095 0.8816059  1.13933786 0.78644224\n",
            "  0.48530609 0.69636211 0.92237215 0.80080195 0.82622491 0.96074475\n",
            "  0.24067429 0.85532314 0.84801647 0.80803213 0.80064221 0.79826071\n",
            "  0.61668768 0.83100723 0.11059816 0.         0.38778458 0.64856577\n",
            "  0.70059373 0.90302463 0.57382063 0.90574286 0.3246636  0.77785124\n",
            "  0.94754649 0.59753737 0.4136499  0.61197319 0.9352793  0.15266236\n",
            "  0.70754215 0.51623252 0.76778556 0.78493006 0.52774182 1.01487957\n",
            "  0.53544009 0.90185798 0.77624566 0.5865263  0.97108578 0.81508835\n",
            "  0.82025694 0.25404809 0.29249347 0.22828807 0.65442735 0.92785626\n",
            "  0.76727597 0.11994743 0.74289035 0.67516463]\n",
            " [0.58580547 0.74712153 0.74692031 0.50301248 0.89135475 0.3519544\n",
            "  0.64561037 0.80065024 0.59275387 0.7211788  0.39784362 0.38996977\n",
            "  0.18084861 0.14355068 0.86847501 0.8441705  0.88787882 0.58400831\n",
            "  0.31699475 0.8993125  0.50566681 0.48697805 0.54629071 0.07873285\n",
            "  0.54806456 0.8584885  0.09333852 0.71564519 0.34881312 0.47062988\n",
            "  0.18686177 0.76246659 0.91973428 0.44847289 0.08273888 0.46433026\n",
            "  0.65141279 0.57047063 0.82313532 0.16923453 0.19732642 0.62784561\n",
            "  1.0054185  0.24774048 0.34200711 0.93200031 0.86941781 0.76883288\n",
            "  0.59607936 0.32840435 0.63743989 0.41873752 0.4568298  1.03610417\n",
            "  0.27364202 0.94181511 0.80062045 0.50183386 0.66983329 0.59401578\n",
            "  0.28087713 0.79045734 0.45474152 0.38778458 0.         0.57680008\n",
            "  0.3172034  0.73165248 0.70206756 0.90036856 0.25260693 0.46682933\n",
            "  0.73931883 0.72809205 0.52672622 0.77339422 1.00351049 0.41426013\n",
            "  0.53856942 0.25621338 0.38229303 0.77351646 0.66456353 0.78057524\n",
            "  0.14832444 0.85991624 0.69762924 0.72246108 0.78023817 0.66615708\n",
            "  0.72598507 0.54290625 0.41264268 0.30446397 0.48839915 0.97354007\n",
            "  0.39357964 0.46290384 0.61460619 0.29144821]\n",
            " [0.19545684 0.17262682 0.20815971 0.54926183 0.56109062 0.38846917\n",
            "  0.30041554 0.31116843 0.67572346 0.16975497 0.68553467 0.18840995\n",
            "  0.5620595  0.61685082 0.5340906  0.30892854 0.39087094 0.28821962\n",
            "  0.54397211 0.34750598 0.63480835 0.16184734 0.03312449 0.5136752\n",
            "  0.04539213 0.54475416 0.63612648 0.20712754 0.22846612 0.57420137\n",
            "  0.43364361 0.30390115 0.61521202 0.49743607 0.5834634  0.38835124\n",
            "  0.23690412 0.40492108 0.29198173 0.40864647 0.69118587 0.17339402\n",
            "  0.46543583 0.33148004 0.34095029 0.38447097 0.60139222 0.19725523\n",
            "  0.28175511 0.56266532 0.46340242 0.67863217 0.62928761 0.49627004\n",
            "  0.42493767 0.42333345 0.22438589 0.44508123 0.16563333 0.25328281\n",
            "  0.46014788 0.21365981 0.59965721 0.64856577 0.57680008 0.\n",
            "  0.75086003 0.28517625 0.32437458 0.32671762 0.36597568 0.44307515\n",
            "  0.36053161 0.33751257 0.29799783 0.40311973 0.46152417 0.51763047\n",
            "  0.16265318 0.35460743 0.68740886 0.20434323 0.3266588  0.44751685\n",
            "  0.59962211 0.2836672  0.13013737 0.34311212 0.36125094 0.1927398\n",
            "  0.17182702 0.53209009 0.36653377 0.42564338 0.156597   0.41888532\n",
            "  0.84460856 0.59855312 0.11906715 0.73244977]\n",
            " [0.82691697 0.89927319 0.86259695 0.38645958 0.85472471 0.64940932\n",
            "  0.90814825 1.03083549 0.90989014 0.91723389 0.16571449 0.59384529\n",
            "  0.19722747 0.17878228 0.83865961 1.05346258 0.95245239 0.85086584\n",
            "  0.23211585 1.00704516 0.82270544 0.60962147 0.72803332 0.3844798\n",
            "  0.73825239 0.81918624 0.3764326  0.93314552 0.54252465 0.78747281\n",
            "  0.33086534 0.82575031 0.86337162 0.36949625 0.39538341 0.76068808\n",
            "  0.72330562 0.54741141 0.92156253 0.39729271 0.12359298 0.72797593\n",
            "  1.21384645 0.4496772  0.41784041 1.13407201 0.80249349 0.94661136\n",
            "  0.86005932 0.22099521 0.58722339 0.1956681  0.27849774 1.24489692\n",
            "  0.57681414 1.16289686 0.95475032 0.45470635 0.78111195 0.65338266\n",
            "  0.29607344 0.95053696 0.77192516 0.70059373 0.3172034  0.75086003\n",
            "  0.         0.79565842 0.96174082 1.07146692 0.52995631 0.42384924\n",
            "  0.76474993 0.98639559 0.80040854 1.04039464 1.21043024 0.72936741\n",
            "  0.64650545 0.40127229 0.14642091 0.95459264 0.93101374 0.77008107\n",
            "  0.18381938 1.01081186 0.84449431 0.98340492 0.81717779 0.76263436\n",
            "  0.85667984 0.85537865 0.70563592 0.60901315 0.6134981  1.16967803\n",
            "  0.09411985 0.78010616 0.73899809 0.02577477]\n",
            " [0.47688916 0.24185021 0.139417   0.469019   0.28222536 0.64855801\n",
            "  0.57614269 0.52238493 0.95609874 0.36611109 0.67678561 0.4084471\n",
            "  0.64526134 0.7162451  0.25610264 0.47281248 0.15928005 0.57176272\n",
            "  0.56367424 0.22803094 0.90883864 0.25427676 0.30906978 0.69016069\n",
            "  0.32833556 0.27189252 0.81169693 0.43526111 0.41881681 0.84769779\n",
            "  0.5505651  0.03113154 0.33913891 0.44703395 0.76620621 0.66783123\n",
            "  0.08024977 0.27705943 0.14360315 0.57066822 0.77919048 0.12196463\n",
            "  0.58302281 0.49680788 0.4014304  0.50701043 0.3379333  0.32834055\n",
            "  0.56404147 0.57626951 0.29123902 0.65846277 0.58251048 0.60829481\n",
            "  0.66529842 0.57954881 0.27333351 0.36354891 0.12166831 0.14403074\n",
            "  0.51059736 0.28530585 0.86941617 0.90302463 0.73165248 0.28517625\n",
            "  0.79565842 0.         0.58875293 0.38776611 0.5888805  0.38465255\n",
            "  0.09380584 0.59564637 0.5829552  0.65839899 0.57652778 0.78635576\n",
            "  0.20050605 0.47557339 0.68653937 0.34088105 0.60067089 0.18174108\n",
            "  0.69601831 0.30145586 0.21241008 0.6040921  0.07636609 0.09288062\n",
            "  0.17379513 0.81449492 0.63889752 0.67474379 0.25473982 0.51850899\n",
            "  0.88096074 0.86952111 0.16841761 0.7849967 ]\n",
            " [0.1457396  0.37333583 0.46984253 0.84846641 0.8709447  0.37039719\n",
            "  0.05680182 0.15242993 0.48917584 0.23879076 0.93992179 0.38175024\n",
            "  0.7646965  0.79612783 0.8446587  0.24030865 0.64715077 0.1193229\n",
            "  0.79580369 0.54762342 0.49010093 0.46927075 0.3180919  0.6240146\n",
            "  0.29690297 0.85878131 0.722225   0.16662568 0.43190844 0.44314414\n",
            "  0.63225733 0.59935067 0.92745888 0.78971789 0.6690376  0.28006569\n",
            "  0.55600514 0.72462652 0.53703628 0.56696245 0.87105419 0.49251812\n",
            "  0.36207098 0.5132143  0.60517065 0.31866747 0.91989482 0.30431168\n",
            "  0.10616503 0.81589863 0.78641127 0.94033106 0.90882597 0.38754948\n",
            "  0.44720664 0.28192993 0.38247822 0.75242791 0.46853406 0.57765642\n",
            "  0.70519116 0.3623366  0.48042528 0.57382063 0.70206756 0.32437458\n",
            "  0.96174082 0.58875293 0.         0.38082265 0.44959401 0.74353246\n",
            "  0.67443819 0.0262464  0.17971805 0.08336877 0.36367456 0.4213906\n",
            "  0.484175   0.57181361 0.93675236 0.29565542 0.04608516 0.76367683\n",
            "  0.7844046  0.41541587 0.38067693 0.02194422 0.66400859 0.50289898\n",
            "  0.42704479 0.35193416 0.31072005 0.42518118 0.46401157 0.3643704\n",
            "  1.05420438 0.4743319  0.43737595 0.93885806]\n",
            " [0.372152   0.17602531 0.25294086 0.81900527 0.6334978  0.65739181\n",
            "  0.40800551 0.23906375 0.86284032 0.18929299 0.99051186 0.510444\n",
            "  0.88663418 0.94321192 0.61223012 0.1497906  0.35113468 0.44693311\n",
            "  0.85468769 0.21787937 0.85048056 0.46338798 0.35517755 0.8336377\n",
            "  0.35230406 0.63573761 0.95360857 0.2329297  0.55415899 0.79624295\n",
            "  0.75994458 0.37768473 0.69161747 0.77964684 0.89974323 0.60979425\n",
            "  0.41182715 0.63938179 0.26114265 0.73372245 1.01716669 0.37233216\n",
            "  0.19749944 0.65745821 0.65487777 0.13040818 0.7083784  0.13159926\n",
            "  0.43179759 0.87205347 0.67136264 0.97933912 0.91786949 0.22107612\n",
            "  0.7144233  0.21459001 0.12372088 0.7090153  0.31838583 0.47301333\n",
            "  0.77665383 0.12258366 0.83000614 0.90574286 0.90036856 0.32671762\n",
            "  1.07146692 0.38776611 0.38082265 0.         0.67307794 0.71857243\n",
            "  0.47939958 0.36988329 0.49531545 0.40913583 0.19062053 0.75719589\n",
            "  0.43455832 0.68031158 0.99507577 0.12794738 0.41866648 0.56076375\n",
            "  0.9257288  0.08726138 0.23070031 0.38265633 0.44078414 0.35099742\n",
            "  0.23472769 0.71953676 0.61412538 0.70580145 0.45915673 0.13151142\n",
            "  1.16441976 0.82583723 0.34178171 1.05430678]\n",
            " [0.33592732 0.53779141 0.56316325 0.54851414 0.81085553 0.12768247\n",
            "  0.39326164 0.55111142 0.45046699 0.48676122 0.54852705 0.1849695\n",
            "  0.33982852 0.35521673 0.78475394 0.60069148 0.73042303 0.33202712\n",
            "  0.41774003 0.71067684 0.37587755 0.33662649 0.33298158 0.17515291\n",
            "  0.32814772 0.78320676 0.2844768  0.47144377 0.17117399 0.32065638\n",
            "  0.22477042 0.61686788 0.85225875 0.48349981 0.22994752 0.23314753\n",
            "  0.51286955 0.52611378 0.6458475  0.13885788 0.42763522 0.46963005\n",
            "  0.76017448 0.13701999 0.2987906  0.68988092 0.81493225 0.54252066\n",
            "  0.3437481  0.43674623 0.60099516 0.5583193  0.55798845 0.79045477\n",
            "  0.08628278 0.69342355 0.58698857 0.49501045 0.49713076 0.4757352\n",
            "  0.33508796 0.57364636 0.32558702 0.3246636  0.25260693 0.36597568\n",
            "  0.52995631 0.5888805  0.44959401 0.67307794 0.         0.46793453\n",
            "  0.62617727 0.47557236 0.27611339 0.52212677 0.75877773 0.25150438\n",
            "  0.38948717 0.20877481 0.5396557  0.54516342 0.41282197 0.69094376\n",
            "  0.34671657 0.6454976  0.49546307 0.47012542 0.65325449 0.50563689\n",
            "  0.53307008 0.35115682 0.17723137 0.11040014 0.33537728 0.73310166\n",
            "  0.6185698  0.3297471  0.4384341  0.50536106]\n",
            " [0.59828129 0.54323957 0.47863394 0.10626889 0.44232254 0.58474614\n",
            "  0.70348708 0.75419006 0.9171807  0.60770127 0.29253237 0.38058515\n",
            "  0.31741432 0.39173495 0.42315507 0.74537505 0.5357869  0.66478187\n",
            "  0.19680107 0.60830225 0.84380523 0.28162706 0.43555377 0.46407627\n",
            "  0.45428263 0.40739665 0.55985131 0.6500532  0.34258589 0.78815573\n",
            "  0.29075812 0.41288698 0.46160814 0.06283587 0.53237234 0.66387662\n",
            "  0.32230844 0.12382522 0.52165426 0.36302035 0.43659177 0.34737506\n",
            "  0.89215876 0.33102353 0.1696859  0.81020309 0.40688882 0.61190257\n",
            "  0.66650057 0.20389833 0.17553177 0.27382469 0.20115181 0.92173879\n",
            "  0.55284065 0.8611011  0.59503861 0.03555034 0.40242223 0.2526646\n",
            "  0.18695416 0.5969399  0.79327048 0.77785124 0.46682933 0.44307515\n",
            "  0.42384924 0.38465255 0.74353246 0.71857243 0.46793453 0.\n",
            "  0.34240575 0.7622745  0.63875849 0.82665504 0.88712741 0.71891095\n",
            "  0.29006629 0.26227975 0.30321888 0.62268042 0.73058033 0.34794892\n",
            "  0.37183635 0.64355116 0.48987589 0.76469657 0.39606801 0.37444616\n",
            "  0.48558829 0.80510477 0.61277543 0.57830394 0.28695086 0.8364103\n",
            "  0.50293806 0.797623   0.37860855 0.41768035]\n",
            " [0.55558459 0.33542463 0.23319151 0.41229192 0.2008982  0.69990189\n",
            "  0.65813152 0.61456509 1.01813508 0.45731691 0.63287008 0.45482832\n",
            "  0.63205052 0.70556735 0.17377885 0.56652497 0.20013934 0.64870713\n",
            "  0.53384307 0.30377924 0.96544971 0.2913258  0.38000697 0.70684145\n",
            "  0.40069657 0.1847395  0.82454571 0.52507798 0.45525061 0.90439225\n",
            "  0.55343049 0.10253557 0.25474473 0.40180342 0.78285748 0.73103098\n",
            "  0.1254451  0.22242067 0.22606978 0.58739059 0.76270375 0.18748124\n",
            "  0.67555485 0.51908886 0.39869986 0.60023714 0.24667064 0.42184815\n",
            "  0.64222658 0.54377359 0.21646267 0.6116793  0.53052198 0.70034457\n",
            "  0.70719886 0.67330025 0.36682065 0.31522397 0.20638098 0.1511472\n",
            "  0.49425616 0.37906213 0.92329626 0.94754649 0.73931883 0.36053161\n",
            "  0.76474993 0.09380584 0.67443819 0.47939958 0.62617727 0.34240575\n",
            "  0.         0.68277671 0.65424661 0.74642042 0.66897082 0.84041707\n",
            "  0.24156509 0.48510348 0.64472264 0.43439707 0.68344749 0.08972192\n",
            "  0.68508549 0.39251073 0.30351793 0.6906648  0.05541433 0.17155962\n",
            "  0.26705601 0.87969661 0.69723974 0.72027837 0.29342263 0.6105924\n",
            "  0.84531928 0.92422236 0.24151354 0.75684856]\n",
            " [0.16646009 0.3745     0.47333481 0.86756162 0.87781656 0.39652379\n",
            "  0.08304174 0.13578108 0.50687102 0.23909228 0.96268873 0.40415473\n",
            "  0.78927311 0.82140015 0.85174743 0.22577089 0.64777875 0.1455693\n",
            "  0.81842039 0.54423389 0.51090816 0.48609725 0.33342633 0.65008897\n",
            "  0.31259927 0.86662704 0.74847115 0.16617299 0.4546722  0.46521721\n",
            "  0.65657557 0.60498536 0.93473911 0.8094284  0.69527801 0.30518197\n",
            "  0.56608437 0.74010365 0.53782138 0.59212972 0.89642462 0.50292973\n",
            "  0.34032135 0.53748157 0.6264008  0.30055096 0.92887777 0.30162269\n",
            "  0.1323452  0.8384873  0.80066123 0.96267527 0.9298838  0.36508732\n",
            "  0.47342738 0.25947506 0.37981375 0.7703127  0.47645474 0.59048973\n",
            "  0.72790102 0.3597773  0.50278595 0.59753737 0.72809205 0.33751257\n",
            "  0.98639559 0.59564637 0.0262464  0.36988329 0.47557236 0.7622745\n",
            "  0.68277671 0.         0.20592524 0.06565862 0.34223129 0.44532766\n",
            "  0.49874467 0.59518782 0.95978372 0.29220615 0.07050842 0.77228248\n",
            "  0.8095236  0.40946208 0.38557901 0.0129902  0.67031627 0.51150333\n",
            "  0.43090369 0.3719286  0.33669983 0.45130471 0.48080065 0.34576648\n",
            "  1.07900737 0.49648249 0.44801071 0.96362284]\n",
            " [0.12663102 0.4222368  0.49504124 0.73843557 0.8550701  0.19096357\n",
            "  0.1232184  0.3088275  0.38482659 0.3131432  0.79643817 0.25822656\n",
            "  0.60534211 0.62927273 0.82790171 0.38097838 0.68107064 0.06099523\n",
            "  0.65525682 0.61120688 0.35835949 0.39375167 0.27468313 0.448155\n",
            "  0.25474069 0.83623145 0.54298107 0.26322619 0.30038828 0.30193405\n",
            "  0.47708404 0.60183263 0.9073693  0.67550044 0.49011089 0.11481254\n",
            "  0.52889193 0.6477353  0.57527079 0.40312205 0.7028379  0.46726558\n",
            "  0.52598349 0.36098601 0.48178986 0.46898206 0.88766483 0.38351042\n",
            "  0.07597454 0.67535329 0.7175408  0.80066501 0.78092065 0.55394375\n",
            "  0.26751404 0.4500407  0.45293189 0.6547574  0.46350118 0.52813659\n",
            "  0.56514159 0.43413964 0.33484853 0.4136499  0.52672622 0.29799783\n",
            "  0.80040854 0.5829552  0.17971805 0.49531545 0.27611339 0.63875849\n",
            "  0.65424661 0.20592524 0.         0.2467003  0.52631977 0.26272827\n",
            "  0.42676884 0.42789713 0.79088113 0.37999931 0.13866851 0.73831347\n",
            "  0.61925048 0.50158606 0.4051591  0.19849285 0.65878247 0.49022601\n",
            "  0.45349694 0.23875915 0.13271687 0.24572741 0.38924856 0.51511403\n",
            "  0.89107478 0.3309568  0.41526647 0.77654877]\n",
            " [0.22910683 0.43265175 0.53345982 0.93169894 0.9403272  0.43234625\n",
            "  0.13244671 0.17012082 0.49733986 0.29746311 1.02206604 0.46443796\n",
            "  0.84369781 0.87263136 0.91443619 0.2600769  0.70435783 0.1905678\n",
            "  0.87813173 0.59567795 0.51262179 0.5513716  0.39900272 0.69484852\n",
            "  0.3781109  0.92984661 0.78771106 0.22504081 0.51425999 0.47276216\n",
            "  0.71203224 0.66675371 0.9975263  0.87306224 0.73549774 0.33172906\n",
            "  0.63072881 0.8057051  0.59487446 0.64420724 0.94702388 0.5677551\n",
            "  0.34748562 0.59323671 0.68838223 0.32244229 0.99279322 0.35574468\n",
            "  0.18042268 0.89824823 0.86631409 1.02287207 0.9920641  0.36838118\n",
            "  0.51126399 0.26562988 0.43324094 0.83519122 0.54004043 0.65599889\n",
            "  0.78745506 0.41350762 0.51121807 0.61197319 0.77339422 0.40311973\n",
            "  1.04039464 0.65839899 0.08336877 0.40913583 0.52212677 0.82665504\n",
            "  0.74642042 0.06565862 0.2467003  0.         0.35071344 0.46231787\n",
            "  0.56440093 0.65335936 1.01859602 0.34542142 0.10971303 0.83603723\n",
            "  0.86157349 0.45766881 0.44721542 0.06195962 0.73254816 0.57544741\n",
            "  0.49149674 0.37247558 0.37079035 0.48661355 0.54608601 0.36501568\n",
            "  1.13234759 0.50402652 0.51296101 1.01718404]\n",
            " [0.42550737 0.34909923 0.43918551 0.99056358 0.82322655 0.71174266\n",
            "  0.41122071 0.21756902 0.84596762 0.29322483 1.14579535 0.62379588\n",
            "  1.0182752  1.06721392 0.80234861 0.15957543 0.53781991 0.46739318\n",
            "  1.00520977 0.40197182 0.85313837 0.61656177 0.48252924 0.93044732\n",
            "  0.47236522 0.82614081 1.04308874 0.28794815 0.67305111 0.80681513\n",
            "  0.88629544 0.56774992 0.8811398  0.94621565 0.98856223 0.63729645\n",
            "  0.593919   0.81809044 0.45166302 0.84497832 1.14283817 0.54789298\n",
            "  0.00743957 0.77410275 0.80229016 0.07740188 0.89891462 0.27524695\n",
            "  0.45157512 1.02370961 0.85529871 1.13752289 1.08252867 0.0348396\n",
            "  0.78096179 0.08509785 0.30521786 0.88129763 0.49667099 0.65041363\n",
            "  0.92161885 0.29721035 0.84401725 0.9352793  1.00351049 0.46152417\n",
            "  1.21043024 0.57652778 0.36367456 0.19062053 0.75877773 0.88712741\n",
            "  0.66897082 0.34223129 0.52631977 0.35071344 0.         0.782622\n",
            "  0.59753507 0.81038072 1.14831355 0.26468689 0.40943935 0.75119836\n",
            "  1.05145668 0.27783292 0.39924251 0.3544609  0.63131067 0.53166196\n",
            "  0.41500055 0.71397824 0.65787806 0.76508643 0.61173019 0.05954618\n",
            "  1.30444202 0.83799007 0.50915929 1.19115003]\n",
            " [0.38546971 0.66854778 0.72554378 0.79974322 1.03489826 0.14173776\n",
            "  0.37141035 0.56578354 0.1991106  0.5720943  0.78012999 0.38688673\n",
            "  0.55968201 0.551221   1.00803506 0.64251492 0.9080284  0.31719132\n",
            "  0.65946878 0.85654822 0.12731014 0.55135897 0.48703049 0.34526865\n",
            "  0.47241905 1.01020858 0.38522176 0.52582344 0.39837033 0.06924617\n",
            "  0.46602848 0.81052852 1.08085232 0.73481578 0.34524724 0.14793794\n",
            "  0.71840678 0.76992492 0.80903918 0.37787091 0.61151595 0.66451228\n",
            "  0.78160165 0.38842723 0.54936708 0.72938117 1.04910572 0.64102425\n",
            "  0.33309746 0.67741391 0.84471953 0.79381575 0.8030234  0.80811061\n",
            "  0.17008318 0.70271942 0.70577036 0.74514455 0.67687269 0.69572327\n",
            "  0.58198639 0.6880344  0.0830782  0.15266236 0.41426013 0.51763047\n",
            "  0.72936741 0.78635576 0.4213906  0.75719589 0.25150438 0.71891095\n",
            "  0.84041707 0.44532766 0.26272827 0.46231787 0.782622   0.\n",
            "  0.59894749 0.46014343 0.76861531 0.63872125 0.37533368 0.91440323\n",
            "  0.54963302 0.75784408 0.6414766  0.43449286 0.85793175 0.6954454\n",
            "  0.68736303 0.13225535 0.1514458  0.14139207 0.54858767 0.7756526\n",
            "  0.80783885 0.0838742  0.62093849 0.70362496]\n",
            " [0.34705291 0.25865241 0.21808037 0.39481485 0.43735247 0.45833684\n",
            "  0.45487766 0.47040904 0.77887613 0.31915957 0.55614688 0.21345767\n",
            "  0.4746301  0.54056675 0.41028165 0.45575243 0.35085781 0.43210104\n",
            "  0.42267957 0.36802123 0.72429287 0.05381452 0.16636669 0.49237218\n",
            "  0.18788366 0.41479297 0.61505653 0.36734924 0.21872522 0.66330986\n",
            "  0.36439776 0.22971626 0.48605299 0.34868084 0.56808383 0.49354858\n",
            "  0.12338867 0.24226835 0.28705182 0.37372687 0.60932533 0.08940877\n",
            "  0.6024492  0.29805219 0.23006108 0.52044236 0.46189238 0.32232635\n",
            "  0.42877974 0.43927828 0.30226007 0.54479437 0.48544308 0.63222938\n",
            "  0.46798957 0.57149374 0.31291942 0.28735513 0.13672392 0.10153114\n",
            "  0.35068816 0.31198015 0.68177965 0.70754215 0.53856942 0.16265318\n",
            "  0.64650545 0.20050605 0.484175   0.43455832 0.38948717 0.29006629\n",
            "  0.24156509 0.49874467 0.42676884 0.56440093 0.59753507 0.59894749\n",
            "  0.         0.28541435 0.56119009 0.33288773 0.48186052 0.31747667\n",
            "  0.52111399 0.36644333 0.20386058 0.50366058 0.2640049  0.12768295\n",
            "  0.2103146  0.64295588 0.45711009 0.47965721 0.05429425 0.54787554\n",
            "  0.73756376 0.68278179 0.09352985 0.63169874]\n",
            " [0.4312729  0.51452062 0.49951047 0.33974938 0.64739147 0.33192986\n",
            "  0.52140713 0.63026191 0.65919364 0.51759518 0.36959296 0.19397794\n",
            "  0.20803535 0.26334315 0.62313521 0.65266842 0.63241657 0.46940747\n",
            "  0.2273741  0.65144242 0.58338889 0.23615359 0.32932498 0.22336239\n",
            "  0.3380678  0.61618871 0.3394546  0.53190304 0.14240084 0.52919207\n",
            "  0.08075897 0.50645122 0.68127177 0.27472521 0.2987313  0.42432989\n",
            "  0.39536428 0.33765933 0.57218852 0.10716056 0.33685736 0.37476336\n",
            "  0.81359583 0.07355237 0.09902069 0.73452839 0.63646736 0.55184619\n",
            "  0.47598762 0.24748591 0.41068341 0.37281923 0.35750212 0.84467966\n",
            "  0.29186906 0.7616304  0.56978257 0.2918226  0.41997605 0.33813232\n",
            "  0.13738101 0.56272038 0.5322963  0.51623252 0.25621338 0.35460743\n",
            "  0.40127229 0.47557339 0.57181361 0.68031158 0.20877481 0.26227975\n",
            "  0.48510348 0.59518782 0.42789713 0.65335936 0.81038072 0.46014343\n",
            "  0.28541435 0.         0.36537185 0.55886902 0.54632595 0.53236705\n",
            "  0.24549176 0.62813782 0.46159215 0.59374568 0.52453811 0.41295027\n",
            "  0.48339654 0.55601246 0.36961214 0.31879267 0.23837515 0.7714728\n",
            "  0.49538455 0.53701165 0.36764742 0.38115114]\n",
            " [0.79470592 0.81957685 0.76946347 0.24725264 0.71777446 0.66650165\n",
            "  0.88675677 0.98542944 0.96057622 0.85706906 0.01981617 0.55611118\n",
            "  0.20993166 0.24240008 0.70326927 0.99599467 0.83898529 0.83445783\n",
            "  0.1439105  0.90674702 0.87557116 0.53322189 0.6694766  0.43075614\n",
            "  0.68315948 0.68226804 0.46174787 0.88353326 0.50518349 0.8325343\n",
            "  0.31674305 0.71535872 0.72296835 0.24293553 0.46503104 0.77196931\n",
            "  0.61988313 0.42293695 0.82017543 0.40082093 0.22940024 0.63467288\n",
            "  1.15245002 0.42990718 0.34664737 1.07100161 0.66119448 0.87671441\n",
            "  0.84129339 0.12478975 0.45364315 0.04961389 0.13328686 1.18313124\n",
            "  0.60352719 1.10929103 0.874093   0.32962212 0.68953432 0.54925037\n",
            "  0.23264143 0.87257173 0.82328728 0.76778556 0.38229303 0.68740886\n",
            "  0.14642091 0.68653937 0.93675236 0.99507577 0.5396557  0.30321888\n",
            "  0.64472264 0.95978372 0.79088113 1.01859602 1.14831355 0.76861531\n",
            "  0.56119009 0.36537185 0.         0.88597855 0.91169335 0.64034043\n",
            "  0.23418897 0.92719812 0.76459845 0.95869559 0.69888535 0.66627802\n",
            "  0.76964848 0.88562251 0.71590898 0.63546197 0.53780787 1.10289966\n",
            "  0.20526627 0.83047923 0.65466073 0.15423127]\n",
            " [0.25389975 0.09904593 0.20321586 0.72656299 0.61405027 0.53296217\n",
            "  0.30923674 0.18772425 0.75773441 0.06686322 0.88282458 0.38393625\n",
            "  0.7664027  0.82061466 0.58975683 0.13290227 0.36014505 0.3376628\n",
            "  0.74360659 0.2521326  0.73815082 0.35301066 0.23053055 0.70609361\n",
            "  0.22583965 0.60911441 0.82577097 0.13023954 0.42893673 0.68188389\n",
            "  0.63756654 0.34108586 0.67247208 0.68155673 0.77186011 0.49282466\n",
            "  0.34057738 0.55815923 0.25194771 0.60769238 0.89521445 0.2883823\n",
            "  0.2695618  0.53220297 0.54138578 0.18755674 0.67778838 0.01255264\n",
            "  0.32363215 0.76173084 0.60098203 0.87379771 0.81787169 0.29942533\n",
            "  0.58778283 0.24509048 0.08786114 0.61768274 0.24121546 0.39084188\n",
            "  0.66213271 0.06809397 0.71415708 0.78493006 0.77351646 0.20434323\n",
            "  0.95459264 0.34088105 0.29565542 0.12794738 0.54516342 0.62268042\n",
            "  0.43439707 0.29220615 0.37999931 0.34542142 0.26468689 0.63872125\n",
            "  0.33288773 0.55886902 0.88597855 0.         0.32542571 0.52248686\n",
            "  0.80360613 0.12330438 0.13920663 0.30368924 0.40817021 0.2780279\n",
            "  0.16744454 0.61225846 0.49248064 0.58019624 0.3483111  0.21692215\n",
            "  1.0481669  0.71062018 0.2457589  0.93647716]\n",
            " [0.13520054 0.39591533 0.48808863 0.83441089 0.8820546  0.3278426\n",
            "  0.02726885 0.19639641 0.44674842 0.26442927 0.9156824  0.36035806\n",
            "  0.7344843  0.76292313 0.85544123 0.28218213 0.66906998 0.08091081\n",
            "  0.77222927 0.57567998 0.44506264 0.462034   0.31578644 0.58615102\n",
            "  0.29413609 0.86818304 0.68151711 0.19520001 0.40902498 0.39742402\n",
            "  0.60326388 0.61339398 0.93773739 0.77422967 0.62875066 0.2346879\n",
            "  0.56228844 0.71928333 0.55913279 0.53458687 0.83731481 0.49853605\n",
            "  0.40793008 0.4847312  0.58611079 0.36282272 0.92710141 0.33299729\n",
            "  0.07099654 0.79237659 0.78353614 0.91736914 0.88956569 0.43356628\n",
            "  0.4056198  0.32796291 0.41041412 0.74152379 0.47930347 0.57843832\n",
            "  0.68150244 0.39028879 0.43457952 0.52774182 0.66456353 0.3266588\n",
            "  0.93101374 0.60067089 0.04608516 0.41866648 0.41282197 0.73058033\n",
            "  0.68344749 0.07050842 0.13866851 0.10971303 0.40943935 0.37533368\n",
            "  0.48186052 0.54632595 0.91169335 0.32542571 0.         0.77192787\n",
            "  0.75191203 0.4474041  0.39734274 0.06102529 0.67665261 0.51221257\n",
            "  0.44500143 0.30762982 0.26736307 0.38255067 0.45689777 0.40875583\n",
            "  1.02281901 0.42856986 0.44336998 0.90771279]\n",
            " [0.6429309  0.42344115 0.32001897 0.39677199 0.12055441 0.77298744\n",
            "  0.74639795 0.70383367 1.0963285  0.5468619  0.62637484 0.52751831\n",
            "  0.65674672 0.73135458 0.09395213 0.65404863 0.24893892 0.73520025\n",
            "  0.54468102 0.37123938 1.04053515 0.36305898 0.46533555 0.75572791\n",
            "  0.48639593 0.09793237 0.8691254  0.61479273 0.52199979 0.97973303\n",
            "  0.59374743 0.18412158 0.16917809 0.40071644 0.8308836  0.81076787\n",
            "  0.21069486 0.22446918 0.30176045 0.63802179 0.78228512 0.27413526\n",
            "  0.75794772 0.57507758 0.43902625 0.68432423 0.15695082 0.50995719\n",
            "  0.7292081  0.5516075  0.18853755 0.60234827 0.5169464  0.78176212\n",
            "  0.77424303 0.7592155  0.45213792 0.3156017  0.29601217 0.21868079\n",
            "  0.51933263 0.46536699 0.99683388 1.01487957 0.78057524 0.44751685\n",
            "  0.77008107 0.18174108 0.76367683 0.56076375 0.69094376 0.34794892\n",
            "  0.08972192 0.77228248 0.73831347 0.83603723 0.75119836 0.91440323\n",
            "  0.31747667 0.53236705 0.64034043 0.52248686 0.77192787 0.\n",
            "  0.71095607 0.47350824 0.39302362 0.78007326 0.12016827 0.26082997\n",
            "  0.35553587 0.96002791 0.77445072 0.78958754 0.36593017 0.69227347\n",
            "  0.84474025 0.99826833 0.32894579 0.76510116]\n",
            " [0.65370713 0.75959042 0.73875229 0.38343557 0.81264975 0.46561053\n",
            "  0.72985244 0.86254335 0.735374   0.76002337 0.25016827 0.42811711\n",
            "  0.05450608 0.02048943 0.79223752 0.89259128 0.85528527 0.67130496\n",
            "  0.19068939 0.88908899 0.64901397 0.47615412 0.57336435 0.20469685\n",
            "  0.58062412 0.77812706 0.2294585  0.76837076 0.37840615 0.61007861\n",
            "  0.16604391 0.72710283 0.83344449 0.33832263 0.23102574 0.57688469\n",
            "  0.61789351 0.48920713 0.8069224  0.21746499 0.09163198 0.60867848\n",
            "  1.05432496 0.27872303 0.29526057 0.97646474 0.77817456 0.79685576\n",
            "  0.68118255 0.19680222 0.54736723 0.27225153 0.31866345 1.08540515\n",
            "  0.3935981  0.99848825 0.81495966 0.40724858 0.65775886 0.55238839\n",
            "  0.1918073  0.80814879 0.59730074 0.53544009 0.14832444 0.59962211\n",
            "  0.18381938 0.69601831 0.7844046  0.9257288  0.34671657 0.37183635\n",
            "  0.68508549 0.8095236  0.61925048 0.86157349 1.05145668 0.54963302\n",
            "  0.52111399 0.24549176 0.23418897 0.80360613 0.75191203 0.71095607\n",
            "  0.         0.87308857 0.70624572 0.80584583 0.73232973 0.64594883\n",
            "  0.7258121  0.67359544 0.5219002  0.42586646 0.47907189 1.01459254\n",
            "  0.27203346 0.60503141 0.60861318 0.15884656]\n",
            " [0.3750209  0.11368764 0.16956523 0.74177989 0.5473839  0.64635536\n",
            "  0.43207265 0.29055209 0.88087798 0.18925355 0.9215518  0.47202524\n",
            "  0.83115399 0.8913417  0.52574426 0.21078072 0.26877872 0.46074866\n",
            "  0.78909273 0.14160624 0.85994553 0.4013312  0.31535139 0.79733263\n",
            "  0.31759371 0.54893118 0.9196132  0.25247726 0.51112134 0.80304201\n",
            "  0.70872284 0.29058378 0.60565786 0.70544238 0.86671312 0.61326308\n",
            "  0.3302089  0.55868894 0.17433289 0.6911977  0.96384181 0.29619678\n",
            "  0.28466909 0.61330813 0.59297146 0.21447342 0.62138904 0.11826894\n",
            "  0.4468386  0.80571353 0.58746691 0.9088595  0.84410764 0.30828237\n",
            "  0.69585783 0.2956943  0.05931189 0.63184862 0.24113983 0.39419311\n",
            "  0.71480819 0.07212081 0.83460321 0.90185798 0.85991624 0.2836672\n",
            "  1.01081186 0.30145586 0.41541587 0.08726138 0.6454976  0.64355116\n",
            "  0.39251073 0.40946208 0.50158606 0.45766881 0.27783292 0.75784408\n",
            "  0.36644333 0.62813782 0.92719812 0.12330438 0.4474041  0.47350824\n",
            "  0.87308857 0.         0.16704577 0.42152275 0.3535232  0.27115348\n",
            "  0.15825532 0.73525511 0.60959695 0.69109477 0.39761269 0.21877214\n",
            "  1.10276545 0.83136709 0.27295036 0.99486283]\n",
            " [0.28540769 0.05504568 0.09147422 0.59209582 0.49339012 0.51628351\n",
            "  0.37464332 0.31129254 0.78938291 0.15384723 0.7598665  0.314761\n",
            "  0.66410947 0.72460538 0.46774277 0.27118687 0.27672027 0.38108833\n",
            "  0.62482511 0.21775603 0.75479254 0.23488495 0.16324856 0.63805031\n",
            "  0.17238092 0.48427747 0.76137823 0.22309034 0.34946756 0.69496789\n",
            "  0.5422792  0.21954549 0.55091279 0.55024262 0.70949932 0.50596455\n",
            "  0.2019666  0.41969293 0.17016177 0.52843458 0.7968902  0.14945593\n",
            "  0.40468257 0.45005715 0.4267742  0.32339414 0.54982023 0.12713152\n",
            "  0.37079196 0.64193647 0.4618009  0.74865139 0.68803969 0.43349961\n",
            "  0.55498072 0.38429505 0.11028568 0.48248902 0.10266624 0.25209087\n",
            "  0.54870194 0.10811965 0.72242756 0.77624566 0.69762924 0.13013737\n",
            "  0.84449431 0.21241008 0.38067693 0.23070031 0.49546307 0.48987589\n",
            "  0.30351793 0.38557901 0.4051591  0.44721542 0.39924251 0.6414766\n",
            "  0.20386058 0.46159215 0.76459845 0.13920663 0.39734274 0.39302362\n",
            "  0.70624572 0.16704577 0.         0.39468829 0.2854743  0.13981703\n",
            "  0.04869375 0.64371001 0.49004568 0.55506955 0.23100446 0.34688024\n",
            "  0.93679038 0.72068506 0.11149026 0.82824303]\n",
            " [0.16731124 0.38481673 0.48296268 0.86974447 0.88631198 0.38852269\n",
            "  0.07686406 0.14876582 0.49408439 0.24955298 0.96186466 0.40366945\n",
            "  0.78639521 0.8174661  0.86015637 0.23874877 0.65833201 0.1388265\n",
            "  0.81774175 0.55579704 0.49871169 0.48971963 0.33786348 0.64428723\n",
            "  0.31682184 0.87473863 0.74143326 0.17671938 0.45384869 0.45344409\n",
            "  0.65404125 0.61390436 0.94308133 0.81116717 0.68843017 0.29540719\n",
            "  0.57320912 0.74455539 0.54830712 0.58838702 0.89231386 0.50989043\n",
            "  0.35245784 0.53501708 0.62695031 0.3134077  0.93652711 0.31293281\n",
            "  0.12638793 0.83783565 0.8057953  0.96225535 0.93058446 0.37696181\n",
            "  0.46592288 0.27140422 0.39116015 0.77330678 0.48446411 0.59632691\n",
            "  0.72713196 0.37108932 0.49111772 0.5865263  0.72246108 0.34311212\n",
            "  0.98340492 0.6040921  0.02194422 0.38265633 0.47012542 0.76469657\n",
            "  0.6906648  0.0129902  0.19849285 0.06195962 0.3544609  0.43449286\n",
            "  0.50366058 0.59374568 0.95869559 0.30368924 0.06102529 0.78007326\n",
            "  0.80584583 0.42152275 0.39468829 0.         0.67899893 0.51924468\n",
            "  0.44039347 0.35955945 0.32826779 0.443271   0.48444455 0.35856053\n",
            "  1.07580424 0.48473169 0.45485328 0.96047753]\n",
            " [0.55325446 0.30956492 0.20498913 0.46762379 0.20793975 0.71898688\n",
            "  0.6522578  0.59266866 1.0302196  0.43823484 0.68729839 0.47626659\n",
            "  0.67986677 0.75277243 0.18254061 0.53820576 0.14484499 0.64811177\n",
            "  0.58569563 0.25413142 0.98136067 0.31663912 0.38449218 0.7440117\n",
            "  0.40405686 0.20094456 0.86354299 0.50852885 0.48218331 0.92020112\n",
            "  0.59569118 0.06711591 0.26569666 0.45608147 0.82018747 0.74205727\n",
            "  0.14083397 0.27726317 0.18169082 0.62423355 0.81168601 0.19433053\n",
            "  0.63809784 0.55322913 0.44225725 0.56515184 0.27052568 0.39574427\n",
            "  0.64040742 0.59620325 0.27115222 0.66642062 0.58566382 0.66171216\n",
            "  0.7319238  0.6412213  0.33424865 0.36968039 0.19798953 0.18645289\n",
            "  0.54259972 0.34842954 0.94100567 0.97108578 0.78023817 0.36125094\n",
            "  0.81717779 0.07636609 0.66400859 0.44078414 0.65325449 0.39606801\n",
            "  0.05541433 0.67031627 0.65878247 0.73254816 0.63131067 0.85793175\n",
            "  0.2640049  0.52453811 0.69888535 0.40817021 0.67665261 0.12016827\n",
            "  0.73232973 0.3535232  0.2854743  0.67899893 0.         0.16857758\n",
            "  0.2436287  0.88931152 0.71170747 0.74293295 0.3179105  0.5722924\n",
            "  0.89869418 0.94138958 0.24368212 0.8086935 ]\n",
            " [0.3859436  0.18324259 0.10419702 0.47088766 0.37011479 0.5587847\n",
            "  0.48711375 0.44930896 0.86349782 0.29078612 0.65894139 0.32238332\n",
            "  0.59800363 0.66566794 0.34336585 0.41064219 0.22584336 0.48023149\n",
            "  0.53376627 0.24480895 0.81716234 0.17960313 0.21618978 0.61864535\n",
            "  0.23553164 0.35613567 0.74176318 0.35591595 0.33823989 0.75605888\n",
            "  0.49150925 0.11508641 0.4255256  0.43693217 0.69402708 0.57522718\n",
            "  0.0626869  0.28838556 0.16101512 0.50062605 0.73288614 0.03831157\n",
            "  0.5375605  0.42410076 0.35185218 0.45771983 0.41738485 0.26568621\n",
            "  0.47296932 0.54869661 0.32414468 0.64407769 0.57557081 0.56515007\n",
            "  0.57926771 0.52272346 0.22808764 0.36109446 0.03722653 0.12311027\n",
            "  0.46928148 0.23446557 0.7784399  0.81508835 0.66615708 0.1927398\n",
            "  0.76263436 0.09288062 0.50289898 0.35099742 0.50563689 0.37444616\n",
            "  0.17155962 0.51150333 0.49022601 0.57544741 0.53166196 0.6954454\n",
            "  0.12768295 0.41295027 0.66627802 0.2780279  0.51221257 0.26082997\n",
            "  0.64594883 0.27115348 0.13981703 0.51924468 0.16857758 0.\n",
            "  0.11689744 0.72166871 0.54715867 0.58707632 0.17870647 0.47644373\n",
            "  0.85168358 0.77833195 0.07560771 0.74942281]\n",
            " [0.33410046 0.06885423 0.04310184 0.58477254 0.45125708 0.560147\n",
            "  0.42264338 0.34920231 0.83744518 0.19510889 0.76370604 0.34982824\n",
            "  0.68152172 0.7446948  0.42613791 0.30000663 0.22805108 0.4297774\n",
            "  0.63259251 0.17762629 0.80182391 0.24991152 0.20439609 0.66940167\n",
            "  0.21595673 0.44406391 0.79315769 0.26654277 0.38043674 0.7417873\n",
            "  0.56408084 0.17674243 0.50925533 0.5473244  0.74215713 0.55328141\n",
            "  0.17892371 0.40495672 0.12230344 0.55689942 0.81550832 0.13827182\n",
            "  0.42097476 0.47837185 0.4394396  0.34164591 0.51148622 0.15489198\n",
            "  0.41943816 0.6488508  0.44034776 0.7507271  0.68595093 0.44836247\n",
            "  0.59581016 0.40933705 0.11133465 0.47476479 0.08371779 0.23828653\n",
            "  0.56069974 0.11783617 0.76871104 0.82025694 0.72598507 0.17182702\n",
            "  0.85667984 0.17379513 0.42704479 0.23472769 0.53307008 0.48558829\n",
            "  0.26705601 0.43090369 0.45349694 0.49149674 0.41500055 0.68736303\n",
            "  0.2103146  0.48339654 0.76964848 0.16744454 0.44500143 0.35553587\n",
            "  0.7258121  0.15825532 0.04869375 0.44039347 0.2436287  0.11689744\n",
            "  0.         0.6919117  0.53593189 0.5973237  0.24680719 0.35955718\n",
            "  0.94787369 0.76715771 0.11793868 0.84156904]\n",
            " [0.36333165 0.66057898 0.73313951 0.89365939 1.07910935 0.22435241\n",
            "  0.31301449 0.50396551 0.1462719  0.54600906 0.89588537 0.44292646\n",
            "  0.67910738 0.67665342 1.05192806 0.58912625 0.91906713 0.27461904\n",
            "  0.76855573 0.84928595 0.14017406 0.6015503  0.50573534 0.47104163\n",
            "  0.48737877 1.05762387 0.51737211 0.48759105 0.46768962 0.10684614\n",
            "  0.57489721 0.83523659 1.12891947 0.82851391 0.47645682 0.1495154\n",
            "  0.75460481 0.84033239 0.81386584 0.48723115 0.73954894 0.69545867\n",
            "  0.71186035 0.48248668 0.63641178 0.67039102 1.10353225 0.61705292\n",
            "  0.28894771 0.78734828 0.91387423 0.90744663 0.90910153 0.7356996\n",
            "  0.28229873 0.63045055 0.68916298 0.82796079 0.69742607 0.74373959\n",
            "  0.68610589 0.6699323  0.14494446 0.25404809 0.54290625 0.53209009\n",
            "  0.85537865 0.81449492 0.35193416 0.71953676 0.35115682 0.80510477\n",
            "  0.87969661 0.3719286  0.23875915 0.37247558 0.71397824 0.13225535\n",
            "  0.64295588 0.55601246 0.88562251 0.61225846 0.30762982 0.96002791\n",
            "  0.67359544 0.73525511 0.64371001 0.35955945 0.88931152 0.72166871\n",
            "  0.6919117  0.         0.19355799 0.25021068 0.59787063 0.71623085\n",
            "  0.93605169 0.13643623 0.64608123 0.82973674]\n",
            " [0.24268044 0.51781602 0.57425574 0.70355326 0.89446092 0.0620071\n",
            "  0.25498254 0.44071647 0.32206951 0.4264827  0.7241778  0.25100695\n",
            "  0.51700996 0.5290458  0.86739109 0.5094203  0.75724117 0.19351211\n",
            "  0.59002386 0.7054143  0.27000379 0.41269403 0.33632947 0.33427323\n",
            "  0.32124011 0.87139539 0.41782697 0.38651573 0.27413206 0.20891385\n",
            "  0.39961673 0.66216234 0.94251111 0.63857365 0.36661718 0.05606216\n",
            "  0.57355642 0.64704219 0.65767105 0.31565691 0.59929341 0.51753837\n",
            "  0.65775243 0.29643161 0.44498086 0.59840648 0.91446694 0.49394981\n",
            "  0.20868285 0.60950619 0.72079553 0.73273133 0.72643611 0.6860295\n",
            "  0.14178333 0.58250366 0.55635897 0.634935   0.52717634 0.55644062\n",
            "  0.5038774  0.53904078 0.23312344 0.29249347 0.41264268 0.36653377\n",
            "  0.70563592 0.63889752 0.31072005 0.61412538 0.17723137 0.61277543\n",
            "  0.69723974 0.33669983 0.13271687 0.37079035 0.65787806 0.1514458\n",
            "  0.45711009 0.36961214 0.71590898 0.49248064 0.26736307 0.77445072\n",
            "  0.5219002  0.60959695 0.49004568 0.32826779 0.71170747 0.54715867\n",
            "  0.53593189 0.19355799 0.         0.11582721 0.40936591 0.64426603\n",
            "  0.79281663 0.23214081 0.47209501 0.68074646]\n",
            " [0.34195624 0.59062665 0.63174547 0.6583522  0.91003698 0.05478499\n",
            "  0.36890369 0.54941532 0.34049906 0.51650921 0.64589945 0.26667666\n",
            "  0.42909552 0.43041433 0.88353662 0.61257911 0.8076978  0.30667778\n",
            "  0.52093821 0.77282277 0.26556952 0.42895903 0.3929287  0.22790815\n",
            "  0.38273576 0.88367616 0.30259881 0.4859211  0.26793587 0.21040052\n",
            "  0.32703066 0.70107533 0.95355734 0.59343402 0.25231338 0.16185232\n",
            "  0.60213991 0.63373898 0.71565424 0.23882933 0.49697076 0.55323466\n",
            "  0.76541459 0.24741849 0.40903346 0.70228864 0.91865652 0.57986801\n",
            "  0.32127117 0.53931336 0.70866047 0.65800285 0.66346831 0.7943911\n",
            "  0.03231486 0.69223084 0.6348226  0.60516284 0.57348455 0.57188784\n",
            "  0.4415753  0.61916642 0.21568599 0.22828807 0.30446397 0.42564338\n",
            "  0.60901315 0.67474379 0.42518118 0.70580145 0.11040014 0.57830394\n",
            "  0.72027837 0.45130471 0.24572741 0.48661355 0.76508643 0.14139207\n",
            "  0.47965721 0.31879267 0.63546197 0.58019624 0.38255067 0.78958754\n",
            "  0.42586646 0.69109477 0.55506955 0.443271   0.74293295 0.58707632\n",
            "  0.5973237  0.25021068 0.11582721 0.         0.42688964 0.74752696\n",
            "  0.69275088 0.21956136 0.51542223 0.58358458]\n",
            " [0.32183661 0.28578691 0.26114341 0.3932161  0.4863583  0.40738548\n",
            "  0.42964987 0.46737388 0.73143455 0.32425577 0.53451347 0.16185352\n",
            "  0.4348478  0.49805087 0.45946158 0.46328904 0.40366695 0.40072574\n",
            "  0.39604881 0.41311105 0.67460577 0.00535217 0.14925257 0.43995053\n",
            "  0.16891834 0.46231634 0.56306926 0.36319939 0.16447726 0.61380979\n",
            "  0.31859459 0.28377591 0.53331133 0.34084152 0.51540466 0.44837911\n",
            "  0.17753677 0.26265865 0.33489278 0.32202255 0.56870634 0.14057492\n",
            "  0.61614348 0.24541334 0.19591354 0.53432879 0.50569765 0.33892201\n",
            "  0.39910578 0.4138415  0.32948345 0.52579324 0.47338511 0.64656892\n",
            "  0.41448272 0.57848615 0.34125224 0.29092149 0.18191977 0.14732771\n",
            "  0.31783385 0.33741396 0.6311678  0.65442735 0.48839915 0.156597\n",
            "  0.6134981  0.25473982 0.46401157 0.45915673 0.33537728 0.28695086\n",
            "  0.29342263 0.48080065 0.38924856 0.54608601 0.61173019 0.54858767\n",
            "  0.05429425 0.23837515 0.53780787 0.3483111  0.45689777 0.36593017\n",
            "  0.47907189 0.39761269 0.23100446 0.48444455 0.3179105  0.17870647\n",
            "  0.24680719 0.59787063 0.40936591 0.42688964 0.         0.56520999\n",
            "  0.70590552 0.63246166 0.12965592 0.59728335]\n",
            " [0.40562064 0.29512985 0.38199497 0.93897393 0.76368833 0.6953225\n",
            "  0.40657117 0.21237895 0.852637   0.25469383 1.09971643 0.588889\n",
            "  0.97948781 1.03092481 0.74284693 0.13502257 0.47840787 0.45848801\n",
            "  0.96045656 0.34271427 0.85370545 0.56988753 0.4422208  0.90218634\n",
            "  0.43397621 0.76670518 1.01747342 0.26274525 0.63684323 0.80463617\n",
            "  0.84879079 0.50908305 0.82159458 0.89622349 0.96297524 0.62851597\n",
            "  0.53834861 0.7639233  0.3923145  0.8119492  1.10618195 0.49429217\n",
            "  0.06669465 0.73912063 0.7580485  0.04628595 0.83954387 0.22641155\n",
            "  0.44257523 0.97862682 0.79930622 1.09049207 1.03331858 0.08978604\n",
            "  0.76127552 0.11211699 0.24883028 0.82935173 0.4420952  0.59646574\n",
            "  0.87844774 0.2422792  0.84097945 0.92785626 0.97354007 0.41888532\n",
            "  1.16967803 0.51850899 0.3643704  0.13151142 0.73310166 0.8364103\n",
            "  0.6105924  0.34576648 0.51511403 0.36501568 0.05954618 0.7756526\n",
            "  0.54787554 0.7714728  1.10289966 0.21692215 0.40875583 0.69227347\n",
            "  1.01459254 0.21877214 0.34688024 0.35856053 0.5722924  0.47644373\n",
            "  0.35955718 0.71623085 0.64426603 0.74752696 0.56520999 0.\n",
            "  1.26347409 0.83549952 0.45782296 1.15104449]\n",
            " [0.92027055 0.99166591 0.95258696 0.45246821 0.92296509 0.73532076\n",
            "  1.00026696 1.12479887 0.98244857 1.01123101 0.22111758 0.68780976\n",
            "  0.29054876 0.26377324 0.90853533 1.1475569  1.03632699 0.94243992\n",
            "  0.31828999 1.09547699 0.89495803 0.70192841 0.8219941  0.46568264\n",
            "  0.83231911 0.88747071 0.44016867 1.02724214 0.63653273 0.86325997\n",
            "  0.42443366 0.91064273 0.92723612 0.44510591 0.46685602 0.84731506\n",
            "  0.81032834 0.6250715  1.00957221 0.48837373 0.19650275 0.81766046\n",
            "  1.30788061 0.54298447 0.51002254 1.22803252 0.86505466 1.04008326\n",
            "  0.9519352  0.30474768 0.6586811  0.2485342  0.33621657 1.33892577\n",
            "  0.66080945 1.25701258 1.04707529 0.53166032 0.87128794 0.73998972\n",
            "  0.38809055 1.04320587 0.84526118 0.76727597 0.39357964 0.84460856\n",
            "  0.09411985 0.88096074 1.05420438 1.16441976 0.6185698  0.50293806\n",
            "  0.84531928 1.07900737 0.89107478 1.13234759 1.30444202 0.80783885\n",
            "  0.73756376 0.49538455 0.20526627 1.0481669  1.02281901 0.84474025\n",
            "  0.27203346 1.10276545 0.93679038 1.07580424 0.89869418 0.85168358\n",
            "  0.94787369 0.93605169 0.79281663 0.69275088 0.70590552 1.26347409\n",
            "  0.         0.85378884 0.83044608 0.11545247]\n",
            " [0.45673511 0.74563199 0.80598285 0.87557795 1.11876733 0.22545428\n",
            "  0.42892872 0.62360318 0.13036505 0.64376578 0.84308792 0.47075011\n",
            "  0.62056884 0.60434878 1.09190718 0.70452911 0.98934686 0.38024078\n",
            "  0.72821226 0.93431306 0.04649538 0.63522893 0.56846981 0.40096926\n",
            "  0.55321213 1.09403116 0.41893493 0.59311035 0.481508   0.03133594\n",
            "  0.53647401 0.89341405 1.16464477 0.81096268 0.3869395  0.21813192\n",
            "  0.80204054 0.85196596 0.88916951 0.44913287 0.65917245 0.74776426\n",
            "  0.83639725 0.46660335 0.62852711 0.78927173 1.13260979 0.71369576\n",
            "  0.3958675  0.74548029 0.92683446 0.85851572 0.87294473 0.86155902\n",
            "  0.24514259 0.75592997 0.78080004 0.82470405 0.75911174 0.77958946\n",
            "  0.65419157 0.76259226 0.00963408 0.11994743 0.46290384 0.59855312\n",
            "  0.78010616 0.86952111 0.4743319  0.82583723 0.3297471  0.797623\n",
            "  0.92422236 0.49648249 0.3309568  0.50402652 0.83799007 0.0838742\n",
            "  0.68278179 0.53701165 0.83047923 0.71062018 0.42856986 0.99826833\n",
            "  0.60503141 0.83136709 0.72068506 0.48473169 0.94138958 0.77833195\n",
            "  0.76715771 0.13643623 0.23214081 0.21956136 0.63246166 0.83549952\n",
            "  0.85378884 0.         0.70358928 0.75435205]\n",
            " [0.31412904 0.16575738 0.13239673 0.48142817 0.44202392 0.48531166\n",
            "  0.41762399 0.39941155 0.78791287 0.24237984 0.64946499 0.25366129\n",
            "  0.5638179  0.62765545 0.41502444 0.3736214  0.29276643 0.40728677\n",
            "  0.51614261 0.28480329 0.74207491 0.1324596  0.14081007 0.56188816\n",
            "  0.16055059 0.42591455 0.68568337 0.30031028 0.27552773 0.68100746\n",
            "  0.44807467 0.1901591  0.49623869 0.43878618 0.63616923 0.49964651\n",
            "  0.11894134 0.31410311 0.21028017 0.44641925 0.69799114 0.05522075\n",
            "  0.5143786  0.36832928 0.32155058 0.43263621 0.48373156 0.23447269\n",
            "  0.40071309 0.53279917 0.36297169 0.63771943 0.57655045 0.54363504\n",
            "  0.50912451 0.48876327 0.21956466 0.37216712 0.05869978 0.14922225\n",
            "  0.44295206 0.21934159 0.70385197 0.74289035 0.61460619 0.11906715\n",
            "  0.73899809 0.16841761 0.43737595 0.34178171 0.4384341  0.37860855\n",
            "  0.24151354 0.44801071 0.41526647 0.51296101 0.50915929 0.62093849\n",
            "  0.09352985 0.36764742 0.65466073 0.2457589  0.44336998 0.32894579\n",
            "  0.60861318 0.27295036 0.11149026 0.45485328 0.24368212 0.07560771\n",
            "  0.11793868 0.64608123 0.47209501 0.51542223 0.12965592 0.45782296\n",
            "  0.83044608 0.70358928 0.         0.72372281]\n",
            " [0.80483918 0.8828822  0.84854877 0.38667698 0.85240827 0.62427789\n",
            "  0.88503252 1.00979645 0.88415398 0.89806053 0.17398915 0.57286372\n",
            "  0.175192   0.15323306 0.83568488 1.03376728 0.94249744 0.82743376\n",
            "  0.2230262  0.99411032 0.79698283 0.59353168 0.70904657 0.35879297\n",
            "  0.71880832 0.81690903 0.35149326 0.91268923 0.52170105 0.76169804\n",
            "  0.30912983 0.81530872 0.86278782 0.36546429 0.36978714 0.7357006\n",
            "  0.71160783 0.54149536 0.90898699 0.37353781 0.09867324 0.71429357\n",
            "  1.19447219 0.42755927 0.40219452 1.11498786 0.80251518 0.92868704\n",
            "  0.83679455 0.21381845 0.58411867 0.20383532 0.28315167 1.2255421\n",
            "  0.55140659 1.14263008 0.93841386 0.44950336 0.76697007 0.64206613\n",
            "  0.28103076 0.93378887 0.74617851 0.67516463 0.29144821 0.73244977\n",
            "  0.02577477 0.7849967  0.93885806 1.05430678 0.50536106 0.41768035\n",
            "  0.75684856 0.96362284 0.77654877 1.01718404 1.19115003 0.70362496\n",
            "  0.63169874 0.38115114 0.15423127 0.93647716 0.90771279 0.76510116\n",
            "  0.15884656 0.99486283 0.82824303 0.96047753 0.8086935  0.74942281\n",
            "  0.84156904 0.82973674 0.68074646 0.58358458 0.59728335 1.15104449\n",
            "  0.11545247 0.75435205 0.72372281 0.        ]]\n"
          ]
        }
      ],
      "source": [
        "import scipy\n",
        "import scipy.spatial\n",
        "\n",
        "arr = np.random.random((100,2))\n",
        "distance = scipy.spatial.distance.cdist(arr,arr)\n",
        "print(distance)"
      ]
    },
    {
      "cell_type": "markdown",
      "id": "343c5a85",
      "metadata": {
        "id": "343c5a85"
      },
      "source": [
        "#### 53. How to convert a float (32 bits) array into an integer (32 bits) in place?"
      ]
    },
    {
      "cell_type": "code",
      "execution_count": null,
      "id": "fc1b687b",
      "metadata": {
        "id": "fc1b687b",
        "colab": {
          "base_uri": "https://localhost:8080/"
        },
        "outputId": "b8506749-194f-4e4b-bcc1-d3f6cf844139"
      },
      "outputs": [
        {
          "output_type": "stream",
          "name": "stdout",
          "text": [
            "[0 1 2 3 4 5 6 7 8 9]\n"
          ]
        }
      ],
      "source": [
        "arr = np.arange(10, dtype=np.float32)\n",
        "arr = arr.astype(np.int32)\n",
        "print(arr)"
      ]
    },
    {
      "cell_type": "markdown",
      "id": "a69e1ace",
      "metadata": {
        "id": "a69e1ace"
      },
      "source": [
        "#### 54. How to read the following file? (★★☆)\n",
        "```\n",
        "1, 2, 3, 4, 5\n",
        "6,  ,  , 7, 8\n",
        " ,  , 9,10,11\n",
        "```"
      ]
    },
    {
      "cell_type": "code",
      "execution_count": null,
      "id": "1c7957d4",
      "metadata": {
        "id": "1c7957d4",
        "colab": {
          "base_uri": "https://localhost:8080/"
        },
        "outputId": "0e9064f4-4a9f-4c35-a022-35a049a94c71"
      },
      "outputs": [
        {
          "output_type": "stream",
          "name": "stderr",
          "text": [
            "<ipython-input-19-cae4b0f84bea>:7: DeprecationWarning: `np.int` is a deprecated alias for the builtin `int`. To silence this warning, use `int` by itself. Doing this will not modify any behavior and is safe. When replacing `np.int`, you may wish to use e.g. `np.int64` or `np.int32` to specify the precision. If you wish to review your current use, check the release note link for additional information.\n",
            "Deprecated in NumPy 1.20; for more details and guidance: https://numpy.org/devdocs/release/1.20.0-notes.html#deprecations\n",
            "  read = np.genfromtxt(file_data, delimiter=',', dtype=np.int)\n"
          ]
        },
        {
          "output_type": "execute_result",
          "data": {
            "text/plain": [
              "array([[ 1,  2,  3,  4,  5],\n",
              "       [ 6, -1, -1,  7,  8],\n",
              "       [-1, -1,  9, 10, 11]])"
            ]
          },
          "metadata": {},
          "execution_count": 19
        }
      ],
      "source": [
        "from io import StringIO\n",
        "\n",
        "file_data = StringIO(\"\"\"1, 2, 3, 4, 5\\n\n",
        "                        6,  ,  , 7, 8\\n\n",
        "                         ,  , 9,10,11\\n\"\"\")\n",
        "\n",
        "read = np.genfromtxt(file_data, delimiter=',', dtype=np.int)\n",
        "read"
      ]
    },
    {
      "cell_type": "markdown",
      "id": "c23bd80d",
      "metadata": {
        "id": "c23bd80d"
      },
      "source": [
        "#### 55. What is the equivalent of enumerate for numpy arrays? (★★☆)"
      ]
    },
    {
      "cell_type": "code",
      "execution_count": null,
      "id": "d95d9578",
      "metadata": {
        "id": "d95d9578",
        "colab": {
          "base_uri": "https://localhost:8080/"
        },
        "outputId": "d5fbec13-1f15-4f78-f9cf-4716bd6c460d"
      },
      "outputs": [
        {
          "output_type": "stream",
          "name": "stdout",
          "text": [
            "(0, 0) 0\n",
            "(0, 1) 1\n",
            "(0, 2) 2\n",
            "(0, 3) 3\n",
            "(1, 0) 4\n",
            "(1, 1) 5\n",
            "(1, 2) 6\n",
            "(1, 3) 7\n",
            "(2, 0) 8\n",
            "(2, 1) 9\n",
            "(2, 2) 10\n",
            "(2, 3) 11\n",
            "\n",
            "===================================================\n",
            "\n",
            "(0, 0) 0\n",
            "(0, 1) 1\n",
            "(0, 2) 2\n",
            "(0, 3) 3\n",
            "(1, 0) 4\n",
            "(1, 1) 5\n",
            "(1, 2) 6\n",
            "(1, 3) 7\n",
            "(2, 0) 8\n",
            "(2, 1) 9\n",
            "(2, 2) 10\n",
            "(2, 3) 11\n"
          ]
        }
      ],
      "source": [
        "arr = np.arange(12).reshape(3,4)\n",
        "\n",
        "for index, value in np.ndenumerate(arr):\n",
        "    print(index, value)\n",
        "\n",
        "print()\n",
        "print(\"===================================================\")\n",
        "print()\n",
        "\n",
        "for index in np.ndindex(arr.shape):\n",
        "    print(index, arr[index])"
      ]
    },
    {
      "cell_type": "markdown",
      "id": "2153a5ec",
      "metadata": {
        "id": "2153a5ec"
      },
      "source": [
        "#### 56. Generate a generic 2D Gaussian-like array (★★☆)"
      ]
    },
    {
      "cell_type": "code",
      "execution_count": 3,
      "id": "61122d1e",
      "metadata": {
        "id": "61122d1e",
        "colab": {
          "base_uri": "https://localhost:8080/"
        },
        "outputId": "e0b56d3b-f04b-4fa6-8f5a-7306735eca7e"
      },
      "outputs": [
        {
          "output_type": "stream",
          "name": "stdout",
          "text": [
            "[[0.36787944 0.44822088 0.51979489 0.57375342 0.60279818 0.60279818\n",
            "  0.57375342 0.51979489 0.44822088 0.36787944]\n",
            " [0.44822088 0.54610814 0.63331324 0.69905581 0.73444367 0.73444367\n",
            "  0.69905581 0.63331324 0.54610814 0.44822088]\n",
            " [0.51979489 0.63331324 0.73444367 0.81068432 0.85172308 0.85172308\n",
            "  0.81068432 0.73444367 0.63331324 0.51979489]\n",
            " [0.57375342 0.69905581 0.81068432 0.89483932 0.9401382  0.9401382\n",
            "  0.89483932 0.81068432 0.69905581 0.57375342]\n",
            " [0.60279818 0.73444367 0.85172308 0.9401382  0.98773022 0.98773022\n",
            "  0.9401382  0.85172308 0.73444367 0.60279818]\n",
            " [0.60279818 0.73444367 0.85172308 0.9401382  0.98773022 0.98773022\n",
            "  0.9401382  0.85172308 0.73444367 0.60279818]\n",
            " [0.57375342 0.69905581 0.81068432 0.89483932 0.9401382  0.9401382\n",
            "  0.89483932 0.81068432 0.69905581 0.57375342]\n",
            " [0.51979489 0.63331324 0.73444367 0.81068432 0.85172308 0.85172308\n",
            "  0.81068432 0.73444367 0.63331324 0.51979489]\n",
            " [0.44822088 0.54610814 0.63331324 0.69905581 0.73444367 0.73444367\n",
            "  0.69905581 0.63331324 0.54610814 0.44822088]\n",
            " [0.36787944 0.44822088 0.51979489 0.57375342 0.60279818 0.60279818\n",
            "  0.57375342 0.51979489 0.44822088 0.36787944]]\n"
          ]
        }
      ],
      "source": [
        "X, Y = np.meshgrid(np.linspace(-1,1,10), np.linspace(-1,1,10))\n",
        "D = np.sqrt(X*X+Y*Y)\n",
        "sigma, mu = 1.0, 0.0\n",
        "G = np.exp(-( (D-mu)**2 / ( 2.0 * sigma**2 ) ) )\n",
        "print(G)"
      ]
    },
    {
      "cell_type": "markdown",
      "id": "2e76d589",
      "metadata": {
        "id": "2e76d589"
      },
      "source": [
        "#### 57. How to randomly place p elements in a 2D array? (★★☆)"
      ]
    },
    {
      "cell_type": "code",
      "execution_count": 5,
      "id": "0c2e4fcc",
      "metadata": {
        "id": "0c2e4fcc",
        "colab": {
          "base_uri": "https://localhost:8080/"
        },
        "outputId": "7928a926-5ca2-48e6-be1d-ceb90f934ba0"
      },
      "outputs": [
        {
          "output_type": "stream",
          "name": "stdout",
          "text": [
            "[[0. 0. 0. 0. 0. 0. 1. 0. 0. 0.]\n",
            " [0. 0. 0. 0. 0. 0. 0. 0. 0. 0.]\n",
            " [0. 0. 0. 0. 0. 0. 0. 0. 0. 0.]\n",
            " [0. 0. 0. 0. 0. 0. 0. 0. 0. 0.]\n",
            " [0. 0. 0. 0. 0. 0. 0. 0. 1. 0.]\n",
            " [0. 0. 0. 0. 0. 0. 0. 0. 0. 0.]\n",
            " [0. 0. 0. 0. 0. 0. 0. 0. 0. 0.]\n",
            " [0. 0. 0. 0. 0. 0. 0. 0. 0. 0.]\n",
            " [0. 0. 0. 0. 1. 0. 0. 0. 0. 0.]\n",
            " [0. 0. 0. 0. 0. 0. 0. 0. 0. 0.]]\n"
          ]
        }
      ],
      "source": [
        "n = 10\n",
        "p = 3\n",
        "arr = np.zeros((n,n))\n",
        "np.put(arr, np.random.choice(range(n*n), p, replace=False),1)\n",
        "print(arr)"
      ]
    },
    {
      "cell_type": "markdown",
      "id": "8b3933eb",
      "metadata": {
        "id": "8b3933eb"
      },
      "source": [
        "#### 58. Subtract the mean of each row of a matrix (★★☆)"
      ]
    },
    {
      "cell_type": "code",
      "execution_count": 6,
      "id": "a306c9ef",
      "metadata": {
        "id": "a306c9ef",
        "colab": {
          "base_uri": "https://localhost:8080/"
        },
        "outputId": "d4ad472d-e572-4869-9ceb-b59dddde8b57"
      },
      "outputs": [
        {
          "output_type": "stream",
          "name": "stdout",
          "text": [
            "[[ 0.29983445  0.11055293 -0.20531123 -0.06769068 -0.2619028   0.14487264\n",
            "  -0.09162424 -0.14176287  0.20723435  0.00579747]\n",
            " [ 0.03982301  0.42065252  0.06259587 -0.49304538  0.17992779  0.22144731\n",
            "  -0.34677975  0.10975916 -0.15823633 -0.03614421]\n",
            " [ 0.31425988  0.31341864 -0.4756604   0.38489319  0.24061964 -0.5711209\n",
            "  -0.26923691  0.02250737  0.03719402  0.00312546]\n",
            " [-0.02255828 -0.0574975   0.06854055  0.4121472  -0.3288596   0.29003165\n",
            "  -0.24531831  0.11101861  0.08273726 -0.31024159]\n",
            " [ 0.35210872 -0.12030329  0.42350945 -0.2893228  -0.27313674 -0.10793454\n",
            "  -0.43259962 -0.22201711  0.3920137   0.27768223]]\n"
          ]
        }
      ],
      "source": [
        "arr = np.random.rand(5, 10)\n",
        "newarr = arr - arr.mean(axis=1).reshape(-1, 1)\n",
        "\n",
        "print(newarr)"
      ]
    },
    {
      "cell_type": "markdown",
      "id": "ea8807c0",
      "metadata": {
        "id": "ea8807c0"
      },
      "source": [
        "#### 59. How to sort an array by the nth column? (★★☆)"
      ]
    },
    {
      "cell_type": "code",
      "execution_count": 7,
      "id": "cc89a699",
      "metadata": {
        "id": "cc89a699",
        "colab": {
          "base_uri": "https://localhost:8080/"
        },
        "outputId": "710313e2-ffb8-400a-d531-630031305056"
      },
      "outputs": [
        {
          "output_type": "stream",
          "name": "stdout",
          "text": [
            "[[4 1 5]\n",
            " [9 1 2]\n",
            " [7 7 2]]\n",
            "[[4 1 5]\n",
            " [9 1 2]\n",
            " [7 7 2]]\n"
          ]
        }
      ],
      "source": [
        "arr = np.random.randint(0,10,(3,3))\n",
        "print(arr)\n",
        "print(arr[arr[:,1].argsort()])"
      ]
    },
    {
      "cell_type": "markdown",
      "id": "00fa00a1",
      "metadata": {
        "id": "00fa00a1"
      },
      "source": [
        "#### 60. How to tell if a given 2D array has null columns? (★★☆)"
      ]
    },
    {
      "cell_type": "code",
      "execution_count": 9,
      "id": "3436e165",
      "metadata": {
        "id": "3436e165",
        "colab": {
          "base_uri": "https://localhost:8080/"
        },
        "outputId": "4204a2aa-003c-4144-e1c5-cc1e21e924b1"
      },
      "outputs": [
        {
          "output_type": "stream",
          "name": "stdout",
          "text": [
            "False\n"
          ]
        }
      ],
      "source": [
        "arr = np.random.randint(0,3,(3,10))\n",
        "print((~arr.any(axis=0)).any())"
      ]
    },
    {
      "cell_type": "markdown",
      "id": "5a65c7a2",
      "metadata": {
        "id": "5a65c7a2"
      },
      "source": [
        "#### 61. Find the nearest value from a given value in an array (★★☆)"
      ]
    },
    {
      "cell_type": "code",
      "execution_count": null,
      "id": "73f149d6",
      "metadata": {
        "id": "73f149d6"
      },
      "outputs": [],
      "source": []
    },
    {
      "cell_type": "markdown",
      "id": "dd83e8af",
      "metadata": {
        "id": "dd83e8af"
      },
      "source": [
        "#### 62. Considering two arrays with shape (1,3) and (3,1), how to compute their sum using an iterator? (★★☆)"
      ]
    },
    {
      "cell_type": "code",
      "execution_count": null,
      "id": "29a709a1",
      "metadata": {
        "id": "29a709a1"
      },
      "outputs": [],
      "source": []
    },
    {
      "cell_type": "markdown",
      "id": "6c042efa",
      "metadata": {
        "id": "6c042efa"
      },
      "source": [
        "#### 63. Create an array class that has a name attribute (★★☆)"
      ]
    },
    {
      "cell_type": "code",
      "execution_count": null,
      "id": "45b3d2e0",
      "metadata": {
        "id": "45b3d2e0"
      },
      "outputs": [],
      "source": []
    },
    {
      "cell_type": "markdown",
      "id": "0a075c3d",
      "metadata": {
        "id": "0a075c3d"
      },
      "source": [
        "#### 64. Consider a given vector, how to add 1 to each element indexed by a second vector (be careful with repeated indices)? (★★★)"
      ]
    },
    {
      "cell_type": "code",
      "execution_count": null,
      "id": "36c50470",
      "metadata": {
        "id": "36c50470"
      },
      "outputs": [],
      "source": []
    },
    {
      "cell_type": "markdown",
      "id": "0fb2f0c5",
      "metadata": {
        "id": "0fb2f0c5"
      },
      "source": [
        "#### 65. How to accumulate elements of a vector (X) to an array (F) based on an index list (I)? (★★★)"
      ]
    },
    {
      "cell_type": "code",
      "execution_count": null,
      "id": "58aa5f82",
      "metadata": {
        "id": "58aa5f82"
      },
      "outputs": [],
      "source": []
    },
    {
      "cell_type": "markdown",
      "id": "d89dc506",
      "metadata": {
        "id": "d89dc506"
      },
      "source": [
        "#### 66. Considering a (w,h,3) image of (dtype=ubyte), compute the number of unique colors (★★☆)"
      ]
    },
    {
      "cell_type": "code",
      "execution_count": null,
      "id": "8fb43a49",
      "metadata": {
        "id": "8fb43a49"
      },
      "outputs": [],
      "source": []
    },
    {
      "cell_type": "markdown",
      "id": "535a5d81",
      "metadata": {
        "id": "535a5d81"
      },
      "source": [
        "#### 67. Considering a four dimensions array, how to get sum over the last two axis at once? (★★★)"
      ]
    },
    {
      "cell_type": "code",
      "execution_count": null,
      "id": "f954ab9d",
      "metadata": {
        "id": "f954ab9d"
      },
      "outputs": [],
      "source": []
    },
    {
      "cell_type": "markdown",
      "id": "eee66d3c",
      "metadata": {
        "id": "eee66d3c"
      },
      "source": [
        "#### 68. Considering a one-dimensional vector D, how to compute means of subsets of D using a vector S of same size describing subset  indices? (★★★)"
      ]
    },
    {
      "cell_type": "code",
      "execution_count": null,
      "id": "8929773a",
      "metadata": {
        "id": "8929773a"
      },
      "outputs": [],
      "source": []
    },
    {
      "cell_type": "markdown",
      "id": "f90d4c40",
      "metadata": {
        "id": "f90d4c40"
      },
      "source": [
        "#### 69. How to get the diagonal of a dot product? (★★★)"
      ]
    },
    {
      "cell_type": "code",
      "execution_count": null,
      "id": "b47d392d",
      "metadata": {
        "id": "b47d392d"
      },
      "outputs": [],
      "source": []
    },
    {
      "cell_type": "markdown",
      "id": "a8a97e7d",
      "metadata": {
        "id": "a8a97e7d"
      },
      "source": [
        "#### 70. Consider the vector [1, 2, 3, 4, 5], how to build a new vector with 3 consecutive zeros interleaved between each value? (★★★)"
      ]
    },
    {
      "cell_type": "code",
      "execution_count": null,
      "id": "ee6c6c37",
      "metadata": {
        "id": "ee6c6c37"
      },
      "outputs": [],
      "source": []
    },
    {
      "cell_type": "markdown",
      "id": "d6a30d60",
      "metadata": {
        "id": "d6a30d60"
      },
      "source": [
        "#### 71. Consider an array of dimension (5,5,3), how to mulitply it by an array with dimensions (5,5)? (★★★)"
      ]
    },
    {
      "cell_type": "code",
      "execution_count": null,
      "id": "e9703f2e",
      "metadata": {
        "id": "e9703f2e"
      },
      "outputs": [],
      "source": []
    },
    {
      "cell_type": "markdown",
      "id": "bac359a9",
      "metadata": {
        "id": "bac359a9"
      },
      "source": [
        "#### 72. How to swap two rows of an array? (★★★)"
      ]
    },
    {
      "cell_type": "code",
      "execution_count": null,
      "id": "f1b432b1",
      "metadata": {
        "id": "f1b432b1"
      },
      "outputs": [],
      "source": []
    },
    {
      "cell_type": "markdown",
      "id": "620c9f83",
      "metadata": {
        "id": "620c9f83"
      },
      "source": [
        "#### 73. Consider a set of 10 triplets describing 10 triangles (with shared vertices), find the set of unique line segments composing all the  triangles (★★★)"
      ]
    },
    {
      "cell_type": "code",
      "execution_count": null,
      "id": "4e595ffc",
      "metadata": {
        "id": "4e595ffc"
      },
      "outputs": [],
      "source": []
    },
    {
      "cell_type": "markdown",
      "id": "a76c55a2",
      "metadata": {
        "id": "a76c55a2"
      },
      "source": [
        "#### 74. Given a sorted array C that corresponds to a bincount, how to produce an array A such that np.bincount(A) == C? (★★★)"
      ]
    },
    {
      "cell_type": "code",
      "execution_count": null,
      "id": "2d2ae65a",
      "metadata": {
        "id": "2d2ae65a"
      },
      "outputs": [],
      "source": []
    },
    {
      "cell_type": "markdown",
      "id": "d550c8e2",
      "metadata": {
        "id": "d550c8e2"
      },
      "source": [
        "#### 75. How to compute averages using a sliding window over an array? (★★★)"
      ]
    },
    {
      "cell_type": "code",
      "execution_count": null,
      "id": "841c457c",
      "metadata": {
        "id": "841c457c"
      },
      "outputs": [],
      "source": []
    },
    {
      "cell_type": "markdown",
      "id": "6b170b00",
      "metadata": {
        "id": "6b170b00"
      },
      "source": [
        "#### 76. Consider a one-dimensional array Z, build a two-dimensional array whose first row is (Z[0],Z[1],Z[2]) and each subsequent row is  shifted by 1 (last row should be (Z[-3],Z[-2],Z[-1]) (★★★)"
      ]
    },
    {
      "cell_type": "code",
      "execution_count": null,
      "id": "d9a0cf4e",
      "metadata": {
        "id": "d9a0cf4e"
      },
      "outputs": [],
      "source": []
    },
    {
      "cell_type": "markdown",
      "id": "e94a5c1d",
      "metadata": {
        "id": "e94a5c1d"
      },
      "source": [
        "#### 77. How to negate a boolean, or to change the sign of a float inplace? (★★★)"
      ]
    },
    {
      "cell_type": "code",
      "execution_count": null,
      "id": "c0f9504f",
      "metadata": {
        "id": "c0f9504f"
      },
      "outputs": [],
      "source": []
    },
    {
      "cell_type": "markdown",
      "id": "4eb8b5c1",
      "metadata": {
        "id": "4eb8b5c1"
      },
      "source": [
        "#### 78. Consider 2 sets of points P0,P1 describing lines (2d) and a point p, how to compute distance from p to each line i (P0[i],P1[i])? (★★★)"
      ]
    },
    {
      "cell_type": "code",
      "execution_count": null,
      "id": "487f47ec",
      "metadata": {
        "id": "487f47ec"
      },
      "outputs": [],
      "source": []
    },
    {
      "cell_type": "markdown",
      "id": "3df99948",
      "metadata": {
        "id": "3df99948"
      },
      "source": [
        "#### 79. Consider 2 sets of points P0,P1 describing lines (2d) and a set of points P, how to compute distance from each point j (P[j]) to each line i (P0[i],P1[i])? (★★★)"
      ]
    },
    {
      "cell_type": "code",
      "execution_count": null,
      "id": "dc2df37b",
      "metadata": {
        "id": "dc2df37b"
      },
      "outputs": [],
      "source": []
    },
    {
      "cell_type": "markdown",
      "id": "11e972c2",
      "metadata": {
        "id": "11e972c2"
      },
      "source": [
        "#### 80. Consider an arbitrary array, write a function that extract a subpart with a fixed shape and centered on a given element (pad with a `fill` value when necessary) (★★★)"
      ]
    },
    {
      "cell_type": "code",
      "execution_count": null,
      "id": "0291247f",
      "metadata": {
        "id": "0291247f"
      },
      "outputs": [],
      "source": []
    },
    {
      "cell_type": "markdown",
      "id": "93cfeab3",
      "metadata": {
        "id": "93cfeab3"
      },
      "source": [
        "#### 81. Consider an array Z = [1,2,3,4,5,6,7,8,9,10,11,12,13,14], how to generate an array R = [[1,2,3,4], [2,3,4,5], [3,4,5,6], ..., [11,12,13,14]]? (★★★)"
      ]
    },
    {
      "cell_type": "code",
      "execution_count": null,
      "id": "360de791",
      "metadata": {
        "id": "360de791"
      },
      "outputs": [],
      "source": []
    },
    {
      "cell_type": "markdown",
      "id": "4c15ceff",
      "metadata": {
        "id": "4c15ceff"
      },
      "source": [
        "#### 82. Compute a matrix rank (★★★)"
      ]
    },
    {
      "cell_type": "code",
      "execution_count": null,
      "id": "9a4272d2",
      "metadata": {
        "id": "9a4272d2"
      },
      "outputs": [],
      "source": []
    },
    {
      "cell_type": "markdown",
      "id": "1171cb84",
      "metadata": {
        "id": "1171cb84"
      },
      "source": [
        "#### 83. How to find the most frequent value in an array?"
      ]
    },
    {
      "cell_type": "code",
      "execution_count": null,
      "id": "33e951c8",
      "metadata": {
        "id": "33e951c8"
      },
      "outputs": [],
      "source": []
    },
    {
      "cell_type": "markdown",
      "id": "04f472aa",
      "metadata": {
        "id": "04f472aa"
      },
      "source": [
        "#### 84. Extract all the contiguous 3x3 blocks from a random 10x10 matrix (★★★)"
      ]
    },
    {
      "cell_type": "code",
      "execution_count": null,
      "id": "7aade14a",
      "metadata": {
        "id": "7aade14a"
      },
      "outputs": [],
      "source": []
    },
    {
      "cell_type": "markdown",
      "id": "52836346",
      "metadata": {
        "id": "52836346"
      },
      "source": [
        "#### 85. Create a 2D array subclass such that Z[i,j] == Z[j,i] (★★★)"
      ]
    },
    {
      "cell_type": "code",
      "execution_count": null,
      "id": "4df70318",
      "metadata": {
        "id": "4df70318"
      },
      "outputs": [],
      "source": []
    },
    {
      "cell_type": "markdown",
      "id": "78c43ee5",
      "metadata": {
        "id": "78c43ee5"
      },
      "source": [
        "#### 86. Consider a set of p matrices with shape (n,n) and a set of p vectors with shape (n,1). How to compute the sum of of the p matrix products at once? (result has shape (n,1)) (★★★)"
      ]
    },
    {
      "cell_type": "code",
      "execution_count": null,
      "id": "32fd2c3b",
      "metadata": {
        "id": "32fd2c3b"
      },
      "outputs": [],
      "source": []
    },
    {
      "cell_type": "markdown",
      "id": "158f9945",
      "metadata": {
        "id": "158f9945"
      },
      "source": [
        "#### 87. Consider a 16x16 array, how to get the block-sum (block size is 4x4)? (★★★)"
      ]
    },
    {
      "cell_type": "code",
      "execution_count": null,
      "id": "5a9b808f",
      "metadata": {
        "id": "5a9b808f"
      },
      "outputs": [],
      "source": []
    },
    {
      "cell_type": "markdown",
      "id": "2e0ad860",
      "metadata": {
        "id": "2e0ad860"
      },
      "source": [
        "#### 88. How to implement the Game of Life using numpy arrays? (★★★)"
      ]
    },
    {
      "cell_type": "code",
      "execution_count": null,
      "id": "574acff5",
      "metadata": {
        "id": "574acff5"
      },
      "outputs": [],
      "source": []
    },
    {
      "cell_type": "markdown",
      "id": "69a892fa",
      "metadata": {
        "id": "69a892fa"
      },
      "source": [
        "#### 89. How to get the n largest values of an array (★★★)"
      ]
    },
    {
      "cell_type": "code",
      "execution_count": null,
      "id": "21b2bd48",
      "metadata": {
        "id": "21b2bd48"
      },
      "outputs": [],
      "source": []
    },
    {
      "cell_type": "markdown",
      "id": "b55ccacc",
      "metadata": {
        "id": "b55ccacc"
      },
      "source": [
        "#### 90. Given an arbitrary number of vectors, build the cartesian product (every combinations of every item) (★★★)"
      ]
    },
    {
      "cell_type": "code",
      "execution_count": null,
      "id": "4b645da4",
      "metadata": {
        "id": "4b645da4"
      },
      "outputs": [],
      "source": []
    },
    {
      "cell_type": "markdown",
      "id": "89187a23",
      "metadata": {
        "id": "89187a23"
      },
      "source": [
        "#### 91. How to create a record array from a regular array? (★★★)"
      ]
    },
    {
      "cell_type": "code",
      "execution_count": null,
      "id": "da94c71a",
      "metadata": {
        "id": "da94c71a"
      },
      "outputs": [],
      "source": []
    },
    {
      "cell_type": "markdown",
      "id": "aa70d4ca",
      "metadata": {
        "id": "aa70d4ca"
      },
      "source": [
        "#### 92. Consider a large vector Z, compute Z to the power of 3 using 3 different methods (★★★)"
      ]
    },
    {
      "cell_type": "code",
      "execution_count": null,
      "id": "7cff1bf5",
      "metadata": {
        "id": "7cff1bf5"
      },
      "outputs": [],
      "source": []
    },
    {
      "cell_type": "markdown",
      "id": "5f79dd00",
      "metadata": {
        "id": "5f79dd00"
      },
      "source": [
        "#### 93. Consider two arrays A and B of shape (8,3) and (2,2). How to find rows of A that contain elements of each row of B regardless of the order of the elements in B? (★★★)"
      ]
    },
    {
      "cell_type": "code",
      "execution_count": null,
      "id": "20c105b2",
      "metadata": {
        "id": "20c105b2"
      },
      "outputs": [],
      "source": []
    },
    {
      "cell_type": "markdown",
      "id": "a80570cd",
      "metadata": {
        "id": "a80570cd"
      },
      "source": [
        "#### 94. Considering a 10x3 matrix, extract rows with unequal values (e.g. [2,2,3]) (★★★)"
      ]
    },
    {
      "cell_type": "code",
      "execution_count": null,
      "id": "84db8de1",
      "metadata": {
        "id": "84db8de1"
      },
      "outputs": [],
      "source": []
    },
    {
      "cell_type": "markdown",
      "id": "ba154f43",
      "metadata": {
        "id": "ba154f43"
      },
      "source": [
        "#### 95. Convert a vector of ints into a matrix binary representation (★★★)"
      ]
    },
    {
      "cell_type": "code",
      "execution_count": null,
      "id": "cfa96e1b",
      "metadata": {
        "id": "cfa96e1b"
      },
      "outputs": [],
      "source": []
    },
    {
      "cell_type": "markdown",
      "id": "420e2343",
      "metadata": {
        "id": "420e2343"
      },
      "source": [
        "#### 96. Given a two dimensional array, how to extract unique rows? (★★★)"
      ]
    },
    {
      "cell_type": "code",
      "execution_count": null,
      "id": "4680dfd0",
      "metadata": {
        "id": "4680dfd0"
      },
      "outputs": [],
      "source": []
    },
    {
      "cell_type": "markdown",
      "id": "89fef2f3",
      "metadata": {
        "id": "89fef2f3"
      },
      "source": [
        "#### 97. Considering 2 vectors A & B, write the einsum equivalent of inner, outer, sum, and mul function (★★★)"
      ]
    },
    {
      "cell_type": "code",
      "execution_count": null,
      "id": "bb9c14b2",
      "metadata": {
        "id": "bb9c14b2"
      },
      "outputs": [],
      "source": []
    },
    {
      "cell_type": "markdown",
      "id": "7ad5cc5f",
      "metadata": {
        "id": "7ad5cc5f"
      },
      "source": [
        "#### 98. Considering a path described by two vectors (X,Y), how to sample it using equidistant samples (★★★)?"
      ]
    },
    {
      "cell_type": "code",
      "execution_count": null,
      "id": "0899d1d5",
      "metadata": {
        "id": "0899d1d5"
      },
      "outputs": [],
      "source": []
    },
    {
      "cell_type": "markdown",
      "id": "2b69272e",
      "metadata": {
        "id": "2b69272e"
      },
      "source": [
        "#### 99. Given an integer n and a 2D array X, select from X the rows which can be interpreted as draws from a multinomial distribution with n degrees, i.e., the rows which only contain integers and which sum to n. (★★★)"
      ]
    },
    {
      "cell_type": "code",
      "execution_count": null,
      "id": "55c8b034",
      "metadata": {
        "id": "55c8b034"
      },
      "outputs": [],
      "source": []
    },
    {
      "cell_type": "markdown",
      "id": "59ab5516",
      "metadata": {
        "id": "59ab5516"
      },
      "source": [
        "#### 100. Compute bootstrapped 95% confidence intervals for the mean of a 1D array X (i.e., resample the elements of an array with replacement N times, compute the mean of each sample, and then compute percentiles over the means). (★★★)"
      ]
    },
    {
      "cell_type": "code",
      "execution_count": null,
      "id": "450877d8",
      "metadata": {
        "id": "450877d8"
      },
      "outputs": [],
      "source": []
    }
  ],
  "metadata": {
    "colab": {
      "provenance": []
    },
    "language_info": {
      "name": "python"
    },
    "kernelspec": {
      "name": "python3",
      "display_name": "Python 3"
    }
  },
  "nbformat": 4,
  "nbformat_minor": 5
}
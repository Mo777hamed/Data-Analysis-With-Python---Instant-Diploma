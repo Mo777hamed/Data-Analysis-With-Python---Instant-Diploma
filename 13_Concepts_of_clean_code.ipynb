{
  "nbformat": 4,
  "nbformat_minor": 0,
  "metadata": {
    "colab": {
      "provenance": []
    },
    "kernelspec": {
      "name": "python3",
      "display_name": "Python 3"
    },
    "language_info": {
      "name": "python"
    }
  },
  "cells": [
    {
      "cell_type": "markdown",
      "source": [
        "**1. Meaningful Names:** Use descriptive and meaningful names for variables, functions, and classes to enhance code readability."
      ],
      "metadata": {
        "id": "oz2XVP41IYs0"
      }
    },
    {
      "cell_type": "code",
      "execution_count": null,
      "metadata": {
        "id": "U9Pw2uLbHqCX"
      },
      "outputs": [],
      "source": [
        "# Bad example\n",
        "def calc(a, b):\n",
        "    x = a + b\n",
        "    return x"
      ]
    },
    {
      "cell_type": "code",
      "source": [
        "# Good example\n",
        "def calculate_sum(num1, num2):\n",
        "    sum_result = num1 + num2\n",
        "    return sum_result"
      ],
      "metadata": {
        "id": "E6tP2ILlJeUi"
      },
      "execution_count": null,
      "outputs": []
    },
    {
      "cell_type": "markdown",
      "source": [
        "**2. Single Responsibility Principle (SRP):** Each module, class, or function should have a single responsibility, making it easier to understand and maintain."
      ],
      "metadata": {
        "id": "cay7lxNPI89y"
      }
    },
    {
      "cell_type": "code",
      "source": [
        "# Bad example\n",
        "class User:\n",
        "    def __init__(self, name, email):\n",
        "        self.name = name\n",
        "        self.email = email\n",
        "\n",
        "    def save(self):\n",
        "        # Code to save user to the database\n",
        "        pass\n",
        "\n",
        "    def send_email(self, message):\n",
        "        # Code to send an email to the user\n",
        "        pass"
      ],
      "metadata": {
        "id": "K_uYCwWdJiiI"
      },
      "execution_count": null,
      "outputs": []
    },
    {
      "cell_type": "code",
      "source": [
        "# Good example\n",
        "class User:\n",
        "    def __init__(self, name, email):\n",
        "        self.name = name\n",
        "        self.email = email\n",
        "\n",
        "class UserRepository:\n",
        "    def save(self, user):\n",
        "        # Code to save user to the database\n",
        "        pass\n",
        "\n",
        "class EmailService:\n",
        "    def send_email(self, user, message):\n",
        "        # Code to send an email to the user\n",
        "        pass"
      ],
      "metadata": {
        "id": "kYVbP_GxJitv"
      },
      "execution_count": null,
      "outputs": []
    },
    {
      "cell_type": "markdown",
      "source": [
        "**3. Don't Repeat Yourself (DRY):** Avoid duplicating code by extracting common functionality into reusable functions or classes."
      ],
      "metadata": {
        "id": "LnVpjkJJJIhz"
      }
    },
    {
      "cell_type": "code",
      "source": [
        "# Bad example\n",
        "def calculate_area_of_rectangle(length, width):\n",
        "    area = length * width\n",
        "    print(\"The area of the rectangle is:\", area)\n",
        "\n",
        "def calculate_perimeter_of_rectangle(length, width):\n",
        "    perimeter = 2 * (length + width)\n",
        "    print(\"The perimeter of the rectangle is:\", perimeter)"
      ],
      "metadata": {
        "id": "JMAFrIZMJ27c"
      },
      "execution_count": null,
      "outputs": []
    },
    {
      "cell_type": "code",
      "source": [
        "# Good example\n",
        "def calculate_area_and_perimeter_of_rectangle(length, width):\n",
        "    area = length * width\n",
        "    perimeter = 2 * (length + width)\n",
        "    print(\"The area of the rectangle is:\", area)\n",
        "    print(\"The perimeter of the rectangle is:\", perimeter)"
      ],
      "metadata": {
        "id": "YUKK0ZgEJ2-Q"
      },
      "execution_count": null,
      "outputs": []
    },
    {
      "cell_type": "markdown",
      "source": [
        "**Note:** The Don't Repeat Yourself (DRY) principle and the Single Responsibility Principle (SRP) are complementary and can be applied together without conflict.\n",
        "\n",
        "The SRP focuses on ensuring that each module, class, or function has a single responsibility, making it easier to understand, maintain, and modify. It promotes separation of concerns and modular design.\n",
        "\n",
        "On the other hand, DRY emphasizes avoiding code duplication by extracting common functionality into reusable components. It encourages code reuse and promotes efficiency."
      ],
      "metadata": {
        "id": "EDgofnqWLoYB"
      }
    },
    {
      "cell_type": "code",
      "source": [
        "# Bad example\n",
        "class Rectangle:\n",
        "    def __init__(self, length, width):\n",
        "        self.length = length\n",
        "        self.width = width\n",
        "\n",
        "    def calculate_area(self):\n",
        "        area = self.length * self.width\n",
        "        print(\"The area of the rectangle is:\", area)\n",
        "\n",
        "    def calculate_perimeter(self):\n",
        "        perimeter = 2 * (self.length + self.width)\n",
        "        print(\"The perimeter of the rectangle is:\", perimeter)"
      ],
      "metadata": {
        "id": "zB8v5MCtLnNp"
      },
      "execution_count": null,
      "outputs": []
    },
    {
      "cell_type": "code",
      "source": [
        "# Good example\n",
        "class Rectangle:\n",
        "    def __init__(self, length, width):\n",
        "        self.length = length\n",
        "        self.width = width\n",
        "\n",
        "    def calculate_area(self):\n",
        "        area = self.length * self.width\n",
        "        return area\n",
        "\n",
        "    def calculate_perimeter(self):\n",
        "        perimeter = 2 * (self.length + self.width)\n",
        "        return perimeter\n",
        "\n",
        "class RectanglePrinter:\n",
        "    def print_area(self, area):\n",
        "        print(\"The area of the rectangle is:\", area)\n",
        "\n",
        "    def print_perimeter(self, perimeter):\n",
        "        print(\"The perimeter of the rectangle is:\", perimeter)"
      ],
      "metadata": {
        "id": "4guDmndQLoHh"
      },
      "execution_count": null,
      "outputs": []
    },
    {
      "cell_type": "markdown",
      "source": [
        "**4. Keep Functions and Methods Short:** Functions and methods should be concise and focused on a single task. This improves readability and makes it easier to understand and test."
      ],
      "metadata": {
        "id": "b0850PhpJxIw"
      }
    },
    {
      "cell_type": "code",
      "source": [
        "# Bad example\n",
        "def process_data(data):\n",
        "    # Code to preprocess the data\n",
        "    # ...\n",
        "    # Code to validate the data\n",
        "    # ...\n",
        "    # Code to transform the data\n",
        "    # ...\n",
        "    # Code to perform calculations\n",
        "    # ...\n",
        "    # Code to generate a report\n",
        "    # ...\n",
        "    # Code to save the data\n",
        "    # ...\n",
        "    # Code to send notifications\n",
        "    # ...\n",
        "    # Code to clean up resources\n",
        "    # ..."
      ],
      "metadata": {
        "id": "7mmC_dv1J3Qe"
      },
      "execution_count": null,
      "outputs": []
    },
    {
      "cell_type": "code",
      "source": [
        "# Good example\n",
        "def preprocess_data(data):\n",
        "    # Code to preprocess the data\n",
        "    # ...\n",
        "\n",
        "def validate_data(data):\n",
        "    # Code to validate the data\n",
        "    # ...\n",
        "\n",
        "def transform_data(data):\n",
        "    # Code to transform the data\n",
        "    # ...\n",
        "\n",
        "def perform_calculations(data):\n",
        "    # Code to perform calculations\n",
        "    # ...\n",
        "\n",
        "def generate_report(data):\n",
        "    # Code to generate a report\n",
        "    # ...\n",
        "\n",
        "def save_data(data):\n",
        "    # Code to save the data\n",
        "    # ...\n",
        "\n",
        "def send_notifications(data):\n",
        "    # Code to send notifications\n",
        "    # ...\n",
        "\n",
        "def clean_up_resources(data):\n",
        "    # Code to clean up resources\n",
        "    # ..."
      ],
      "metadata": {
        "id": "m-LNHu4IJ3TV"
      },
      "execution_count": null,
      "outputs": []
    },
    {
      "cell_type": "markdown",
      "source": [
        "**5. Avoid Deep Nesting:** Limit the level of indentation in your code to improve readability and reduce complexity."
      ],
      "metadata": {
        "id": "suC91fxwJxZ_"
      }
    },
    {
      "cell_type": "code",
      "source": [
        "# Bad example\n",
        "def process_data(data):\n",
        "    if data:\n",
        "        for item in data:\n",
        "            if item:\n",
        "                if item.is_valid():\n",
        "                    if item.is_processed():\n",
        "                        if item.needs_update():\n",
        "                            item.update()\n",
        "                        else:\n",
        "                            item.process()\n",
        "                    else:\n",
        "                        item.mark_as_processed()\n",
        "                else:\n",
        "                    item.mark_as_invalid()\n",
        "            else:\n",
        "                raise ValueError(\"Invalid item in data\")\n",
        "    else:\n",
        "        raise ValueError(\"Empty data\")\n",
        "# Good example\n",
        "def process_data(data):\n",
        "    if not data:\n",
        "        raise ValueError(\"Empty data\")\n",
        "\n",
        "    for item in data:\n",
        "        if not item:\n",
        "            raise ValueError(\"Invalid item in data\")\n",
        "\n",
        "        if not item.is_valid():\n",
        "            item.mark_as_invalid()\n",
        "            continue\n",
        "\n",
        "        if item.is_processed():\n",
        "            if item.needs_update():\n",
        "                item.update()\n",
        "            else:\n",
        "                item.process()\n",
        "        else:\n",
        "            item.mark_as_processed()"
      ],
      "metadata": {
        "id": "1ZVEjmDsJ3kD"
      },
      "execution_count": null,
      "outputs": []
    },
    {
      "cell_type": "code",
      "source": [
        "# Good example\n",
        "def process_data(data):\n",
        "    if not data:\n",
        "        raise ValueError(\"Empty data\")\n",
        "\n",
        "    for item in data:\n",
        "        if not item:\n",
        "            raise ValueError(\"Invalid item in data\")\n",
        "\n",
        "        if not item.is_valid():\n",
        "            item.mark_as_invalid()\n",
        "            continue\n",
        "\n",
        "        if item.is_processed():\n",
        "            if item.needs_update():\n",
        "                item.update()\n",
        "            else:\n",
        "                item.process()\n",
        "        else:\n",
        "            item.mark_as_processed()"
      ],
      "metadata": {
        "id": "Tu44UwZ0J4Ft"
      },
      "execution_count": null,
      "outputs": []
    },
    {
      "cell_type": "markdown",
      "source": [
        "**6. Comments and Documentation:** Use comments sparingly and only when necessary. Write self-explanatory code that doesn't require excessive comments. Document your code to provide context and usage instructions."
      ],
      "metadata": {
        "id": "Qh1fT2LwJxro"
      }
    },
    {
      "cell_type": "code",
      "source": [
        "# Bad example\n",
        "def calculate_area(length, width):\n",
        "    # Multiply length by width to get the area\n",
        "    area = length * width\n",
        "    return area"
      ],
      "metadata": {
        "id": "PVMNBCpUJ4Zu"
      },
      "execution_count": null,
      "outputs": []
    },
    {
      "cell_type": "code",
      "source": [
        "# Good example\n",
        "def calculate_area(length, width):\n",
        "    \"\"\"\n",
        "    Calculates the area of a rectangle.\n",
        "\n",
        "    Args:\n",
        "        length (float): The length of the rectangle.\n",
        "        width (float): The width of the rectangle.\n",
        "\n",
        "    Returns:\n",
        "        float: The calculated area of the rectangle.\n",
        "    \"\"\"\n",
        "    area = length * width\n",
        "    return area"
      ],
      "metadata": {
        "id": "W-lTmmrXJ4d0"
      },
      "execution_count": null,
      "outputs": []
    },
    {
      "cell_type": "markdown",
      "source": [
        "**7. Testability:** Write code that is easy to test by following principles like dependency injection, separation of concerns, and writing testable code.\n"
      ],
      "metadata": {
        "id": "JLW0UTxYJx3G"
      }
    },
    {
      "cell_type": "code",
      "source": [
        "# Bad example\n",
        "def calculate_average(numbers):\n",
        "    total = 0\n",
        "    count = 0\n",
        "    for num in numbers:\n",
        "        total += num\n",
        "        count += 1\n",
        "    average = total / count\n",
        "    return average"
      ],
      "metadata": {
        "id": "Xi1FsnmTJ4ym"
      },
      "execution_count": null,
      "outputs": []
    },
    {
      "cell_type": "code",
      "source": [
        "# Good example\n",
        "def calculate_average(numbers):\n",
        "    \"\"\"\n",
        "    Calculates the average of a list of numbers.\n",
        "\n",
        "    Args:\n",
        "        numbers (list): A list of numbers.\n",
        "\n",
        "    Returns:\n",
        "        float: The calculated average.\n",
        "    \"\"\"\n",
        "    if not numbers:\n",
        "        return 0\n",
        "\n",
        "    total = sum(numbers)\n",
        "    average = total / len(numbers)\n",
        "    return average"
      ],
      "metadata": {
        "id": "UtkEvjdBJ41v"
      },
      "execution_count": null,
      "outputs": []
    },
    {
      "cell_type": "markdown",
      "source": [
        "**8. Error Handling:** Handle errors gracefully and provide meaningful error messages to aid debugging and troubleshooting."
      ],
      "metadata": {
        "id": "odfnzPAFJyAH"
      }
    },
    {
      "cell_type": "code",
      "source": [
        "# Bad example\n",
        "def divide_numbers(a, b):\n",
        "    result = a / b\n",
        "    return result"
      ],
      "metadata": {
        "id": "YrAt1VigJ546"
      },
      "execution_count": null,
      "outputs": []
    },
    {
      "cell_type": "code",
      "source": [
        "# Good example\n",
        "def divide_numbers(a, b):\n",
        "    try:\n",
        "        result = a / b\n",
        "        return result\n",
        "    except ZeroDivisionError:\n",
        "        print(\"Error: Division by zero is not allowed.\")\n",
        "        return None"
      ],
      "metadata": {
        "id": "NicPX8nBJ58F"
      },
      "execution_count": null,
      "outputs": []
    },
    {
      "cell_type": "markdown",
      "source": [
        "**9. Use Version Control:** Utilize version control systems like Git to track changes, collaborate with others, and easily revert to previous versions if needed."
      ],
      "metadata": {
        "id": "o1wtlnRPJyKD"
      }
    },
    {
      "cell_type": "code",
      "source": [
        "$ git init\n",
        "$ git add .\n",
        "$ git commit -m \"Initial commit\""
      ],
      "metadata": {
        "id": "Wv6ZpViaJ6MR"
      },
      "execution_count": null,
      "outputs": []
    },
    {
      "cell_type": "markdown",
      "source": [
        "**10. Follow the Principle of Least Astonishment:** Code should behave in a way that is intuitive and predictable to users or other developers. Avoid surprising or unexpected behavior."
      ],
      "metadata": {
        "id": "KawdxRSNJyTF"
      }
    },
    {
      "cell_type": "code",
      "source": [
        "# Bad example\n",
        "def get_user():\n",
        "    # Retrieves user data from the database\n",
        "    ...\n",
        "\n",
        "def save_user(user):\n",
        "    # Saves the user data to the database\n",
        "    ..."
      ],
      "metadata": {
        "id": "KTnErRMjJ1kf"
      },
      "execution_count": null,
      "outputs": []
    },
    {
      "cell_type": "code",
      "source": [
        "# Good example\n",
        "def retrieve_user():\n",
        "    # Retrieves user data from the database\n",
        "    ...\n",
        "\n",
        "def persist_user(user):\n",
        "    # Saves the user data to the database\n",
        "    ..."
      ],
      "metadata": {
        "id": "iz6LMrZ8J1n5"
      },
      "execution_count": null,
      "outputs": []
    },
    {
      "cell_type": "markdown",
      "source": [
        "**11. Avoid Global Variables:** Global variables make code harder to reason about and test. Prefer passing variables as parameters or using local variables within functions."
      ],
      "metadata": {
        "id": "insMB_Q-Jyb6"
      }
    },
    {
      "cell_type": "code",
      "source": [
        "# Bad example\n",
        "total = 0\n",
        "\n",
        "def add_to_total(value):\n",
        "    global total\n",
        "    total += value"
      ],
      "metadata": {
        "id": "Xsh_Eo0LJ05V"
      },
      "execution_count": null,
      "outputs": []
    },
    {
      "cell_type": "code",
      "source": [
        "# Good example\n",
        "def calculate_total(values):\n",
        "    total = 0\n",
        "    for value in values:\n",
        "        total += value\n",
        "    return total"
      ],
      "metadata": {
        "id": "DeRugq0vJ08n"
      },
      "execution_count": null,
      "outputs": []
    },
    {
      "cell_type": "markdown",
      "source": [
        "**12. Test Your Code:** Writing automated tests helps ensure code correctness, catch bugs early, and provides a safety net for refactoring. Aim for good test coverage."
      ],
      "metadata": {
        "id": "Xh0XUo_3JylH"
      }
    },
    {
      "cell_type": "code",
      "source": [
        "import unittest\n",
        "\n",
        "def add_numbers(a, b):\n",
        "    return a + b\n",
        "\n",
        "class TestAddNumbers(unittest.TestCase):\n",
        "    def test_add_numbers(self):\n",
        "        result = add_numbers(2, 3)\n",
        "        self.assertEqual(result, 5)\n",
        "\n",
        "if __name__ == '__main__':\n",
        "    unittest.main()"
      ],
      "metadata": {
        "id": "qDGXez5cJ0Dt"
      },
      "execution_count": null,
      "outputs": []
    },
    {
      "cell_type": "markdown",
      "source": [
        "**13.Avoid Magic Numbers:** Magic numbers are hard-coded numeric values that lack context and make the code less readable and maintainable. Instead, assign these values to named constants or variables with descriptive names."
      ],
      "metadata": {
        "id": "2w0Pas0yJyv0"
      }
    },
    {
      "cell_type": "code",
      "source": [
        "# Bad example\n",
        "def calculate_discount(price):\n",
        "    return price * 0.2"
      ],
      "metadata": {
        "id": "s_9eKrpSJzSY"
      },
      "execution_count": null,
      "outputs": []
    },
    {
      "cell_type": "code",
      "source": [
        "# Good example\n",
        "DISCOUNT_RATE = 0.2\n",
        "\n",
        "def calculate_discount(price):\n",
        "    return price * DISCOUNT_RATE"
      ],
      "metadata": {
        "id": "IOdzYPb3JzTI"
      },
      "execution_count": null,
      "outputs": []
    }
  ]
}
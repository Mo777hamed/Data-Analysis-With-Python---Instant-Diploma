{
  "nbformat": 4,
  "nbformat_minor": 0,
  "metadata": {
    "colab": {
      "provenance": []
    },
    "kernelspec": {
      "name": "python3",
      "display_name": "Python 3"
    },
    "language_info": {
      "name": "python"
    }
  },
  "cells": [
    {
      "cell_type": "code",
      "execution_count": 1,
      "metadata": {
        "id": "mi0R2szj1kli"
      },
      "outputs": [],
      "source": [
        "import pandas as pd"
      ]
    },
    {
      "cell_type": "code",
      "source": [
        "df = pd.read_excel(\"weather_data.xlsx\", sheet_name=None)\n",
        "df"
      ],
      "metadata": {
        "colab": {
          "base_uri": "https://localhost:8080/"
        },
        "id": "UWJqQ-mz_lw4",
        "outputId": "8e703145-278c-4d97-e296-ef4bc2f48835"
      },
      "execution_count": 2,
      "outputs": [
        {
          "output_type": "execute_result",
          "data": {
            "text/plain": [
              "{'January':          day  temperature  windspeed  event\n",
              " 0 2017-01-01           32          6   Rain\n",
              " 1 2017-01-02           35          7  Sunny\n",
              " 2 2017-01-03           28          2   Snow,\n",
              " 'February':                    day  temperature  windspeed     event\n",
              " 0  2017-01-01 00:00:00           32          6      Rain\n",
              " 1  2017-01-02 00:00:00           35          7     Sunny\n",
              " 2  2017-01-03 00:00:00           28          2  No Event\n",
              " 3                  NaN          NaN        NaN       NaN\n",
              " 4                  NaN          NaN        NaN       NaN\n",
              " 5                  day  temperature  windspeed     event\n",
              " 6  2017-02-01 00:00:00           27         14    Cloudy\n",
              " 7  2017-02-02 00:00:00           26         12     Rainy\n",
              " 8  2017-02-03 00:00:00           30          7     Sunny,\n",
              " 'March':          day  temperature  windspeed  event\n",
              " 0 2017-03-01           36          9  Sunny\n",
              " 1 2017-03-02           33         13  Rainy\n",
              " 2 2017-03-03           32          4  Humid}"
            ]
          },
          "metadata": {},
          "execution_count": 2
        }
      ]
    }
  ]
}
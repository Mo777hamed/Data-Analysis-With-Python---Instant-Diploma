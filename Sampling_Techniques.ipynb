{
  "nbformat": 4,
  "nbformat_minor": 0,
  "metadata": {
    "colab": {
      "provenance": []
    },
    "kernelspec": {
      "name": "python3",
      "display_name": "Python 3"
    },
    "language_info": {
      "name": "python"
    }
  },
  "cells": [
    {
      "cell_type": "markdown",
      "source": [
        "# ***Probability sampling methods:***\n",
        "Probability sampling means that every member of the population has a chance of being selected. It is mainly used in quantitative research."
      ],
      "metadata": {
        "id": "ysO2U84SqZWv"
      }
    },
    {
      "cell_type": "markdown",
      "source": [
        "**1. Simple random sampling:** In a simple random sample, every member of the population has an equal chance of being selected. Your sampling frame should include the whole population.\n",
        "\n",
        "To conduct this type of sampling, you can use tools like random number generators or other techniques that are based entirely on chance."
      ],
      "metadata": {
        "id": "2s2zAomOqZyQ"
      }
    },
    {
      "cell_type": "markdown",
      "source": [
        "**Example: Simple random sampling**\n",
        "\n",
        "You want to select a simple random sample of 1000 employees of a social media marketing company:\n",
        "\n",
        "1.You assign a number to every employee in the company database from 1 to 1000\n",
        "\n",
        "2.Use a random number generator to select 100 numbers   \n",
        "\n"
      ],
      "metadata": {
        "id": "mmYxa68DqaBo"
      }
    },
    {
      "cell_type": "markdown",
      "source": [
        "**2. Systematic sampling:**\n",
        "\n",
        "Systematic sampling is similar to simple random sampling, but it is usually slightly easier to conduct. Every member of the population is listed with a number, but instead of randomly generating numbers, individuals are chosen at regular intervals."
      ],
      "metadata": {
        "id": "BVLWw9EfqaYg"
      }
    },
    {
      "cell_type": "markdown",
      "source": [
        "**Example: Systematic sampling**\n",
        "\n",
        "\n",
        "\n",
        "1. All employees of the company are listed in alphabetical order\n",
        "2. From the first 10 numbers, you randomly select a starting point: number 6\n",
        "2. From number 6 onwards, every 10th person on the list is selected (6, 16, 26, 36, and so on),\n",
        "4. You end up with a sample of 100 people."
      ],
      "metadata": {
        "id": "iUvbTm7TsMTC"
      }
    },
    {
      "cell_type": "markdown",
      "source": [
        "**3. Stratified sampling:**\n",
        "\n",
        "Stratified sampling involves dividing the population into subpopulations that may differ in important ways. It allows you draw more precise conclusions by ensuring that every subgroup is properly represented in the sample.\n",
        "\n",
        "To use this sampling method, you divide the population into subgroups (called strata) based on the relevant characteristic (e.g., gender identity, age range, income bracket, job role).\n",
        "\n",
        "Based on the overall proportions of the population, you calculate how many people should be sampled from each subgroup. Then you use random or systematic sampling to select a sample from each subgroup."
      ],
      "metadata": {
        "id": "-OADzsKysMUa"
      }
    },
    {
      "cell_type": "markdown",
      "source": [
        "**Example: Stratified sampling**\n",
        "\n",
        "The company has 800 female employees and 200 male employees. You want to ensure that the sample reflects the gender balance of the company, So:\n",
        "   \n",
        "\n",
        "1. you sort the population into two strata based on gender\n",
        "2. Then you use random sampling on each group, selecting 80 women and 20 men, which gives you a representative sample of 100 people.\n",
        "\n"
      ],
      "metadata": {
        "id": "KJOGPz-NsMXJ"
      }
    },
    {
      "cell_type": "markdown",
      "source": [
        "**4. Cluster sampling:**\n",
        "\n",
        "Cluster sampling also involves dividing the population into subgroups, but each subgroup should have similar characteristics to the whole sample. Instead of sampling individuals from each subgroup, you randomly select entire subgroups.\n",
        "\n",
        "If it is practically possible, you might include every individual from each sampled cluster. If the clusters themselves are large, you can also sample individuals from within each cluster using one of the techniques above. This is called **multistage sampling**.\n",
        "\n",
        "This method is good for dealing with large and dispersed populations, but there is more risk of error in the sample, as there could be substantial differences between clusters. It’s difficult to guarantee that the sampled clusters are really representative of the whole population."
      ],
      "metadata": {
        "id": "EVmJwE6ssMYV"
      }
    },
    {
      "cell_type": "markdown",
      "source": [],
      "metadata": {
        "id": "Jp3LaWo7uQS7"
      }
    },
    {
      "cell_type": "markdown",
      "source": [
        "**Example: Cluster sampling**\n",
        "\n",
        "The company has offices in 10 cities across the country (all with roughly the same number of employees in similar roles). You don’t have the capacity to travel to every office to collect your data, so you use random sampling to select 3 offices these are your clusters."
      ],
      "metadata": {
        "id": "WnlSXjoLuQUR"
      }
    },
    {
      "cell_type": "markdown",
      "source": [
        "**Non-probability sampling methods:**\n",
        "\n",
        "In a non-probability sample, individuals are selected based on non-random criteria, and not every individual has a chance of being included."
      ],
      "metadata": {
        "id": "sR-xtnCRufgi"
      }
    },
    {
      "cell_type": "markdown",
      "source": [
        "**1. Convenience sampling:**\n",
        "\n",
        "A convenience sample simply includes the individuals who happen to be most accessible to the researcher.\n",
        "\n",
        "This is an easy and inexpensive way to gather initial data, but there is no way to tell if the sample is representative of the population, so it can’t produce **generalizable results**.\n",
        "\n",
        "Convenience samples are at risk for both **sampling bias** and **selection bias**."
      ],
      "metadata": {
        "id": "tOACiJ1Lufju"
      }
    },
    {
      "cell_type": "markdown",
      "source": [
        "**Example: Convenience sampling**\n",
        "\n",
        "You are researching opinions about student support services in your university, so after each of your classes, you ask your fellow students to complete a survey on the topic. This is a convenient way to gather data, but as you only surveyed students taking the same classes as you at the same level, the sample is not representative of all the students at your university."
      ],
      "metadata": {
        "id": "GMbdYiIIufmj"
      }
    },
    {
      "cell_type": "markdown",
      "source": [
        "**2. Voluntary response sampling:**\n",
        "\n",
        "Similar to a convenience sample, a voluntary response sample is mainly based on ease of access. Instead of the researcher choosing participants and directly contacting them, people volunteer themselves (e.g. by responding to a public online survey).\n",
        "\n",
        "Voluntary response samples are always at least somewhat **biased**, as some people will inherently be more likely to volunteer than others, leading to **self-selection bias**."
      ],
      "metadata": {
        "id": "h5SZd39Eufu4"
      }
    },
    {
      "cell_type": "markdown",
      "source": [
        "**Example: Voluntary response sampling**\n",
        "\n",
        "You send out the survey to all students at your university and a lot of students decide to complete it. This can certainly give you some insight into the topic, but the people who responded are more likely to be those who have strong opinions about the student support services, so you can’t be sure that their opinions are representative of all students."
      ],
      "metadata": {
        "id": "V8zSCvUuxQbS"
      }
    },
    {
      "cell_type": "markdown",
      "source": [
        "**3. Purposive sampling:**\n",
        "\n",
        "This type of sampling, also known as judgement sampling, involves the researcher using their expertise to select a sample that is most useful to the purposes of the research.\n",
        "\n",
        "It is often used in **qualitative research**, where the researcher wants to gain detailed knowledge about a specific phenomenon rather than make statistical inferences, or where the population is very small and specific. An effective purposive sample must have clear criteria and rationale for inclusion. Always make sure to describe your **inclusion and exclusion criteria** and beware of **observer bias** affecting your arguments."
      ],
      "metadata": {
        "id": "vEnYTCHUxQc1"
      }
    },
    {
      "cell_type": "markdown",
      "source": [
        "**Example: Purposive sampling**\n",
        "\n",
        "You want to know more about the opinions and experiences of disabled students at your university, so you purposefully select a number of students with different support needs in order to gather a varied range of data on their experiences with student services."
      ],
      "metadata": {
        "id": "ecWqZHFb0QNm"
      }
    },
    {
      "cell_type": "markdown",
      "source": [
        "**4. Snowball sampling:**\n",
        "\n",
        "If the population is hard to access, snowball sampling can be used to recruit participants via other participants. The number of people you have access to “snowballs” as you get in contact with more people. The downside here is also representativeness, as you have no way of knowing how representative your sample is due to the reliance on participants recruiting others. This can lead to **sampling bias**."
      ],
      "metadata": {
        "id": "iGLnkLiD0QZ5"
      }
    },
    {
      "cell_type": "markdown",
      "source": [
        "**Example: Snowball sampling**\n",
        "\n",
        "You are researching experiences of homelessness in your city. Since there is no list of all homeless people in the city, probability sampling isn’t possible. You meet one person who agrees to participate in the research, and she puts you in contact with other homeless people that she knows in the area."
      ],
      "metadata": {
        "id": "8gMmAbzs0QjT"
      }
    },
    {
      "cell_type": "markdown",
      "source": [
        "**5. Quota sampling:**\n",
        "\n",
        "Quota sampling relies on the non-random selection of a predetermined number or proportion of units. This is called a quota.\n",
        "\n",
        "You first divide the population into mutually exclusive subgroups (called strata) and then recruit sample units until you reach your quota. These units share specific characteristics, determined by you prior to forming your strata. The aim of quota sampling is to control what or who makes up your sample."
      ],
      "metadata": {
        "id": "w-YpPL-40lCS"
      }
    },
    {
      "cell_type": "markdown",
      "source": [
        "**Example: Quota sampling**\n",
        "\n",
        "You want to gauge consumer interest in a new produce delivery service in Boston, focused on dietary preferences. You divide the population into meat eaters, vegetarians, and vegans, drawing a sample of 1000 people. Since the company wants to cater to all consumers, you set a quota of 200 people for each dietary group. In this way, all dietary preferences are equally represented in your research, and you can easily compare these groups.You continue recruiting until you reach the quota of 200 participants for each subgroup."
      ],
      "metadata": {
        "id": "cv1wOHzu0lDx"
      }
    }
  ]
}
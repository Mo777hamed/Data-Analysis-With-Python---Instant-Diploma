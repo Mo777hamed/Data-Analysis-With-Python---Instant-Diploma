{
  "nbformat": 4,
  "nbformat_minor": 0,
  "metadata": {
    "colab": {
      "provenance": []
    },
    "kernelspec": {
      "name": "python3",
      "display_name": "Python 3"
    },
    "language_info": {
      "name": "python"
    }
  },
  "cells": [
    {
      "cell_type": "markdown",
      "source": [
        "# **Simple Imputer**"
      ],
      "metadata": {
        "id": "XRGv3UnGapSj"
      }
    },
    {
      "cell_type": "markdown",
      "source": [
        "In pandas, the **SimpleImputer** is not a built-in function. However, it is a class provided by the scikit-learn library, which can be used for imputing missing values in a pandas DataFrame."
      ],
      "metadata": {
        "id": "Lk5DdZ5Ra6Hi"
      }
    },
    {
      "cell_type": "markdown",
      "source": [
        "The **SimpleImputer** class is part of scikit-learn's preprocessing module **(sklearn.impute)**. It provides a simple strategy for imputing missing values, such as replacing them with the mean, median, most frequent value, or a constant."
      ],
      "metadata": {
        "id": "pegmbo3qa_Xz"
      }
    },
    {
      "cell_type": "markdown",
      "source": [
        "**Example: Simple Imputer**"
      ],
      "metadata": {
        "id": "UQRwxpala_cq"
      }
    },
    {
      "cell_type": "code",
      "execution_count": 1,
      "metadata": {
        "colab": {
          "base_uri": "https://localhost:8080/"
        },
        "id": "Qq18qm_uZzP8",
        "outputId": "4d9d89b7-8d5b-4bc6-f267-b589099be471"
      },
      "outputs": [
        {
          "output_type": "stream",
          "name": "stdout",
          "text": [
            "     A    B      C\n",
            "0  1.0  7.5  10.00\n",
            "1  2.0  6.0  11.00\n",
            "2  3.0  7.0  12.00\n",
            "3  4.0  8.0  11.75\n",
            "4  5.0  9.0  14.00\n"
          ]
        }
      ],
      "source": [
        "import pandas as pd\n",
        "from sklearn.impute import SimpleImputer\n",
        "\n",
        "data = {'A': [1, 2, None, 4, 5],\n",
        "        'B': [None, 6, 7, 8, 9],\n",
        "        'C': [10, 11, 12, None, 14]}\n",
        "df = pd.DataFrame(data)\n",
        "\n",
        "imputer = SimpleImputer(strategy='mean')\n",
        "\n",
        "df_imputed = pd.DataFrame(imputer.fit_transform(df), columns=df.columns)\n",
        "\n",
        "print(df_imputed)"
      ]
    }
  ]
}